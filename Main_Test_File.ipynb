{
 "cells": [
  {
   "cell_type": "code",
   "execution_count": 1,
   "id": "757ce1d4",
   "metadata": {},
   "outputs": [],
   "source": [
    "import pandas as pd\n",
    "import numpy as np\n",
    "import matplotlib.pyplot as plt\n",
    "import seaborn as sns\n",
    "import ast\n",
    "import torch\n",
    "from langdetect import detect\n",
    "# from huggingface_hub import snapshot_download\n",
    "# from transformers import AutoTokenizer, AutoModelForCausalLM\n",
    "from googletrans import Translator\n",
    "from thefuzz import fuzz"
   ]
  },
  {
   "cell_type": "code",
   "execution_count": 2,
   "id": "2c017964",
   "metadata": {},
   "outputs": [],
   "source": [
    "# More Accurate Translator (Recommended to use in the main version of this project)\n",
    "# def load_translator_model():\n",
    "#     model_id = \"scb10x/Typhoon-translate-4b\"\n",
    "#     model_snap_shot = snapshot_download(model_id)\n",
    "#     # load tokenizer and model from the local path\n",
    "#     tokenizer = AutoTokenizer.from_pretrained(model_snap_shot)\n",
    "#     model = AutoModelForCausalLM.from_pretrained(\n",
    "#         model_snap_shot,\n",
    "#         torch_dtype=torch.bfloat16,\n",
    "#         device_map=\"auto\",\n",
    "#     )\n",
    "#     return (tokenizer, model)\n",
    "\n",
    "# def translate_eng_to_thai(tokenizer, model, text):\n",
    "#     messages = [\n",
    "#     {\"role\": \"system\", \"content\": \"Translate the following text into Thai.\"},\n",
    "#     {\"role\": \"user\", \"content\": f\"{text}\"},\n",
    "#     ]\n",
    "\n",
    "#     input_ids = tokenizer.apply_chat_template(\n",
    "#         messages,\n",
    "#         add_generation_prompt=True,\n",
    "#         return_tensors=\"pt\",\n",
    "#     ).to(model.device)\n",
    "\n",
    "#     outputs = model.generate(\n",
    "#         input_ids,\n",
    "#         max_new_tokens=8192,\n",
    "#         temperature=0.2,\n",
    "#     )\n",
    "#     response = outputs[0][input_ids.shape[-1]:]\n",
    "#     return tokenizer.decode(response, skip_special_tokens=True)\n",
    "\n",
    "# (tokenizer, model) = load_translator_model()"
   ]
  },
  {
   "cell_type": "markdown",
   "id": "d52f792b",
   "metadata": {},
   "source": [
    "## Data Preparation Steps (Load, Extract, Clean, Transform)"
   ]
  },
  {
   "cell_type": "code",
   "execution_count": 3,
   "id": "61b82c20",
   "metadata": {},
   "outputs": [
    {
     "data": {
      "application/vnd.microsoft.datawrangler.viewer.v0+json": {
       "columns": [
        {
         "name": "index",
         "rawType": "int64",
         "type": "integer"
        },
        {
         "name": "gender",
         "rawType": "object",
         "type": "string"
        },
        {
         "name": "age",
         "rawType": "int64",
         "type": "integer"
        },
        {
         "name": "summary",
         "rawType": "object",
         "type": "string"
        },
        {
         "name": "search_term",
         "rawType": "object",
         "type": "string"
        }
       ],
       "ref": "064da956-4ef7-4ce6-b556-bd79ddc3822a",
       "rows": [
        [
         "0",
         "male",
         "28",
         "{\"diseases\": [], \"procedures\": [], \"no_symptoms\": [], \"idk_symptoms\": [], \"yes_symptoms\": [{\"text\": \"เสมหะ\", \"answers\": [\"ลักษณะ เสมหะเปลี่ยนสีเหลือง/เขียว\"]}, {\"text\": \"ไอ\", \"answers\": [\"ระยะเวลา ไม่เกิน 1 สัปดาห์ (ไม่เกิน 7 วัน)\"]}, {\"text\": \"การรักษาก่อนหน้า\", \"answers\": [\"การรักษาก่อนหน้า ไม่เคย\"]}]}",
         "มีเสมหะ, ไอ"
        ],
        [
         "1",
         "male",
         "27",
         "{\"diseases\": [], \"procedures\": [], \"no_symptoms\": [], \"idk_symptoms\": [], \"yes_symptoms\": [{\"text\": \"ไอ\", \"answers\": [\"ระยะเวลา 1-3 สัปดาห์\", \"ลักษณะ ไอไม่มีเสมหะ ไอแห้งๆ หรือไอเสมหะสีขาว\"]}, {\"text\": \"น้ำมูกไหล\", \"answers\": [\"ระยะเวลา 10 - 90 วัน\", \"ประวัติ ATK ทำแล้ว ได้ผลเป็นลบ\"]}, {\"text\": \"การรักษาก่อนหน้า\", \"answers\": [\"การรักษาก่อนหน้า เคยทานยาเองแล้วไม่ดีขึ้น\"]}]}",
         "ไอ, น้ำมูกไหล"
        ],
        [
         "2",
         "female",
         "26",
         "{\"diseases\": [], \"procedures\": [], \"no_symptoms\": [], \"idk_symptoms\": [], \"yes_symptoms\": [{\"text\": \"ปวดท้อง\", \"answers\": [\"บริเวณ รอบๆสะดือ\", \"ระยะเวลา ตั้งแต่ 1 วัน ถึง 1 สัปดาห์\", \"ระดับ ปวดจนไม่สามารถทำงานได้\"]}, {\"text\": \"การรักษาก่อนหน้า\", \"answers\": [\"การรักษาก่อนหน้า ไม่เคย\"]}]}",
         "ปวดท้อง"
        ],
        [
         "3",
         "male",
         "42",
         "{\"diseases\": [], \"procedures\": [], \"no_symptoms\": [], \"idk_symptoms\": [], \"yes_symptoms\": [{\"text\": \"น้ำมูกไหล\", \"answers\": [\"ระยะเวลา น้อยกว่า 10 วัน\", \"ประวัติ ATK ยังไม่ได้ทำ\", \"ประวัติใกล้ชิดผู้ป่วยโควิด-19 ไม่ได้ใกล้ชิด\"]}, {\"text\": \"การรักษาก่อนหน้า\", \"answers\": [\"การรักษาก่อนหน้า ไม่เคย\"]}]}",
         "น้ำมูกไหล"
        ],
        [
         "4",
         "female",
         "40",
         "{\"diseases\": [], \"procedures\": [], \"no_symptoms\": [], \"idk_symptoms\": [], \"yes_symptoms\": [{\"text\": \"ตาแห้ง\", \"answers\": []}, {\"text\": \"การรักษาก่อนหน้า\", \"answers\": [\"การรักษาก่อนหน้า ไม่เคย\"]}]}",
         "ตาแห้ง"
        ],
        [
         "5",
         "female",
         "49",
         "{\"diseases\": [], \"procedures\": [], \"no_symptoms\": [], \"idk_symptoms\": [], \"yes_symptoms\": [{\"text\": \"ปวดกระดูก\", \"answers\": [\"ระดับ ปวดจนไม่สามารถทำกิจกรรมใดใดได้เลย\"]}, {\"text\": \"การรักษาก่อนหน้า\", \"answers\": [\"การรักษาก่อนหน้า ไม่เคย\"]}]}",
         "ปวดกระดูก"
        ],
        [
         "6",
         "female",
         "44",
         "{\"diseases\": [], \"procedures\": [], \"no_symptoms\": [], \"idk_symptoms\": [], \"yes_symptoms\": [{\"text\": \"น้ำมูกไหล\", \"answers\": [\"ระยะเวลา น้อยกว่า 10 วัน\", \"ประวัติ ATK ยังไม่ได้ทำ\"]}, {\"text\": \"ไอ\", \"answers\": [\"ระยะเวลา ไม่เกิน 1 สัปดาห์ (ไม่เกิน 7 วัน)\", \"ลักษณะ ไอไม่มีเสมหะ ไอแห้งๆ หรือไอเสมหะสีขาว\", \"ประวัติใกล้ชิดผู้ป่วยโควิด-19 ไม่ได้ใกล้ชิด\"]}, {\"text\": \"การรักษาก่อนหน้า\", \"answers\": [\"การรักษาก่อนหน้า ไม่เคย\"]}]}",
         "น้ำมูกไหล, คันจมูกจามบ่อย, ไอ, "
        ],
        [
         "7",
         "female",
         "18",
         "{\"diseases\": [], \"procedures\": [], \"no_symptoms\": [], \"idk_symptoms\": [], \"yes_symptoms\": [{\"text\": \"ปวดท้อง\", \"answers\": [\"บริเวณ รอบๆสะดือ\", \"ระยะเวลา ตั้งแต่ 1 วัน ถึง 1 สัปดาห์\", \"ระดับ ปวดเล็กน้อย ส่งผลต่อการดำเนินกิจวัตรประจำวันบ้าง\"]}, {\"text\": \"การรักษาก่อนหน้า\", \"answers\": [\"การรักษาก่อนหน้า ไม่เคย\"]}]}",
         "ปวดท้อง"
        ],
        [
         "8",
         "female",
         "40",
         "{\"diseases\": [], \"procedures\": [], \"no_symptoms\": [], \"idk_symptoms\": [], \"yes_symptoms\": [{\"text\": \"เจ็บคอ\", \"answers\": [\"บริเวณ ในลำคอ\", \"ประวัติ ATK ยังไม่ได้ทำ\"]}, {\"text\": \"ไอ\", \"answers\": [\"ระยะเวลา ไม่เกิน 1 สัปดาห์ (ไม่เกิน 7 วัน)\", \"ลักษณะ ไอมีเสมหะเปลี่ยนสี\", \"ประวัติใกล้ชิดผู้ป่วยโควิด-19 ไม่ได้ใกล้ชิด\"]}, {\"text\": \"การรักษาก่อนหน้า\", \"answers\": [\"การรักษาก่อนหน้า ไม่เคย\"]}]}",
         "คันคอ, ไอ"
        ],
        [
         "9",
         "male",
         "48",
         "{\"diseases\": [], \"procedures\": [], \"no_symptoms\": [], \"idk_symptoms\": [], \"yes_symptoms\": [{\"text\": \"ไอ\", \"answers\": [\"ระยะเวลา ไม่เกิน 1 สัปดาห์ (ไม่เกิน 7 วัน)\", \"ลักษณะ ไอไม่มีเสมหะ ไอแห้งๆ หรือไอเสมหะสีขาว\"]}, {\"text\": \"การรักษาก่อนหน้า\", \"answers\": [\"การรักษาก่อนหน้า ไม่เคย\"]}]}",
         "ไอ"
        ],
        [
         "10",
         "female",
         "30",
         "{\"diseases\": [], \"procedures\": [], \"no_symptoms\": [{\"text\": \"ปวดท้อง\", \"answers\": []}, {\"text\": \"ประจำเดือนมาน้อย, ประจำเดือนขาด\", \"answers\": []}], \"idk_symptoms\": [], \"yes_symptoms\": [{\"text\": \"อาเจียน\", \"answers\": []}, {\"text\": \"การรักษาก่อนหน้า\", \"answers\": [\"การรักษาก่อนหน้า ไม่เคย\"]}]}",
         "อาเจียน"
        ],
        [
         "11",
         "female",
         "49",
         "{\"diseases\": [], \"procedures\": [], \"no_symptoms\": [], \"idk_symptoms\": [], \"yes_symptoms\": [{\"text\": \"ปวดเมื่อยกล้ามเนื้อ\", \"answers\": []}, {\"text\": \"การรักษาก่อนหน้า\", \"answers\": [\"การรักษาก่อนหน้า ไม่เคย\"]}]}",
         "ปวดเมื่อยกล้ามเนื้อทั่วๆ"
        ],
        [
         "12",
         "female",
         "34",
         "{\"diseases\": [], \"procedures\": [], \"no_symptoms\": [], \"idk_symptoms\": [], \"yes_symptoms\": [{\"text\": \"เสมหะไหลลงคอ\", \"answers\": []}, {\"text\": \"เสมหะ\", \"answers\": [\"ลักษณะ เสมหะเปลี่ยนสีเหลือง/เขียว\"]}, {\"text\": \"การรักษาก่อนหน้า\", \"answers\": [\"การรักษาก่อนหน้า เคยรักษามาก่อน\"]}]}",
         "เสมหะไหลลงคอ, มีเสมหะ"
        ],
        [
         "13",
         "female",
         "37",
         "{\"diseases\": [], \"procedures\": [], \"no_symptoms\": [], \"idk_symptoms\": [], \"yes_symptoms\": [{\"text\": \"Fever\", \"answers\": [\"Duration 1-3 days\", \"Grade Low grade (between 37.5-38.2 C)\", \"History ATK No, I haven't done.\", \"History close contact to COVID-19 No\"]}, {\"text\": \"Previous treatment\", \"answers\": [\"Previous treatment No, i've never got any treatment for this condition before.\"]}]}",
         "Fever"
        ],
        [
         "14",
         "female",
         "37",
         "{\"diseases\": [], \"procedures\": [], \"no_symptoms\": [], \"idk_symptoms\": [], \"yes_symptoms\": [{\"text\": \"น้ำมูกไหล\", \"answers\": [\"ระยะเวลา น้อยกว่า 10 วัน\", \"ประวัติ ATK ยังไม่ได้ทำ\", \"ประวัติใกล้ชิดผู้ป่วยโควิด-19 ไม่ได้ใกล้ชิด\"]}, {\"text\": \"คันจมูก\", \"answers\": []}, {\"text\": \"การรักษาก่อนหน้า\", \"answers\": [\"การรักษาก่อนหน้า ไม่เคย\"]}]}",
         "น้ำมูกไหล, คันจมูก"
        ],
        [
         "15",
         "female",
         "37",
         "{\"diseases\": [], \"procedures\": [], \"no_symptoms\": [], \"idk_symptoms\": [], \"yes_symptoms\": [{\"text\": \"บวมตามร่างกาย\", \"answers\": [\"ตำแหน่ง บวมที่ข้อ เช่น ข้อเข่า ข้อเท้า\"]}, {\"text\": \"ปวดข้อเท้า\", \"answers\": [\"ระดับ ปวดเล็กน้อย ส่งผลต่อการดำเนินกิจวัตรประจำวันบ้าง\"]}, {\"text\": \"ปวดข้อ\", \"answers\": [\"จำนวนข้อที่ปวด 1 ข้อ\", \"ประวัติอุบัติเหตุ มี\"]}, {\"text\": \"ประวัติอุบัติเหตุ\", \"answers\": [\"ระยะเวลา 3-7 วัน\"]}, {\"text\": \"การรักษาก่อนหน้า\", \"answers\": [\"การรักษาก่อนหน้า เคยรักษามาก่อน\"]}]}",
         "บวม, ปวดข้อเท้า"
        ],
        [
         "16",
         "female",
         "54",
         "{\"diseases\": [], \"procedures\": [], \"no_symptoms\": [], \"idk_symptoms\": [], \"yes_symptoms\": [{\"text\": \"ไอ\", \"answers\": [\"ระยะเวลา ไม่เกิน 1 สัปดาห์ (ไม่เกิน 7 วัน)\", \"ลักษณะ ไอมีเสมหะเปลี่ยนสี\"]}, {\"text\": \"เสมหะ\", \"answers\": []}, {\"text\": \"การรักษาก่อนหน้า\", \"answers\": [\"การรักษาก่อนหน้า ไม่เคย\"]}]}",
         "ไอ, มีเสมหะ"
        ],
        [
         "17",
         "female",
         "45",
         "{\"diseases\": [], \"procedures\": [], \"no_symptoms\": [{\"text\": \"ประจำเดือนมาน้อย, ประจำเดือนขาด\", \"answers\": []}], \"idk_symptoms\": [], \"yes_symptoms\": [{\"text\": \"ปวดท้อง\", \"answers\": [\"บริเวณ รอบๆสะดือ\", \"ระยะเวลา น้อยกว่า 1 วัน\", \"ระดับ ปวดเล็กน้อย ส่งผลต่อการดำเนินกิจวัตรประจำวันบ้าง\"]}, {\"text\": \"อาเจียน\", \"answers\": []}, {\"text\": \"การรักษาก่อนหน้า\", \"answers\": [\"การรักษาก่อนหน้า ไม่เคย\"]}]}",
         "ปวดท้อง, อาเจียน"
        ],
        [
         "18",
         "male",
         "34",
         "{\"diseases\": [], \"procedures\": [], \"no_symptoms\": [], \"idk_symptoms\": [], \"yes_symptoms\": [{\"text\": \"Fever\", \"answers\": [\"Duration 4-7 days\", \"Grade Unknown\", \"History ATK No, I haven't done.\", \"History close contact to COVID-19 No\"]}, {\"text\": \"Previous treatment\", \"answers\": [\"Previous treatment No, i've never got any treatment for this condition before.\"]}]}",
         "Fever"
        ],
        [
         "19",
         "male",
         "44",
         "{\"diseases\": [], \"procedures\": [], \"no_symptoms\": [], \"idk_symptoms\": [], \"yes_symptoms\": [{\"text\": \"เจ็บคอ\", \"answers\": [\"บริเวณ ในลำคอ\", \"ประวัติ ATK ยังไม่ได้ทำ\", \"ประวัติใกล้ชิดผู้ป่วยโควิด-19 ไม่ได้ใกล้ชิด\"]}, {\"text\": \"การรักษาก่อนหน้า\", \"answers\": [\"การรักษาก่อนหน้า ไม่เคย\"]}]}",
         "เจ็บคอ"
        ],
        [
         "20",
         "female",
         "43",
         "{\"diseases\": [], \"procedures\": [], \"no_symptoms\": [], \"idk_symptoms\": [], \"yes_symptoms\": [{\"text\": \"ท้องเสีย\", \"answers\": [\"ลักษณะ อุจจาระเป็นน้ำ หรือเป็นเนื้อเหลว\"]}, {\"text\": \"การรักษาก่อนหน้า\", \"answers\": [\"การรักษาก่อนหน้า ไม่เคย\"]}]}",
         "ท้องเสีย"
        ],
        [
         "21",
         "male",
         "29",
         "{\"diseases\": [], \"procedures\": [], \"no_symptoms\": [], \"idk_symptoms\": [], \"yes_symptoms\": [{\"text\": \"ปวดข้อมือ\", \"answers\": [\"ระดับ ปวดจนไม่สามารถทำงานได้\"]}, {\"text\": \"ปวดข้อ\", \"answers\": [\"ประวัติอุบัติเหตุ ไม่มี\", \"จำนวนข้อที่ปวด 1 ข้อ\"]}, {\"text\": \"การรักษาก่อนหน้า\", \"answers\": [\"การรักษาก่อนหน้า ไม่เคย\"]}]}",
         "ปวดข้อมือ"
        ],
        [
         "22",
         "female",
         "30",
         "{\"diseases\": [], \"procedures\": [], \"no_symptoms\": [], \"idk_symptoms\": [], \"yes_symptoms\": [{\"text\": \"เป็นไข้\", \"answers\": [\"ระยะเวลา 1-3 วัน\", \"ระดับ ไม่ทราบ\", \"ประวัติ ATK ทำแล้ว ได้ผลเป็นลบ\"]}, {\"text\": \"เจ็บคอ\", \"answers\": [\"บริเวณ ในลำคอ\"]}, {\"text\": \"การรักษาก่อนหน้า\", \"answers\": [\"การรักษาก่อนหน้า ไม่เคย\"]}]}",
         "ไข้, เจ็บคอ"
        ],
        [
         "23",
         "male",
         "38",
         "{\"diseases\": [], \"procedures\": [], \"no_symptoms\": [{\"text\": \"ประวัติความดันสูง\", \"answers\": []}, {\"text\": \"ประวัติเบาหวาน\", \"answers\": []}, {\"text\": \"ประวัติไขมันสูง\", \"answers\": []}, {\"text\": \"ประวัติโรคหัวใจ\", \"answers\": []}], \"idk_symptoms\": [], \"yes_symptoms\": [{\"text\": \"หายใจมีเสียงวี๊ด\", \"answers\": []}, {\"text\": \"หายใจหอบเหนื่อย\", \"answers\": [\"ระดับ เหนื่อยเล็กน้อย เหนื่อยง่ายขึ้นเวลาออกแรง\", \"ปัจจัยที่ทำให้เหนื่อยมากขึ้น แย่ลงเวลาเจอฝุ่นควัน\"]}, {\"text\": \"การรักษาก่อนหน้า\", \"answers\": [\"การรักษาก่อนหน้า เคยรักษามาก่อน\"]}]}",
         "หายใจมีเสียงวี๊ด, หายใจหอบเหนื่อย"
        ],
        [
         "24",
         "male",
         "37",
         "{\"diseases\": [], \"procedures\": [], \"no_symptoms\": [{\"text\": \"ท้องผูก\", \"answers\": []}], \"idk_symptoms\": [], \"yes_symptoms\": [{\"text\": \"ถ่ายเป็นเลือด\", \"answers\": [\"ปวดเวลาถ่าย ไม่ปวด\"]}, {\"text\": \"การรักษาก่อนหน้า\", \"answers\": [\"การรักษาก่อนหน้า ไม่เคย\"]}]}",
         "ถ่ายเป็นเลือดสด"
        ],
        [
         "25",
         "male",
         "34",
         "{\"diseases\": [], \"procedures\": [], \"no_symptoms\": [], \"idk_symptoms\": [], \"yes_symptoms\": [{\"text\": \"เจ็บคอ\", \"answers\": [\"บริเวณ ในลำคอ\", \"ประวัติ ATK ยังไม่ได้ทำ\", \"ประวัติใกล้ชิดผู้ป่วยโควิด-19 ไม่ได้ใกล้ชิด\"]}, {\"text\": \"การรักษาก่อนหน้า\", \"answers\": [\"การรักษาก่อนหน้า ไม่เคย\"]}]}",
         "เจ็บคอ"
        ],
        [
         "26",
         "female",
         "34",
         "{\"diseases\": [], \"procedures\": [], \"no_symptoms\": [], \"idk_symptoms\": [], \"yes_symptoms\": [{\"text\": \"เจ็บคอ\", \"answers\": [\"บริเวณ ในลำคอ\", \"ประวัติ ATK ยังไม่ได้ทำ\", \"ประวัติใกล้ชิดผู้ป่วยโควิด-19 ไม่ได้ใกล้ชิด\"]}, {\"text\": \"การรักษาก่อนหน้า\", \"answers\": [\"การรักษาก่อนหน้า ไม่เคย\"]}]}",
         "เจ็บคอ"
        ],
        [
         "27",
         "female",
         "44",
         "{\"diseases\": [], \"procedures\": [], \"no_symptoms\": [], \"idk_symptoms\": [], \"yes_symptoms\": [{\"text\": \"ปวดหลัง\", \"answers\": [\"ตำแหน่ง ตรงกลางตามแนวกระดูกสันหลังส่วนบน\", \"ร้าว ไม่มีร้าวไปที่ใด\", \"ชา ไม่ชา\", \"อ่อนแรง ไม่อ่อนแรง\", \"ระดับ ปวดเล็กน้อย ส่งผลต่อการดำเนินกิจวัตรประจำวันบ้าง\"]}, {\"text\": \"การรักษาก่อนหน้า\", \"answers\": [\"การรักษาก่อนหน้า เคยรักษามาก่อน\"]}]}",
         "ปวดหลัง"
        ],
        [
         "28",
         "male",
         "36",
         "{\"diseases\": [], \"procedures\": [], \"no_symptoms\": [], \"idk_symptoms\": [], \"yes_symptoms\": [{\"text\": \"เสียงแหบ\", \"answers\": []}, {\"text\": \"การรักษาก่อนหน้า\", \"answers\": [\"การรักษาก่อนหน้า เคยทานยาเองแล้วไม่ดีขึ้น\"]}]}",
         "เสียงแหบ"
        ],
        [
         "29",
         "female",
         "51",
         "{\"diseases\": [], \"procedures\": [], \"no_symptoms\": [], \"idk_symptoms\": [], \"yes_symptoms\": [{\"text\": \"ไอ\", \"answers\": [\"ระยะเวลา 1-3 สัปดาห์\", \"ลักษณะ ไอปนเลือด\"]}, {\"text\": \"การรักษาก่อนหน้า\", \"answers\": [\"การรักษาก่อนหน้า เคยทานยาเองแล้วไม่ดีขึ้น\"]}]}",
         "ไอ"
        ],
        [
         "30",
         "female",
         "26",
         "{\"diseases\": [], \"procedures\": [], \"no_symptoms\": [], \"idk_symptoms\": [], \"yes_symptoms\": [{\"text\": \"ไอ\", \"answers\": [\"ระยะเวลา 1-3 สัปดาห์\", \"ลักษณะ ไอไม่มีเสมหะ ไอแห้งๆ หรือไอเสมหะสีขาว\"]}, {\"text\": \"การรักษาก่อนหน้า\", \"answers\": [\"การรักษาก่อนหน้า เคยทานยาเองแล้วไม่ดีขึ้น\"]}]}",
         "ไอ"
        ],
        [
         "31",
         "male",
         "35",
         "{\"diseases\": [], \"procedures\": [], \"no_symptoms\": [], \"idk_symptoms\": [], \"yes_symptoms\": [{\"text\": \"ปวดหัว\", \"answers\": [\"ระดับ ปวดเล็กน้อย ส่งผลต่อการดำเนินกิจวัตรประจำวันบ้าง\", \"ตำแหน่ง ปวดทั่วๆหัว หรือปวดทั้งสองข้างสลับกัน\"]}, {\"text\": \"ชา\", \"answers\": [\"ตำแหน่ง ชาเฉพาะส่วนปลายมือ หรือปลายเท้า\"]}, {\"text\": \"การรักษาก่อนหน้า\", \"answers\": [\"การรักษาก่อนหน้า ไม่เคย\"]}]}",
         "ปวดหัว, ชา"
        ],
        [
         "32",
         "male",
         "65",
         "{\"diseases\": [], \"procedures\": [], \"no_symptoms\": [], \"idk_symptoms\": [], \"yes_symptoms\": [{\"text\": \"เจ็บคอ\", \"answers\": [\"บริเวณ ในลำคอ\", \"ประวัติ ATK ยังไม่ได้ทำ\", \"ประวัติใกล้ชิดผู้ป่วยโควิด-19 ไม่ได้ใกล้ชิด\"]}, {\"text\": \"การรักษาก่อนหน้า\", \"answers\": [\"การรักษาก่อนหน้า ไม่เคย\"]}]}",
         "เจ็บคอ"
        ],
        [
         "33",
         "female",
         "31",
         "{\"diseases\": [], \"procedures\": [], \"no_symptoms\": [], \"idk_symptoms\": [], \"yes_symptoms\": [{\"text\": \"เจ็บคอ\", \"answers\": [\"บริเวณ ในลำคอ\", \"ประวัติ ATK ทำแล้ว ได้ผลเป็นลบ\"]}, {\"text\": \"การรักษาก่อนหน้า\", \"answers\": [\"การรักษาก่อนหน้า ไม่เคย\"]}]}",
         "เจ็บคอ"
        ],
        [
         "34",
         "male",
         "67",
         "{\"diseases\": [], \"procedures\": [], \"no_symptoms\": [], \"idk_symptoms\": [], \"yes_symptoms\": [{\"text\": \"diarrhea\", \"answers\": [\"characteristic i don't know\"]}, {\"text\": \"Previous treatment\", \"answers\": [\"Previous treatment No, i've never got any treatment for this condition before.\"]}]}",
         "diarrhea"
        ],
        [
         "35",
         "female",
         "29",
         "{\"diseases\": [], \"procedures\": [], \"no_symptoms\": [], \"idk_symptoms\": [], \"yes_symptoms\": [{\"text\": \"ปากบวม หน้าบวม\", \"answers\": []}, {\"text\": \"แผลในปาก\", \"answers\": [\"บริเวณ ริมฝีปาก\"]}, {\"text\": \"การรักษาก่อนหน้า\", \"answers\": [\"การรักษาก่อนหน้า ไม่เคย\"]}]}",
         "ปากบวม, แผลในช่องปาก"
        ],
        [
         "36",
         "female",
         "37",
         "{\"diseases\": [], \"procedures\": [], \"no_symptoms\": [], \"idk_symptoms\": [], \"yes_symptoms\": [{\"text\": \"ตาบวม\", \"answers\": [\"ข้าง ตาเดียว\"]}, {\"text\": \"การรักษาก่อนหน้า\", \"answers\": [\"การรักษาก่อนหน้า เคยรักษามาก่อน\"]}]}",
         "ตาบวม"
        ],
        [
         "37",
         "male",
         "34",
         "{\"diseases\": [], \"procedures\": [], \"no_symptoms\": [], \"idk_symptoms\": [], \"yes_symptoms\": [{\"text\": \"ก้อนที่ผิวหนัง\", \"answers\": [\"ลักษณะ ก้อนที่ผิวหนัง\"]}, {\"text\": \"การรักษาก่อนหน้า\", \"answers\": [\"การรักษาก่อนหน้า เคยรักษามาก่อน\"]}]}",
         "ก้อนที่ผิวหนัง"
        ],
        [
         "38",
         "female",
         "37",
         "{\"diseases\": [], \"procedures\": [], \"no_symptoms\": [], \"idk_symptoms\": [], \"yes_symptoms\": [{\"text\": \"น้ำมูกไหล\", \"answers\": [\"ระยะเวลา น้อยกว่า 10 วัน\", \"ประวัติ ATK ทำแล้ว ได้ผลเป็นลบ\"]}, {\"text\": \"การรักษาก่อนหน้า\", \"answers\": [\"การรักษาก่อนหน้า เคยทานยาเองแล้วไม่ดีขึ้น\"]}]}",
         "น้ำมูกไหล"
        ],
        [
         "39",
         "female",
         "31",
         "{\"diseases\": [], \"procedures\": [], \"no_symptoms\": [], \"idk_symptoms\": [], \"yes_symptoms\": [{\"text\": \"เสมหะ\", \"answers\": [\"ลักษณะ เสมหะสีขาว\"]}, {\"text\": \"ไอ\", \"answers\": [\"ระยะเวลา ไม่เกิน 1 สัปดาห์ (ไม่เกิน 7 วัน)\"]}, {\"text\": \"การรักษาก่อนหน้า\", \"answers\": [\"การรักษาก่อนหน้า เคยทานยาเองแล้วไม่ดีขึ้น\"]}]}",
         "มีเสมหะ, ไอ"
        ],
        [
         "40",
         "female",
         "54",
         "{\"diseases\": [], \"procedures\": [], \"no_symptoms\": [], \"idk_symptoms\": [], \"yes_symptoms\": [{\"text\": \"ไอ\", \"answers\": [\"ระยะเวลา ไม่เกิน 1 สัปดาห์ (ไม่เกิน 7 วัน)\", \"ลักษณะ ไอไม่มีเสมหะ ไอแห้งๆ หรือไอเสมหะสีขาว\"]}, {\"text\": \"เสมหะ\", \"answers\": []}, {\"text\": \"การรักษาก่อนหน้า\", \"answers\": [\"การรักษาก่อนหน้า ไม่เคย\"]}]}",
         "ไอ, มีเสมหะ"
        ],
        [
         "41",
         "female",
         "45",
         "{\"diseases\": [], \"procedures\": [], \"no_symptoms\": [], \"idk_symptoms\": [], \"yes_symptoms\": [{\"text\": \"น้ำมูกไหล\", \"answers\": [\"ระยะเวลา น้อยกว่า 10 วัน\", \"ประวัติ ATK ยังไม่ได้ทำ\"]}, {\"text\": \"ไอ\", \"answers\": [\"ระยะเวลา ไม่เกิน 1 สัปดาห์ (ไม่เกิน 7 วัน)\", \"ลักษณะ ไอไม่มีเสมหะ ไอแห้งๆ หรือไอเสมหะสีขาว\", \"ประวัติใกล้ชิดผู้ป่วยโควิด-19 ไม่ได้ใกล้ชิด\"]}, {\"text\": \"การรักษาก่อนหน้า\", \"answers\": [\"การรักษาก่อนหน้า ไม่เคย\"]}]}",
         "ไอ, มีเสมหะน้ำมูกไหล, "
        ],
        [
         "42",
         "male",
         "39",
         "{\"diseases\": [], \"procedures\": [], \"no_symptoms\": [], \"idk_symptoms\": [], \"yes_symptoms\": [{\"text\": \"ท้องผูก\", \"answers\": []}, {\"text\": \"ปวดท้อง\", \"answers\": [\"บริเวณ รอบๆสะดือ\", \"ระยะเวลา ตั้งแต่ 1 วัน ถึง 1 สัปดาห์\", \"ระดับ ปวดจนไม่สามารถทำงานได้\"]}, {\"text\": \"การรักษาก่อนหน้า\", \"answers\": [\"การรักษาก่อนหน้า ไม่เคย\"]}]}",
         "ท้องผูก, ปวดท้อง"
        ],
        [
         "43",
         "female",
         "38",
         "{\"diseases\": [], \"procedures\": [], \"no_symptoms\": [{\"text\": \"เป็นไข้\", \"answers\": []}], \"idk_symptoms\": [], \"yes_symptoms\": [{\"text\": \"ปวดเอว\", \"answers\": [\"ระดับ ปวดจนไม่สามารถทำงานได้\", \"ลักษณะปวดเป็นลูกๆ ไม่ใช่\", \"ขยับเอี้ยวตัว แย่ลง ไม่ใช่\", \"ประวัติอุบัติเหตุ ไม่ทราบ\"]}, {\"text\": \"ปวดหลัง\", \"answers\": [\"ร้าว ไม่มีร้าวไปที่ใด\", \"ชา ไม่ชา\", \"อ่อนแรง ไม่ทราบ\"]}, {\"text\": \"การรักษาก่อนหน้า\", \"answers\": [\"การรักษาก่อนหน้า ไม่เคย\"]}]}",
         "ปวดบั้นเอว, ปวดหลัง"
        ],
        [
         "44",
         "male",
         "39",
         "{\"diseases\": [], \"procedures\": [], \"no_symptoms\": [], \"idk_symptoms\": [], \"yes_symptoms\": [{\"text\": \"เป็นไข้\", \"answers\": [\"ระยะเวลา 1-3 วัน\", \"ระดับ ไข้ปานกลาง (38.3-39.0 องศาเศลเซียส)\", \"ประวัติ ATK ยังไม่ได้ทำ\"]}, {\"text\": \"ไอ\", \"answers\": [\"ระยะเวลา ไม่เกิน 1 สัปดาห์ (ไม่เกิน 7 วัน)\", \"ลักษณะ ไอไม่มีเสมหะ ไอแห้งๆ หรือไอเสมหะสีขาว\", \"ประวัติใกล้ชิดผู้ป่วยโควิด-19 ไม่ได้ใกล้ชิด\"]}, {\"text\": \"การรักษาก่อนหน้า\", \"answers\": [\"การรักษาก่อนหน้า ไม่เคย\"]}]}",
         "ไข้, ไอ"
        ],
        [
         "45",
         "female",
         "44",
         "{\"diseases\": [], \"procedures\": [], \"no_symptoms\": [], \"idk_symptoms\": [], \"yes_symptoms\": [{\"text\": \"ไอ\", \"answers\": [\"ระยะเวลา 1-3 สัปดาห์\", \"ลักษณะ ไอไม่มีเสมหะ ไอแห้งๆ หรือไอเสมหะสีขาว\"]}, {\"text\": \"น้ำมูกไหล\", \"answers\": [\"ระยะเวลา น้อยกว่า 10 วัน\", \"ประวัติ ATK ยังไม่ได้ทำ\", \"ประวัติใกล้ชิดผู้ป่วยโควิด-19 ไม่ได้ใกล้ชิด\"]}, {\"text\": \"การรักษาก่อนหน้า\", \"answers\": [\"การรักษาก่อนหน้า เคยทานยาเองแล้วไม่ดีขึ้น\"]}]}",
         "ไอ, น้ำมูกไหลมีเสมหะ, "
        ],
        [
         "46",
         "female",
         "37",
         "{\"diseases\": [], \"procedures\": [], \"no_symptoms\": [], \"idk_symptoms\": [], \"yes_symptoms\": [{\"text\": \"เสมหะ\", \"answers\": [\"ลักษณะ เสมหะสีขาว\"]}, {\"text\": \"น้ำมูกไหล\", \"answers\": [\"ระยะเวลา น้อยกว่า 10 วัน\", \"ประวัติ ATK ยังไม่ได้ทำ\", \"ประวัติใกล้ชิดผู้ป่วยโควิด-19 ไม่ได้ใกล้ชิด\"]}, {\"text\": \"การรักษาก่อนหน้า\", \"answers\": [\"การรักษาก่อนหน้า ไม่เคย\"]}]}",
         "มีเสมหะ, น้ำมูกไหลคัดจมูก, "
        ],
        [
         "47",
         "female",
         "23",
         "{\"diseases\": [], \"procedures\": [], \"no_symptoms\": [], \"idk_symptoms\": [], \"yes_symptoms\": [{\"text\": \"เป็นไข้\", \"answers\": [\"ระยะเวลา 1-3 วัน\", \"ระดับ ไข้ปานกลาง (38.3-39.0 องศาเศลเซียส)\", \"ประวัติ ATK ยังไม่ได้ทำ\"]}, {\"text\": \"เจ็บคอ\", \"answers\": [\"บริเวณ ในลำคอ\", \"ประวัติใกล้ชิดผู้ป่วยโควิด-19 ไม่ได้ใกล้ชิด\"]}, {\"text\": \"การรักษาก่อนหน้า\", \"answers\": [\"การรักษาก่อนหน้า ไม่เคย\"]}]}",
         "ไข้, เจ็บคอ"
        ],
        [
         "48",
         "female",
         "40",
         "{\"diseases\": [], \"procedures\": [], \"no_symptoms\": [], \"idk_symptoms\": [], \"yes_symptoms\": [{\"text\": \"ปวดข้อ\", \"answers\": [\"ตำแหน่ง ข้อศอก\", \"จำนวนข้อที่ปวด 1 ข้อ\", \"ระดับ ปวดเล็กน้อย ส่งผลต่อการดำเนินกิจวัตรประจำวันบ้าง\", \"ประวัติอุบัติเหตุ ไม่ทราบ\"]}, {\"text\": \"ปวดเมื่อยกล้ามเนื้อ\", \"answers\": []}, {\"text\": \"การรักษาก่อนหน้า\", \"answers\": [\"การรักษาก่อนหน้า ไม่เคย\"]}]}",
         "ปวดข้อ, ปวดเมื่อยกล้ามเนื้อทั่วๆ"
        ],
        [
         "49",
         "male",
         "44",
         "{\"diseases\": [], \"procedures\": [], \"no_symptoms\": [], \"idk_symptoms\": [], \"yes_symptoms\": [{\"text\": \"ท้องเสีย\", \"answers\": [\"ลักษณะ อุจจาระเป็นน้ำ หรือเป็นเนื้อเหลว\"]}, {\"text\": \"ปวดท้อง\", \"answers\": [\"บริเวณ รอบๆสะดือ\", \"ระยะเวลา ตั้งแต่ 1 วัน ถึง 1 สัปดาห์\", \"ระดับ ปวดจนไม่สามารถทำงานได้\"]}, {\"text\": \"การรักษาก่อนหน้า\", \"answers\": [\"การรักษาก่อนหน้า ไม่เคย\"]}]}",
         "ท้องเสีย, ปวดท้อง"
        ]
       ],
       "shape": {
        "columns": 4,
        "rows": 1000
       }
      },
      "text/html": [
       "<div>\n",
       "<style scoped>\n",
       "    .dataframe tbody tr th:only-of-type {\n",
       "        vertical-align: middle;\n",
       "    }\n",
       "\n",
       "    .dataframe tbody tr th {\n",
       "        vertical-align: top;\n",
       "    }\n",
       "\n",
       "    .dataframe thead th {\n",
       "        text-align: right;\n",
       "    }\n",
       "</style>\n",
       "<table border=\"1\" class=\"dataframe\">\n",
       "  <thead>\n",
       "    <tr style=\"text-align: right;\">\n",
       "      <th></th>\n",
       "      <th>gender</th>\n",
       "      <th>age</th>\n",
       "      <th>summary</th>\n",
       "      <th>search_term</th>\n",
       "    </tr>\n",
       "  </thead>\n",
       "  <tbody>\n",
       "    <tr>\n",
       "      <th>0</th>\n",
       "      <td>male</td>\n",
       "      <td>28</td>\n",
       "      <td>{\"diseases\": [], \"procedures\": [], \"no_symptom...</td>\n",
       "      <td>มีเสมหะ, ไอ</td>\n",
       "    </tr>\n",
       "    <tr>\n",
       "      <th>1</th>\n",
       "      <td>male</td>\n",
       "      <td>27</td>\n",
       "      <td>{\"diseases\": [], \"procedures\": [], \"no_symptom...</td>\n",
       "      <td>ไอ, น้ำมูกไหล</td>\n",
       "    </tr>\n",
       "    <tr>\n",
       "      <th>2</th>\n",
       "      <td>female</td>\n",
       "      <td>26</td>\n",
       "      <td>{\"diseases\": [], \"procedures\": [], \"no_symptom...</td>\n",
       "      <td>ปวดท้อง</td>\n",
       "    </tr>\n",
       "    <tr>\n",
       "      <th>3</th>\n",
       "      <td>male</td>\n",
       "      <td>42</td>\n",
       "      <td>{\"diseases\": [], \"procedures\": [], \"no_symptom...</td>\n",
       "      <td>น้ำมูกไหล</td>\n",
       "    </tr>\n",
       "    <tr>\n",
       "      <th>4</th>\n",
       "      <td>female</td>\n",
       "      <td>40</td>\n",
       "      <td>{\"diseases\": [], \"procedures\": [], \"no_symptom...</td>\n",
       "      <td>ตาแห้ง</td>\n",
       "    </tr>\n",
       "    <tr>\n",
       "      <th>...</th>\n",
       "      <td>...</td>\n",
       "      <td>...</td>\n",
       "      <td>...</td>\n",
       "      <td>...</td>\n",
       "    </tr>\n",
       "    <tr>\n",
       "      <th>995</th>\n",
       "      <td>male</td>\n",
       "      <td>38</td>\n",
       "      <td>{\"diseases\": [], \"procedures\": [], \"no_symptom...</td>\n",
       "      <td>บวม, ปวดข้อ</td>\n",
       "    </tr>\n",
       "    <tr>\n",
       "      <th>996</th>\n",
       "      <td>male</td>\n",
       "      <td>33</td>\n",
       "      <td>{\"diseases\": [], \"procedures\": [], \"no_symptom...</td>\n",
       "      <td>เจ็บคอ</td>\n",
       "    </tr>\n",
       "    <tr>\n",
       "      <th>997</th>\n",
       "      <td>male</td>\n",
       "      <td>45</td>\n",
       "      <td>{\"diseases\": [], \"procedures\": [], \"no_symptom...</td>\n",
       "      <td>ไข้</td>\n",
       "    </tr>\n",
       "    <tr>\n",
       "      <th>998</th>\n",
       "      <td>female</td>\n",
       "      <td>73</td>\n",
       "      <td>{\"diseases\": [], \"procedures\": [], \"no_symptom...</td>\n",
       "      <td>ไข้</td>\n",
       "    </tr>\n",
       "    <tr>\n",
       "      <th>999</th>\n",
       "      <td>male</td>\n",
       "      <td>31</td>\n",
       "      <td>{\"diseases\": [], \"procedures\": [], \"no_symptom...</td>\n",
       "      <td>ผื่น</td>\n",
       "    </tr>\n",
       "  </tbody>\n",
       "</table>\n",
       "<p>1000 rows × 4 columns</p>\n",
       "</div>"
      ],
      "text/plain": [
       "     gender  age                                            summary  \\\n",
       "0      male   28  {\"diseases\": [], \"procedures\": [], \"no_symptom...   \n",
       "1      male   27  {\"diseases\": [], \"procedures\": [], \"no_symptom...   \n",
       "2    female   26  {\"diseases\": [], \"procedures\": [], \"no_symptom...   \n",
       "3      male   42  {\"diseases\": [], \"procedures\": [], \"no_symptom...   \n",
       "4    female   40  {\"diseases\": [], \"procedures\": [], \"no_symptom...   \n",
       "..      ...  ...                                                ...   \n",
       "995    male   38  {\"diseases\": [], \"procedures\": [], \"no_symptom...   \n",
       "996    male   33  {\"diseases\": [], \"procedures\": [], \"no_symptom...   \n",
       "997    male   45  {\"diseases\": [], \"procedures\": [], \"no_symptom...   \n",
       "998  female   73  {\"diseases\": [], \"procedures\": [], \"no_symptom...   \n",
       "999    male   31  {\"diseases\": [], \"procedures\": [], \"no_symptom...   \n",
       "\n",
       "       search_term  \n",
       "0      มีเสมหะ, ไอ  \n",
       "1    ไอ, น้ำมูกไหล  \n",
       "2          ปวดท้อง  \n",
       "3        น้ำมูกไหล  \n",
       "4           ตาแห้ง  \n",
       "..             ...  \n",
       "995    บวม, ปวดข้อ  \n",
       "996         เจ็บคอ  \n",
       "997            ไข้  \n",
       "998            ไข้  \n",
       "999           ผื่น  \n",
       "\n",
       "[1000 rows x 4 columns]"
      ]
     },
     "execution_count": 3,
     "metadata": {},
     "output_type": "execute_result"
    }
   ],
   "source": [
    "df = pd.read_excel('./Data/[CONFIDENTIAL] AI symptom picker data (Agnos candidate assignment).xlsx', sheet_name=['ai_symptom_picker'])\n",
    "df = df['ai_symptom_picker']\n",
    "df"
   ]
  },
  {
   "cell_type": "code",
   "execution_count": 4,
   "id": "30483213",
   "metadata": {},
   "outputs": [],
   "source": [
    "def load_translator_model():\n",
    "    return Translator()\n",
    "\n",
    "def translate_eng_to_thai(translator, text):\n",
    "    return translator.translate(text, src='en', dest='th')\n",
    "\n",
    "def extracted_relevant_symptoms(translator, summary_dict):\n",
    "    summary_dict = ast.literal_eval(summary_dict)\n",
    "    yes_symptoms = summary_dict['yes_symptoms']\n",
    "    # print(yes_symptoms)\n",
    "    yes_symptoms_list = []\n",
    "    lang_flag = 0\n",
    "    for i in yes_symptoms:\n",
    "        if detect(i['text']) != 'th':\n",
    "            # i['text'] = translate_eng_to_thai(translator, i['text'])\n",
    "            lang_flag = 1\n",
    "            break\n",
    "        if i['text'] == 'การรักษาก่อนหน้า' or ('treatment' in i['text']) or ('History' in i['text']) or ('ประวัติ' in i['text']):\n",
    "            continue\n",
    "        yes_symptoms_list.append(i['text'])\n",
    "    \n",
    "    if lang_flag == 1:\n",
    "        eng_symptoms_list = []\n",
    "        translated_symptoms_list = []\n",
    "        for j in yes_symptoms:\n",
    "            if j['text'] == 'การรักษาก่อนหน้า' or ('treatment' in j['text']) or ('History' in j['text']) or ('ประวัติ' in j['text']):\n",
    "                continue\n",
    "            eng_symptoms_list.append(j['text'])\n",
    "        translated_symptoms_list = translate_eng_to_thai(translator, eng_symptoms_list)\n",
    "        translated_symptoms_list = [k.text for k in translated_symptoms_list]\n",
    "        # print(translated_symptoms_list)\n",
    "        return translated_symptoms_list\n",
    "            \n",
    "    return yes_symptoms_list\n",
    "\n",
    "    \n",
    "def extracted_symptoms_with_description(): # Phase 2\n",
    "    pass\n",
    "\n",
    "translator = load_translator_model()\n",
    "df['yes_symptoms'] = np.vectorize(extracted_relevant_symptoms, otypes=['object'])(translator, df['summary'])"
   ]
  },
  {
   "cell_type": "code",
   "execution_count": 5,
   "id": "d41509ce",
   "metadata": {},
   "outputs": [],
   "source": [
    "def formatted_search_term(translator, search_term):\n",
    "    if detect(search_term) != 'th':\n",
    "        search_term = translate_eng_to_thai(translator, search_term).text\n",
    "    search_term_list = [s.strip() for s in search_term.split(\",\") if s.strip()]\n",
    "    return search_term_list\n",
    "\n",
    "df['search_term'] = np.vectorize(formatted_search_term, otypes=['object'])(translator, df['search_term'])"
   ]
  },
  {
   "cell_type": "code",
   "execution_count": 6,
   "id": "f9bc47b3",
   "metadata": {},
   "outputs": [
    {
     "data": {
      "application/vnd.microsoft.datawrangler.viewer.v0+json": {
       "columns": [
        {
         "name": "index",
         "rawType": "int64",
         "type": "integer"
        },
        {
         "name": "gender",
         "rawType": "object",
         "type": "string"
        },
        {
         "name": "age",
         "rawType": "int64",
         "type": "integer"
        },
        {
         "name": "summary",
         "rawType": "object",
         "type": "string"
        },
        {
         "name": "search_term",
         "rawType": "object",
         "type": "unknown"
        },
        {
         "name": "yes_symptoms",
         "rawType": "object",
         "type": "unknown"
        }
       ],
       "ref": "eb9c9819-3be2-46f8-b59b-b7d81fd3db9b",
       "rows": [
        [
         "0",
         "male",
         "28",
         "{\"diseases\": [], \"procedures\": [], \"no_symptoms\": [], \"idk_symptoms\": [], \"yes_symptoms\": [{\"text\": \"เสมหะ\", \"answers\": [\"ลักษณะ เสมหะเปลี่ยนสีเหลือง/เขียว\"]}, {\"text\": \"ไอ\", \"answers\": [\"ระยะเวลา ไม่เกิน 1 สัปดาห์ (ไม่เกิน 7 วัน)\"]}, {\"text\": \"การรักษาก่อนหน้า\", \"answers\": [\"การรักษาก่อนหน้า ไม่เคย\"]}]}",
         "['มีเสมหะ', 'ไอ']",
         "['เสมหะ', 'ไอ']"
        ],
        [
         "1",
         "male",
         "27",
         "{\"diseases\": [], \"procedures\": [], \"no_symptoms\": [], \"idk_symptoms\": [], \"yes_symptoms\": [{\"text\": \"ไอ\", \"answers\": [\"ระยะเวลา 1-3 สัปดาห์\", \"ลักษณะ ไอไม่มีเสมหะ ไอแห้งๆ หรือไอเสมหะสีขาว\"]}, {\"text\": \"น้ำมูกไหล\", \"answers\": [\"ระยะเวลา 10 - 90 วัน\", \"ประวัติ ATK ทำแล้ว ได้ผลเป็นลบ\"]}, {\"text\": \"การรักษาก่อนหน้า\", \"answers\": [\"การรักษาก่อนหน้า เคยทานยาเองแล้วไม่ดีขึ้น\"]}]}",
         "['ไอ', 'น้ำมูกไหล']",
         "['ไอ', 'น้ำมูกไหล']"
        ],
        [
         "2",
         "female",
         "26",
         "{\"diseases\": [], \"procedures\": [], \"no_symptoms\": [], \"idk_symptoms\": [], \"yes_symptoms\": [{\"text\": \"ปวดท้อง\", \"answers\": [\"บริเวณ รอบๆสะดือ\", \"ระยะเวลา ตั้งแต่ 1 วัน ถึง 1 สัปดาห์\", \"ระดับ ปวดจนไม่สามารถทำงานได้\"]}, {\"text\": \"การรักษาก่อนหน้า\", \"answers\": [\"การรักษาก่อนหน้า ไม่เคย\"]}]}",
         "['ปวดท้อง']",
         "['ปวดท้อง']"
        ],
        [
         "3",
         "male",
         "42",
         "{\"diseases\": [], \"procedures\": [], \"no_symptoms\": [], \"idk_symptoms\": [], \"yes_symptoms\": [{\"text\": \"น้ำมูกไหล\", \"answers\": [\"ระยะเวลา น้อยกว่า 10 วัน\", \"ประวัติ ATK ยังไม่ได้ทำ\", \"ประวัติใกล้ชิดผู้ป่วยโควิด-19 ไม่ได้ใกล้ชิด\"]}, {\"text\": \"การรักษาก่อนหน้า\", \"answers\": [\"การรักษาก่อนหน้า ไม่เคย\"]}]}",
         "['น้ำมูกไหล']",
         "['น้ำมูกไหล']"
        ],
        [
         "4",
         "female",
         "40",
         "{\"diseases\": [], \"procedures\": [], \"no_symptoms\": [], \"idk_symptoms\": [], \"yes_symptoms\": [{\"text\": \"ตาแห้ง\", \"answers\": []}, {\"text\": \"การรักษาก่อนหน้า\", \"answers\": [\"การรักษาก่อนหน้า ไม่เคย\"]}]}",
         "['ตาแห้ง']",
         "['ตาแห้ง']"
        ],
        [
         "5",
         "female",
         "49",
         "{\"diseases\": [], \"procedures\": [], \"no_symptoms\": [], \"idk_symptoms\": [], \"yes_symptoms\": [{\"text\": \"ปวดกระดูก\", \"answers\": [\"ระดับ ปวดจนไม่สามารถทำกิจกรรมใดใดได้เลย\"]}, {\"text\": \"การรักษาก่อนหน้า\", \"answers\": [\"การรักษาก่อนหน้า ไม่เคย\"]}]}",
         "['ปวดกระดูก']",
         "['ปวดกระดูก']"
        ],
        [
         "6",
         "female",
         "44",
         "{\"diseases\": [], \"procedures\": [], \"no_symptoms\": [], \"idk_symptoms\": [], \"yes_symptoms\": [{\"text\": \"น้ำมูกไหล\", \"answers\": [\"ระยะเวลา น้อยกว่า 10 วัน\", \"ประวัติ ATK ยังไม่ได้ทำ\"]}, {\"text\": \"ไอ\", \"answers\": [\"ระยะเวลา ไม่เกิน 1 สัปดาห์ (ไม่เกิน 7 วัน)\", \"ลักษณะ ไอไม่มีเสมหะ ไอแห้งๆ หรือไอเสมหะสีขาว\", \"ประวัติใกล้ชิดผู้ป่วยโควิด-19 ไม่ได้ใกล้ชิด\"]}, {\"text\": \"การรักษาก่อนหน้า\", \"answers\": [\"การรักษาก่อนหน้า ไม่เคย\"]}]}",
         "['น้ำมูกไหล', 'คันจมูกจามบ่อย', 'ไอ']",
         "['น้ำมูกไหล', 'ไอ']"
        ],
        [
         "7",
         "female",
         "18",
         "{\"diseases\": [], \"procedures\": [], \"no_symptoms\": [], \"idk_symptoms\": [], \"yes_symptoms\": [{\"text\": \"ปวดท้อง\", \"answers\": [\"บริเวณ รอบๆสะดือ\", \"ระยะเวลา ตั้งแต่ 1 วัน ถึง 1 สัปดาห์\", \"ระดับ ปวดเล็กน้อย ส่งผลต่อการดำเนินกิจวัตรประจำวันบ้าง\"]}, {\"text\": \"การรักษาก่อนหน้า\", \"answers\": [\"การรักษาก่อนหน้า ไม่เคย\"]}]}",
         "['ปวดท้อง']",
         "['ปวดท้อง']"
        ],
        [
         "8",
         "female",
         "40",
         "{\"diseases\": [], \"procedures\": [], \"no_symptoms\": [], \"idk_symptoms\": [], \"yes_symptoms\": [{\"text\": \"เจ็บคอ\", \"answers\": [\"บริเวณ ในลำคอ\", \"ประวัติ ATK ยังไม่ได้ทำ\"]}, {\"text\": \"ไอ\", \"answers\": [\"ระยะเวลา ไม่เกิน 1 สัปดาห์ (ไม่เกิน 7 วัน)\", \"ลักษณะ ไอมีเสมหะเปลี่ยนสี\", \"ประวัติใกล้ชิดผู้ป่วยโควิด-19 ไม่ได้ใกล้ชิด\"]}, {\"text\": \"การรักษาก่อนหน้า\", \"answers\": [\"การรักษาก่อนหน้า ไม่เคย\"]}]}",
         "['คันคอ', 'ไอ']",
         "['เจ็บคอ', 'ไอ']"
        ],
        [
         "9",
         "male",
         "48",
         "{\"diseases\": [], \"procedures\": [], \"no_symptoms\": [], \"idk_symptoms\": [], \"yes_symptoms\": [{\"text\": \"ไอ\", \"answers\": [\"ระยะเวลา ไม่เกิน 1 สัปดาห์ (ไม่เกิน 7 วัน)\", \"ลักษณะ ไอไม่มีเสมหะ ไอแห้งๆ หรือไอเสมหะสีขาว\"]}, {\"text\": \"การรักษาก่อนหน้า\", \"answers\": [\"การรักษาก่อนหน้า ไม่เคย\"]}]}",
         "['ไอ']",
         "['ไอ']"
        ],
        [
         "10",
         "female",
         "30",
         "{\"diseases\": [], \"procedures\": [], \"no_symptoms\": [{\"text\": \"ปวดท้อง\", \"answers\": []}, {\"text\": \"ประจำเดือนมาน้อย, ประจำเดือนขาด\", \"answers\": []}], \"idk_symptoms\": [], \"yes_symptoms\": [{\"text\": \"อาเจียน\", \"answers\": []}, {\"text\": \"การรักษาก่อนหน้า\", \"answers\": [\"การรักษาก่อนหน้า ไม่เคย\"]}]}",
         "['อาเจียน']",
         "['อาเจียน']"
        ],
        [
         "11",
         "female",
         "49",
         "{\"diseases\": [], \"procedures\": [], \"no_symptoms\": [], \"idk_symptoms\": [], \"yes_symptoms\": [{\"text\": \"ปวดเมื่อยกล้ามเนื้อ\", \"answers\": []}, {\"text\": \"การรักษาก่อนหน้า\", \"answers\": [\"การรักษาก่อนหน้า ไม่เคย\"]}]}",
         "['ปวดเมื่อยกล้ามเนื้อทั่วๆ']",
         "['ปวดเมื่อยกล้ามเนื้อ']"
        ],
        [
         "12",
         "female",
         "34",
         "{\"diseases\": [], \"procedures\": [], \"no_symptoms\": [], \"idk_symptoms\": [], \"yes_symptoms\": [{\"text\": \"เสมหะไหลลงคอ\", \"answers\": []}, {\"text\": \"เสมหะ\", \"answers\": [\"ลักษณะ เสมหะเปลี่ยนสีเหลือง/เขียว\"]}, {\"text\": \"การรักษาก่อนหน้า\", \"answers\": [\"การรักษาก่อนหน้า เคยรักษามาก่อน\"]}]}",
         "['เสมหะไหลลงคอ', 'มีเสมหะ']",
         "['เสมหะไหลลงคอ', 'เสมหะ']"
        ],
        [
         "13",
         "female",
         "37",
         "{\"diseases\": [], \"procedures\": [], \"no_symptoms\": [], \"idk_symptoms\": [], \"yes_symptoms\": [{\"text\": \"Fever\", \"answers\": [\"Duration 1-3 days\", \"Grade Low grade (between 37.5-38.2 C)\", \"History ATK No, I haven't done.\", \"History close contact to COVID-19 No\"]}, {\"text\": \"Previous treatment\", \"answers\": [\"Previous treatment No, i've never got any treatment for this condition before.\"]}]}",
         "['ไข้']",
         "['ไข้']"
        ],
        [
         "14",
         "female",
         "37",
         "{\"diseases\": [], \"procedures\": [], \"no_symptoms\": [], \"idk_symptoms\": [], \"yes_symptoms\": [{\"text\": \"น้ำมูกไหล\", \"answers\": [\"ระยะเวลา น้อยกว่า 10 วัน\", \"ประวัติ ATK ยังไม่ได้ทำ\", \"ประวัติใกล้ชิดผู้ป่วยโควิด-19 ไม่ได้ใกล้ชิด\"]}, {\"text\": \"คันจมูก\", \"answers\": []}, {\"text\": \"การรักษาก่อนหน้า\", \"answers\": [\"การรักษาก่อนหน้า ไม่เคย\"]}]}",
         "['น้ำมูกไหล', 'คันจมูก']",
         "['น้ำมูกไหล', 'คันจมูก']"
        ],
        [
         "15",
         "female",
         "37",
         "{\"diseases\": [], \"procedures\": [], \"no_symptoms\": [], \"idk_symptoms\": [], \"yes_symptoms\": [{\"text\": \"บวมตามร่างกาย\", \"answers\": [\"ตำแหน่ง บวมที่ข้อ เช่น ข้อเข่า ข้อเท้า\"]}, {\"text\": \"ปวดข้อเท้า\", \"answers\": [\"ระดับ ปวดเล็กน้อย ส่งผลต่อการดำเนินกิจวัตรประจำวันบ้าง\"]}, {\"text\": \"ปวดข้อ\", \"answers\": [\"จำนวนข้อที่ปวด 1 ข้อ\", \"ประวัติอุบัติเหตุ มี\"]}, {\"text\": \"ประวัติอุบัติเหตุ\", \"answers\": [\"ระยะเวลา 3-7 วัน\"]}, {\"text\": \"การรักษาก่อนหน้า\", \"answers\": [\"การรักษาก่อนหน้า เคยรักษามาก่อน\"]}]}",
         "['บวม', 'ปวดข้อเท้า']",
         "['บวมตามร่างกาย', 'ปวดข้อเท้า', 'ปวดข้อ']"
        ],
        [
         "16",
         "female",
         "54",
         "{\"diseases\": [], \"procedures\": [], \"no_symptoms\": [], \"idk_symptoms\": [], \"yes_symptoms\": [{\"text\": \"ไอ\", \"answers\": [\"ระยะเวลา ไม่เกิน 1 สัปดาห์ (ไม่เกิน 7 วัน)\", \"ลักษณะ ไอมีเสมหะเปลี่ยนสี\"]}, {\"text\": \"เสมหะ\", \"answers\": []}, {\"text\": \"การรักษาก่อนหน้า\", \"answers\": [\"การรักษาก่อนหน้า ไม่เคย\"]}]}",
         "['ไอ', 'มีเสมหะ']",
         "['ไอ', 'เสมหะ']"
        ],
        [
         "17",
         "female",
         "45",
         "{\"diseases\": [], \"procedures\": [], \"no_symptoms\": [{\"text\": \"ประจำเดือนมาน้อย, ประจำเดือนขาด\", \"answers\": []}], \"idk_symptoms\": [], \"yes_symptoms\": [{\"text\": \"ปวดท้อง\", \"answers\": [\"บริเวณ รอบๆสะดือ\", \"ระยะเวลา น้อยกว่า 1 วัน\", \"ระดับ ปวดเล็กน้อย ส่งผลต่อการดำเนินกิจวัตรประจำวันบ้าง\"]}, {\"text\": \"อาเจียน\", \"answers\": []}, {\"text\": \"การรักษาก่อนหน้า\", \"answers\": [\"การรักษาก่อนหน้า ไม่เคย\"]}]}",
         "['ปวดท้อง', 'อาเจียน']",
         "['ปวดท้อง', 'อาเจียน']"
        ],
        [
         "18",
         "male",
         "34",
         "{\"diseases\": [], \"procedures\": [], \"no_symptoms\": [], \"idk_symptoms\": [], \"yes_symptoms\": [{\"text\": \"Fever\", \"answers\": [\"Duration 4-7 days\", \"Grade Unknown\", \"History ATK No, I haven't done.\", \"History close contact to COVID-19 No\"]}, {\"text\": \"Previous treatment\", \"answers\": [\"Previous treatment No, i've never got any treatment for this condition before.\"]}]}",
         "['ไข้']",
         "['ไข้']"
        ],
        [
         "19",
         "male",
         "44",
         "{\"diseases\": [], \"procedures\": [], \"no_symptoms\": [], \"idk_symptoms\": [], \"yes_symptoms\": [{\"text\": \"เจ็บคอ\", \"answers\": [\"บริเวณ ในลำคอ\", \"ประวัติ ATK ยังไม่ได้ทำ\", \"ประวัติใกล้ชิดผู้ป่วยโควิด-19 ไม่ได้ใกล้ชิด\"]}, {\"text\": \"การรักษาก่อนหน้า\", \"answers\": [\"การรักษาก่อนหน้า ไม่เคย\"]}]}",
         "['เจ็บคอ']",
         "['เจ็บคอ']"
        ],
        [
         "20",
         "female",
         "43",
         "{\"diseases\": [], \"procedures\": [], \"no_symptoms\": [], \"idk_symptoms\": [], \"yes_symptoms\": [{\"text\": \"ท้องเสีย\", \"answers\": [\"ลักษณะ อุจจาระเป็นน้ำ หรือเป็นเนื้อเหลว\"]}, {\"text\": \"การรักษาก่อนหน้า\", \"answers\": [\"การรักษาก่อนหน้า ไม่เคย\"]}]}",
         "['ท้องเสีย']",
         "['ท้องเสีย']"
        ],
        [
         "21",
         "male",
         "29",
         "{\"diseases\": [], \"procedures\": [], \"no_symptoms\": [], \"idk_symptoms\": [], \"yes_symptoms\": [{\"text\": \"ปวดข้อมือ\", \"answers\": [\"ระดับ ปวดจนไม่สามารถทำงานได้\"]}, {\"text\": \"ปวดข้อ\", \"answers\": [\"ประวัติอุบัติเหตุ ไม่มี\", \"จำนวนข้อที่ปวด 1 ข้อ\"]}, {\"text\": \"การรักษาก่อนหน้า\", \"answers\": [\"การรักษาก่อนหน้า ไม่เคย\"]}]}",
         "['ปวดข้อมือ']",
         "['ปวดข้อมือ', 'ปวดข้อ']"
        ],
        [
         "22",
         "female",
         "30",
         "{\"diseases\": [], \"procedures\": [], \"no_symptoms\": [], \"idk_symptoms\": [], \"yes_symptoms\": [{\"text\": \"เป็นไข้\", \"answers\": [\"ระยะเวลา 1-3 วัน\", \"ระดับ ไม่ทราบ\", \"ประวัติ ATK ทำแล้ว ได้ผลเป็นลบ\"]}, {\"text\": \"เจ็บคอ\", \"answers\": [\"บริเวณ ในลำคอ\"]}, {\"text\": \"การรักษาก่อนหน้า\", \"answers\": [\"การรักษาก่อนหน้า ไม่เคย\"]}]}",
         "['ไข้', 'เจ็บคอ']",
         "['เป็นไข้', 'เจ็บคอ']"
        ],
        [
         "23",
         "male",
         "38",
         "{\"diseases\": [], \"procedures\": [], \"no_symptoms\": [{\"text\": \"ประวัติความดันสูง\", \"answers\": []}, {\"text\": \"ประวัติเบาหวาน\", \"answers\": []}, {\"text\": \"ประวัติไขมันสูง\", \"answers\": []}, {\"text\": \"ประวัติโรคหัวใจ\", \"answers\": []}], \"idk_symptoms\": [], \"yes_symptoms\": [{\"text\": \"หายใจมีเสียงวี๊ด\", \"answers\": []}, {\"text\": \"หายใจหอบเหนื่อย\", \"answers\": [\"ระดับ เหนื่อยเล็กน้อย เหนื่อยง่ายขึ้นเวลาออกแรง\", \"ปัจจัยที่ทำให้เหนื่อยมากขึ้น แย่ลงเวลาเจอฝุ่นควัน\"]}, {\"text\": \"การรักษาก่อนหน้า\", \"answers\": [\"การรักษาก่อนหน้า เคยรักษามาก่อน\"]}]}",
         "['หายใจมีเสียงวี๊ด', 'หายใจหอบเหนื่อย']",
         "['หายใจมีเสียงวี๊ด', 'หายใจหอบเหนื่อย']"
        ],
        [
         "24",
         "male",
         "37",
         "{\"diseases\": [], \"procedures\": [], \"no_symptoms\": [{\"text\": \"ท้องผูก\", \"answers\": []}], \"idk_symptoms\": [], \"yes_symptoms\": [{\"text\": \"ถ่ายเป็นเลือด\", \"answers\": [\"ปวดเวลาถ่าย ไม่ปวด\"]}, {\"text\": \"การรักษาก่อนหน้า\", \"answers\": [\"การรักษาก่อนหน้า ไม่เคย\"]}]}",
         "['ถ่ายเป็นเลือดสด']",
         "['ถ่ายเป็นเลือด']"
        ],
        [
         "25",
         "male",
         "34",
         "{\"diseases\": [], \"procedures\": [], \"no_symptoms\": [], \"idk_symptoms\": [], \"yes_symptoms\": [{\"text\": \"เจ็บคอ\", \"answers\": [\"บริเวณ ในลำคอ\", \"ประวัติ ATK ยังไม่ได้ทำ\", \"ประวัติใกล้ชิดผู้ป่วยโควิด-19 ไม่ได้ใกล้ชิด\"]}, {\"text\": \"การรักษาก่อนหน้า\", \"answers\": [\"การรักษาก่อนหน้า ไม่เคย\"]}]}",
         "['เจ็บคอ']",
         "['เจ็บคอ']"
        ],
        [
         "26",
         "female",
         "34",
         "{\"diseases\": [], \"procedures\": [], \"no_symptoms\": [], \"idk_symptoms\": [], \"yes_symptoms\": [{\"text\": \"เจ็บคอ\", \"answers\": [\"บริเวณ ในลำคอ\", \"ประวัติ ATK ยังไม่ได้ทำ\", \"ประวัติใกล้ชิดผู้ป่วยโควิด-19 ไม่ได้ใกล้ชิด\"]}, {\"text\": \"การรักษาก่อนหน้า\", \"answers\": [\"การรักษาก่อนหน้า ไม่เคย\"]}]}",
         "['เจ็บคอ']",
         "['เจ็บคอ']"
        ],
        [
         "27",
         "female",
         "44",
         "{\"diseases\": [], \"procedures\": [], \"no_symptoms\": [], \"idk_symptoms\": [], \"yes_symptoms\": [{\"text\": \"ปวดหลัง\", \"answers\": [\"ตำแหน่ง ตรงกลางตามแนวกระดูกสันหลังส่วนบน\", \"ร้าว ไม่มีร้าวไปที่ใด\", \"ชา ไม่ชา\", \"อ่อนแรง ไม่อ่อนแรง\", \"ระดับ ปวดเล็กน้อย ส่งผลต่อการดำเนินกิจวัตรประจำวันบ้าง\"]}, {\"text\": \"การรักษาก่อนหน้า\", \"answers\": [\"การรักษาก่อนหน้า เคยรักษามาก่อน\"]}]}",
         "['ปวดหลัง']",
         "['ปวดหลัง']"
        ],
        [
         "28",
         "male",
         "36",
         "{\"diseases\": [], \"procedures\": [], \"no_symptoms\": [], \"idk_symptoms\": [], \"yes_symptoms\": [{\"text\": \"เสียงแหบ\", \"answers\": []}, {\"text\": \"การรักษาก่อนหน้า\", \"answers\": [\"การรักษาก่อนหน้า เคยทานยาเองแล้วไม่ดีขึ้น\"]}]}",
         "['เสียงแหบ']",
         "['เสียงแหบ']"
        ],
        [
         "29",
         "female",
         "51",
         "{\"diseases\": [], \"procedures\": [], \"no_symptoms\": [], \"idk_symptoms\": [], \"yes_symptoms\": [{\"text\": \"ไอ\", \"answers\": [\"ระยะเวลา 1-3 สัปดาห์\", \"ลักษณะ ไอปนเลือด\"]}, {\"text\": \"การรักษาก่อนหน้า\", \"answers\": [\"การรักษาก่อนหน้า เคยทานยาเองแล้วไม่ดีขึ้น\"]}]}",
         "['ไอ']",
         "['ไอ']"
        ],
        [
         "30",
         "female",
         "26",
         "{\"diseases\": [], \"procedures\": [], \"no_symptoms\": [], \"idk_symptoms\": [], \"yes_symptoms\": [{\"text\": \"ไอ\", \"answers\": [\"ระยะเวลา 1-3 สัปดาห์\", \"ลักษณะ ไอไม่มีเสมหะ ไอแห้งๆ หรือไอเสมหะสีขาว\"]}, {\"text\": \"การรักษาก่อนหน้า\", \"answers\": [\"การรักษาก่อนหน้า เคยทานยาเองแล้วไม่ดีขึ้น\"]}]}",
         "['ไอ']",
         "['ไอ']"
        ],
        [
         "31",
         "male",
         "35",
         "{\"diseases\": [], \"procedures\": [], \"no_symptoms\": [], \"idk_symptoms\": [], \"yes_symptoms\": [{\"text\": \"ปวดหัว\", \"answers\": [\"ระดับ ปวดเล็กน้อย ส่งผลต่อการดำเนินกิจวัตรประจำวันบ้าง\", \"ตำแหน่ง ปวดทั่วๆหัว หรือปวดทั้งสองข้างสลับกัน\"]}, {\"text\": \"ชา\", \"answers\": [\"ตำแหน่ง ชาเฉพาะส่วนปลายมือ หรือปลายเท้า\"]}, {\"text\": \"การรักษาก่อนหน้า\", \"answers\": [\"การรักษาก่อนหน้า ไม่เคย\"]}]}",
         "['ปวดหัว', 'ชา']",
         "['ปวดหัว', 'ชา']"
        ],
        [
         "32",
         "male",
         "65",
         "{\"diseases\": [], \"procedures\": [], \"no_symptoms\": [], \"idk_symptoms\": [], \"yes_symptoms\": [{\"text\": \"เจ็บคอ\", \"answers\": [\"บริเวณ ในลำคอ\", \"ประวัติ ATK ยังไม่ได้ทำ\", \"ประวัติใกล้ชิดผู้ป่วยโควิด-19 ไม่ได้ใกล้ชิด\"]}, {\"text\": \"การรักษาก่อนหน้า\", \"answers\": [\"การรักษาก่อนหน้า ไม่เคย\"]}]}",
         "['เจ็บคอ']",
         "['เจ็บคอ']"
        ],
        [
         "33",
         "female",
         "31",
         "{\"diseases\": [], \"procedures\": [], \"no_symptoms\": [], \"idk_symptoms\": [], \"yes_symptoms\": [{\"text\": \"เจ็บคอ\", \"answers\": [\"บริเวณ ในลำคอ\", \"ประวัติ ATK ทำแล้ว ได้ผลเป็นลบ\"]}, {\"text\": \"การรักษาก่อนหน้า\", \"answers\": [\"การรักษาก่อนหน้า ไม่เคย\"]}]}",
         "['เจ็บคอ']",
         "['เจ็บคอ']"
        ],
        [
         "34",
         "male",
         "67",
         "{\"diseases\": [], \"procedures\": [], \"no_symptoms\": [], \"idk_symptoms\": [], \"yes_symptoms\": [{\"text\": \"diarrhea\", \"answers\": [\"characteristic i don't know\"]}, {\"text\": \"Previous treatment\", \"answers\": [\"Previous treatment No, i've never got any treatment for this condition before.\"]}]}",
         "['ท้องเสีย']",
         "['ท้องเสีย']"
        ],
        [
         "35",
         "female",
         "29",
         "{\"diseases\": [], \"procedures\": [], \"no_symptoms\": [], \"idk_symptoms\": [], \"yes_symptoms\": [{\"text\": \"ปากบวม หน้าบวม\", \"answers\": []}, {\"text\": \"แผลในปาก\", \"answers\": [\"บริเวณ ริมฝีปาก\"]}, {\"text\": \"การรักษาก่อนหน้า\", \"answers\": [\"การรักษาก่อนหน้า ไม่เคย\"]}]}",
         "['ปากบวม', 'แผลในช่องปาก']",
         "['ปากบวม หน้าบวม', 'แผลในปาก']"
        ],
        [
         "36",
         "female",
         "37",
         "{\"diseases\": [], \"procedures\": [], \"no_symptoms\": [], \"idk_symptoms\": [], \"yes_symptoms\": [{\"text\": \"ตาบวม\", \"answers\": [\"ข้าง ตาเดียว\"]}, {\"text\": \"การรักษาก่อนหน้า\", \"answers\": [\"การรักษาก่อนหน้า เคยรักษามาก่อน\"]}]}",
         "['ตาบวม']",
         "['ตาบวม']"
        ],
        [
         "37",
         "male",
         "34",
         "{\"diseases\": [], \"procedures\": [], \"no_symptoms\": [], \"idk_symptoms\": [], \"yes_symptoms\": [{\"text\": \"ก้อนที่ผิวหนัง\", \"answers\": [\"ลักษณะ ก้อนที่ผิวหนัง\"]}, {\"text\": \"การรักษาก่อนหน้า\", \"answers\": [\"การรักษาก่อนหน้า เคยรักษามาก่อน\"]}]}",
         "['ก้อนที่ผิวหนัง']",
         "['ก้อนที่ผิวหนัง']"
        ],
        [
         "38",
         "female",
         "37",
         "{\"diseases\": [], \"procedures\": [], \"no_symptoms\": [], \"idk_symptoms\": [], \"yes_symptoms\": [{\"text\": \"น้ำมูกไหล\", \"answers\": [\"ระยะเวลา น้อยกว่า 10 วัน\", \"ประวัติ ATK ทำแล้ว ได้ผลเป็นลบ\"]}, {\"text\": \"การรักษาก่อนหน้า\", \"answers\": [\"การรักษาก่อนหน้า เคยทานยาเองแล้วไม่ดีขึ้น\"]}]}",
         "['น้ำมูกไหล']",
         "['น้ำมูกไหล']"
        ],
        [
         "39",
         "female",
         "31",
         "{\"diseases\": [], \"procedures\": [], \"no_symptoms\": [], \"idk_symptoms\": [], \"yes_symptoms\": [{\"text\": \"เสมหะ\", \"answers\": [\"ลักษณะ เสมหะสีขาว\"]}, {\"text\": \"ไอ\", \"answers\": [\"ระยะเวลา ไม่เกิน 1 สัปดาห์ (ไม่เกิน 7 วัน)\"]}, {\"text\": \"การรักษาก่อนหน้า\", \"answers\": [\"การรักษาก่อนหน้า เคยทานยาเองแล้วไม่ดีขึ้น\"]}]}",
         "['มีเสมหะ', 'ไอ']",
         "['เสมหะ', 'ไอ']"
        ],
        [
         "40",
         "female",
         "54",
         "{\"diseases\": [], \"procedures\": [], \"no_symptoms\": [], \"idk_symptoms\": [], \"yes_symptoms\": [{\"text\": \"ไอ\", \"answers\": [\"ระยะเวลา ไม่เกิน 1 สัปดาห์ (ไม่เกิน 7 วัน)\", \"ลักษณะ ไอไม่มีเสมหะ ไอแห้งๆ หรือไอเสมหะสีขาว\"]}, {\"text\": \"เสมหะ\", \"answers\": []}, {\"text\": \"การรักษาก่อนหน้า\", \"answers\": [\"การรักษาก่อนหน้า ไม่เคย\"]}]}",
         "['ไอ', 'มีเสมหะ']",
         "['ไอ', 'เสมหะ']"
        ],
        [
         "41",
         "female",
         "45",
         "{\"diseases\": [], \"procedures\": [], \"no_symptoms\": [], \"idk_symptoms\": [], \"yes_symptoms\": [{\"text\": \"น้ำมูกไหล\", \"answers\": [\"ระยะเวลา น้อยกว่า 10 วัน\", \"ประวัติ ATK ยังไม่ได้ทำ\"]}, {\"text\": \"ไอ\", \"answers\": [\"ระยะเวลา ไม่เกิน 1 สัปดาห์ (ไม่เกิน 7 วัน)\", \"ลักษณะ ไอไม่มีเสมหะ ไอแห้งๆ หรือไอเสมหะสีขาว\", \"ประวัติใกล้ชิดผู้ป่วยโควิด-19 ไม่ได้ใกล้ชิด\"]}, {\"text\": \"การรักษาก่อนหน้า\", \"answers\": [\"การรักษาก่อนหน้า ไม่เคย\"]}]}",
         "['ไอ', 'มีเสมหะน้ำมูกไหล']",
         "['น้ำมูกไหล', 'ไอ']"
        ],
        [
         "42",
         "male",
         "39",
         "{\"diseases\": [], \"procedures\": [], \"no_symptoms\": [], \"idk_symptoms\": [], \"yes_symptoms\": [{\"text\": \"ท้องผูก\", \"answers\": []}, {\"text\": \"ปวดท้อง\", \"answers\": [\"บริเวณ รอบๆสะดือ\", \"ระยะเวลา ตั้งแต่ 1 วัน ถึง 1 สัปดาห์\", \"ระดับ ปวดจนไม่สามารถทำงานได้\"]}, {\"text\": \"การรักษาก่อนหน้า\", \"answers\": [\"การรักษาก่อนหน้า ไม่เคย\"]}]}",
         "['ท้องผูก', 'ปวดท้อง']",
         "['ท้องผูก', 'ปวดท้อง']"
        ],
        [
         "43",
         "female",
         "38",
         "{\"diseases\": [], \"procedures\": [], \"no_symptoms\": [{\"text\": \"เป็นไข้\", \"answers\": []}], \"idk_symptoms\": [], \"yes_symptoms\": [{\"text\": \"ปวดเอว\", \"answers\": [\"ระดับ ปวดจนไม่สามารถทำงานได้\", \"ลักษณะปวดเป็นลูกๆ ไม่ใช่\", \"ขยับเอี้ยวตัว แย่ลง ไม่ใช่\", \"ประวัติอุบัติเหตุ ไม่ทราบ\"]}, {\"text\": \"ปวดหลัง\", \"answers\": [\"ร้าว ไม่มีร้าวไปที่ใด\", \"ชา ไม่ชา\", \"อ่อนแรง ไม่ทราบ\"]}, {\"text\": \"การรักษาก่อนหน้า\", \"answers\": [\"การรักษาก่อนหน้า ไม่เคย\"]}]}",
         "['ปวดบั้นเอว', 'ปวดหลัง']",
         "['ปวดเอว', 'ปวดหลัง']"
        ],
        [
         "44",
         "male",
         "39",
         "{\"diseases\": [], \"procedures\": [], \"no_symptoms\": [], \"idk_symptoms\": [], \"yes_symptoms\": [{\"text\": \"เป็นไข้\", \"answers\": [\"ระยะเวลา 1-3 วัน\", \"ระดับ ไข้ปานกลาง (38.3-39.0 องศาเศลเซียส)\", \"ประวัติ ATK ยังไม่ได้ทำ\"]}, {\"text\": \"ไอ\", \"answers\": [\"ระยะเวลา ไม่เกิน 1 สัปดาห์ (ไม่เกิน 7 วัน)\", \"ลักษณะ ไอไม่มีเสมหะ ไอแห้งๆ หรือไอเสมหะสีขาว\", \"ประวัติใกล้ชิดผู้ป่วยโควิด-19 ไม่ได้ใกล้ชิด\"]}, {\"text\": \"การรักษาก่อนหน้า\", \"answers\": [\"การรักษาก่อนหน้า ไม่เคย\"]}]}",
         "['ไข้', 'ไอ']",
         "['เป็นไข้', 'ไอ']"
        ],
        [
         "45",
         "female",
         "44",
         "{\"diseases\": [], \"procedures\": [], \"no_symptoms\": [], \"idk_symptoms\": [], \"yes_symptoms\": [{\"text\": \"ไอ\", \"answers\": [\"ระยะเวลา 1-3 สัปดาห์\", \"ลักษณะ ไอไม่มีเสมหะ ไอแห้งๆ หรือไอเสมหะสีขาว\"]}, {\"text\": \"น้ำมูกไหล\", \"answers\": [\"ระยะเวลา น้อยกว่า 10 วัน\", \"ประวัติ ATK ยังไม่ได้ทำ\", \"ประวัติใกล้ชิดผู้ป่วยโควิด-19 ไม่ได้ใกล้ชิด\"]}, {\"text\": \"การรักษาก่อนหน้า\", \"answers\": [\"การรักษาก่อนหน้า เคยทานยาเองแล้วไม่ดีขึ้น\"]}]}",
         "['ไอ', 'น้ำมูกไหลมีเสมหะ']",
         "['ไอ', 'น้ำมูกไหล']"
        ],
        [
         "46",
         "female",
         "37",
         "{\"diseases\": [], \"procedures\": [], \"no_symptoms\": [], \"idk_symptoms\": [], \"yes_symptoms\": [{\"text\": \"เสมหะ\", \"answers\": [\"ลักษณะ เสมหะสีขาว\"]}, {\"text\": \"น้ำมูกไหล\", \"answers\": [\"ระยะเวลา น้อยกว่า 10 วัน\", \"ประวัติ ATK ยังไม่ได้ทำ\", \"ประวัติใกล้ชิดผู้ป่วยโควิด-19 ไม่ได้ใกล้ชิด\"]}, {\"text\": \"การรักษาก่อนหน้า\", \"answers\": [\"การรักษาก่อนหน้า ไม่เคย\"]}]}",
         "['มีเสมหะ', 'น้ำมูกไหลคัดจมูก']",
         "['เสมหะ', 'น้ำมูกไหล']"
        ],
        [
         "47",
         "female",
         "23",
         "{\"diseases\": [], \"procedures\": [], \"no_symptoms\": [], \"idk_symptoms\": [], \"yes_symptoms\": [{\"text\": \"เป็นไข้\", \"answers\": [\"ระยะเวลา 1-3 วัน\", \"ระดับ ไข้ปานกลาง (38.3-39.0 องศาเศลเซียส)\", \"ประวัติ ATK ยังไม่ได้ทำ\"]}, {\"text\": \"เจ็บคอ\", \"answers\": [\"บริเวณ ในลำคอ\", \"ประวัติใกล้ชิดผู้ป่วยโควิด-19 ไม่ได้ใกล้ชิด\"]}, {\"text\": \"การรักษาก่อนหน้า\", \"answers\": [\"การรักษาก่อนหน้า ไม่เคย\"]}]}",
         "['ไข้', 'เจ็บคอ']",
         "['เป็นไข้', 'เจ็บคอ']"
        ],
        [
         "48",
         "female",
         "40",
         "{\"diseases\": [], \"procedures\": [], \"no_symptoms\": [], \"idk_symptoms\": [], \"yes_symptoms\": [{\"text\": \"ปวดข้อ\", \"answers\": [\"ตำแหน่ง ข้อศอก\", \"จำนวนข้อที่ปวด 1 ข้อ\", \"ระดับ ปวดเล็กน้อย ส่งผลต่อการดำเนินกิจวัตรประจำวันบ้าง\", \"ประวัติอุบัติเหตุ ไม่ทราบ\"]}, {\"text\": \"ปวดเมื่อยกล้ามเนื้อ\", \"answers\": []}, {\"text\": \"การรักษาก่อนหน้า\", \"answers\": [\"การรักษาก่อนหน้า ไม่เคย\"]}]}",
         "['ปวดข้อ', 'ปวดเมื่อยกล้ามเนื้อทั่วๆ']",
         "['ปวดข้อ', 'ปวดเมื่อยกล้ามเนื้อ']"
        ],
        [
         "49",
         "male",
         "44",
         "{\"diseases\": [], \"procedures\": [], \"no_symptoms\": [], \"idk_symptoms\": [], \"yes_symptoms\": [{\"text\": \"ท้องเสีย\", \"answers\": [\"ลักษณะ อุจจาระเป็นน้ำ หรือเป็นเนื้อเหลว\"]}, {\"text\": \"ปวดท้อง\", \"answers\": [\"บริเวณ รอบๆสะดือ\", \"ระยะเวลา ตั้งแต่ 1 วัน ถึง 1 สัปดาห์\", \"ระดับ ปวดจนไม่สามารถทำงานได้\"]}, {\"text\": \"การรักษาก่อนหน้า\", \"answers\": [\"การรักษาก่อนหน้า ไม่เคย\"]}]}",
         "['ท้องเสีย', 'ปวดท้อง']",
         "['ท้องเสีย', 'ปวดท้อง']"
        ]
       ],
       "shape": {
        "columns": 5,
        "rows": 1000
       }
      },
      "text/html": [
       "<div>\n",
       "<style scoped>\n",
       "    .dataframe tbody tr th:only-of-type {\n",
       "        vertical-align: middle;\n",
       "    }\n",
       "\n",
       "    .dataframe tbody tr th {\n",
       "        vertical-align: top;\n",
       "    }\n",
       "\n",
       "    .dataframe thead th {\n",
       "        text-align: right;\n",
       "    }\n",
       "</style>\n",
       "<table border=\"1\" class=\"dataframe\">\n",
       "  <thead>\n",
       "    <tr style=\"text-align: right;\">\n",
       "      <th></th>\n",
       "      <th>gender</th>\n",
       "      <th>age</th>\n",
       "      <th>summary</th>\n",
       "      <th>search_term</th>\n",
       "      <th>yes_symptoms</th>\n",
       "    </tr>\n",
       "  </thead>\n",
       "  <tbody>\n",
       "    <tr>\n",
       "      <th>0</th>\n",
       "      <td>male</td>\n",
       "      <td>28</td>\n",
       "      <td>{\"diseases\": [], \"procedures\": [], \"no_symptom...</td>\n",
       "      <td>[มีเสมหะ, ไอ]</td>\n",
       "      <td>[เสมหะ, ไอ]</td>\n",
       "    </tr>\n",
       "    <tr>\n",
       "      <th>1</th>\n",
       "      <td>male</td>\n",
       "      <td>27</td>\n",
       "      <td>{\"diseases\": [], \"procedures\": [], \"no_symptom...</td>\n",
       "      <td>[ไอ, น้ำมูกไหล]</td>\n",
       "      <td>[ไอ, น้ำมูกไหล]</td>\n",
       "    </tr>\n",
       "    <tr>\n",
       "      <th>2</th>\n",
       "      <td>female</td>\n",
       "      <td>26</td>\n",
       "      <td>{\"diseases\": [], \"procedures\": [], \"no_symptom...</td>\n",
       "      <td>[ปวดท้อง]</td>\n",
       "      <td>[ปวดท้อง]</td>\n",
       "    </tr>\n",
       "    <tr>\n",
       "      <th>3</th>\n",
       "      <td>male</td>\n",
       "      <td>42</td>\n",
       "      <td>{\"diseases\": [], \"procedures\": [], \"no_symptom...</td>\n",
       "      <td>[น้ำมูกไหล]</td>\n",
       "      <td>[น้ำมูกไหล]</td>\n",
       "    </tr>\n",
       "    <tr>\n",
       "      <th>4</th>\n",
       "      <td>female</td>\n",
       "      <td>40</td>\n",
       "      <td>{\"diseases\": [], \"procedures\": [], \"no_symptom...</td>\n",
       "      <td>[ตาแห้ง]</td>\n",
       "      <td>[ตาแห้ง]</td>\n",
       "    </tr>\n",
       "    <tr>\n",
       "      <th>...</th>\n",
       "      <td>...</td>\n",
       "      <td>...</td>\n",
       "      <td>...</td>\n",
       "      <td>...</td>\n",
       "      <td>...</td>\n",
       "    </tr>\n",
       "    <tr>\n",
       "      <th>995</th>\n",
       "      <td>male</td>\n",
       "      <td>38</td>\n",
       "      <td>{\"diseases\": [], \"procedures\": [], \"no_symptom...</td>\n",
       "      <td>[บวม, ปวดข้อ]</td>\n",
       "      <td>[บวมตามร่างกาย, ปวดข้อ, ปวดขา, ปวดขา]</td>\n",
       "    </tr>\n",
       "    <tr>\n",
       "      <th>996</th>\n",
       "      <td>male</td>\n",
       "      <td>33</td>\n",
       "      <td>{\"diseases\": [], \"procedures\": [], \"no_symptom...</td>\n",
       "      <td>[เจ็บคอ]</td>\n",
       "      <td>[เจ็บคอ]</td>\n",
       "    </tr>\n",
       "    <tr>\n",
       "      <th>997</th>\n",
       "      <td>male</td>\n",
       "      <td>45</td>\n",
       "      <td>{\"diseases\": [], \"procedures\": [], \"no_symptom...</td>\n",
       "      <td>[ไข้]</td>\n",
       "      <td>[เป็นไข้]</td>\n",
       "    </tr>\n",
       "    <tr>\n",
       "      <th>998</th>\n",
       "      <td>female</td>\n",
       "      <td>73</td>\n",
       "      <td>{\"diseases\": [], \"procedures\": [], \"no_symptom...</td>\n",
       "      <td>[ไข้]</td>\n",
       "      <td>[เป็นไข้]</td>\n",
       "    </tr>\n",
       "    <tr>\n",
       "      <th>999</th>\n",
       "      <td>male</td>\n",
       "      <td>31</td>\n",
       "      <td>{\"diseases\": [], \"procedures\": [], \"no_symptom...</td>\n",
       "      <td>[ผื่น]</td>\n",
       "      <td>[ผื่น]</td>\n",
       "    </tr>\n",
       "  </tbody>\n",
       "</table>\n",
       "<p>1000 rows × 5 columns</p>\n",
       "</div>"
      ],
      "text/plain": [
       "     gender  age                                            summary  \\\n",
       "0      male   28  {\"diseases\": [], \"procedures\": [], \"no_symptom...   \n",
       "1      male   27  {\"diseases\": [], \"procedures\": [], \"no_symptom...   \n",
       "2    female   26  {\"diseases\": [], \"procedures\": [], \"no_symptom...   \n",
       "3      male   42  {\"diseases\": [], \"procedures\": [], \"no_symptom...   \n",
       "4    female   40  {\"diseases\": [], \"procedures\": [], \"no_symptom...   \n",
       "..      ...  ...                                                ...   \n",
       "995    male   38  {\"diseases\": [], \"procedures\": [], \"no_symptom...   \n",
       "996    male   33  {\"diseases\": [], \"procedures\": [], \"no_symptom...   \n",
       "997    male   45  {\"diseases\": [], \"procedures\": [], \"no_symptom...   \n",
       "998  female   73  {\"diseases\": [], \"procedures\": [], \"no_symptom...   \n",
       "999    male   31  {\"diseases\": [], \"procedures\": [], \"no_symptom...   \n",
       "\n",
       "         search_term                           yes_symptoms  \n",
       "0      [มีเสมหะ, ไอ]                            [เสมหะ, ไอ]  \n",
       "1    [ไอ, น้ำมูกไหล]                        [ไอ, น้ำมูกไหล]  \n",
       "2          [ปวดท้อง]                              [ปวดท้อง]  \n",
       "3        [น้ำมูกไหล]                            [น้ำมูกไหล]  \n",
       "4           [ตาแห้ง]                               [ตาแห้ง]  \n",
       "..               ...                                    ...  \n",
       "995    [บวม, ปวดข้อ]  [บวมตามร่างกาย, ปวดข้อ, ปวดขา, ปวดขา]  \n",
       "996         [เจ็บคอ]                               [เจ็บคอ]  \n",
       "997            [ไข้]                              [เป็นไข้]  \n",
       "998            [ไข้]                              [เป็นไข้]  \n",
       "999           [ผื่น]                                 [ผื่น]  \n",
       "\n",
       "[1000 rows x 5 columns]"
      ]
     },
     "execution_count": 6,
     "metadata": {},
     "output_type": "execute_result"
    }
   ],
   "source": [
    "df"
   ]
  },
  {
   "cell_type": "code",
   "execution_count": 7,
   "id": "1ccb9228",
   "metadata": {},
   "outputs": [],
   "source": [
    "def build_symptom_vocab(yes_symptom):\n",
    "    normalised_list = []\n",
    "    for i in yes_symptom:\n",
    "        if ('อาการ' in i):\n",
    "            i = i[5:]\n",
    "        if (i.startswith(\"การ\")):\n",
    "            i = i[3:]\n",
    "        if i == 'ไม่คงที่การสูญเสียความสมดุล':\n",
    "            i = 'เดินเซ ทรงตัวไม่ได้'\n",
    "        if i == 'ไข้':\n",
    "            i = 'เป็นไข้'\n",
    "        if i not in symptom_vocab:\n",
    "            symptom_vocab.add(i)\n",
    "        normalised_list.append(i)\n",
    "    return normalised_list\n",
    "\n",
    "symptom_vocab = set()\n",
    "df['yes_symptoms'] = np.vectorize(build_symptom_vocab, otypes=['object'])(df['yes_symptoms'])\n",
    "# symptom_vocab"
   ]
  },
  {
   "cell_type": "code",
   "execution_count": 8,
   "id": "7561ab4c",
   "metadata": {},
   "outputs": [],
   "source": [
    "def build_symptom_vocab_and_alias(symptom_vocab): # We can add more aliases for the official symptoms here. This is only the example of how we can scale up our application to make it more robust.\n",
    "    symptom_vocab_alias = dict()\n",
    "    for i in symptom_vocab:\n",
    "        symptom_tmp_list = []\n",
    "        symptom_tmp_list.append(i)\n",
    "        if i == 'เจ็บคอ': \n",
    "            symptom_tmp_list.append('คันคอ')\n",
    "        if i == 'ท้องเสีย':\n",
    "            symptom_tmp_list.append('ถ่ายเหลว')\n",
    "        symptom_vocab_alias[i] = symptom_tmp_list\n",
    "    return symptom_vocab_alias\n",
    "\n",
    "symptom_vocab_with_aliases = build_symptom_vocab_and_alias(symptom_vocab)\n",
    "# symptom_vocab_with_aliases"
   ]
  },
  {
   "cell_type": "markdown",
   "id": "064d6418",
   "metadata": {},
   "source": [
    "## Recommender Model"
   ]
  },
  {
   "cell_type": "code",
   "execution_count": 9,
   "id": "4951f2c7",
   "metadata": {},
   "outputs": [],
   "source": [
    "from sklearn.preprocessing import MultiLabelBinarizer\n",
    "from sklearn.metrics.pairwise import cosine_similarity\n",
    "\n",
    "def cosine_similarity_model(df):\n",
    "    relevant_symptoms = df['yes_symptoms']\n",
    "\n",
    "    mlb = MultiLabelBinarizer()\n",
    "    patient_symptom_matrix = pd.DataFrame(\n",
    "        mlb.fit_transform(relevant_symptoms),\n",
    "        columns=mlb.classes_\n",
    "    )\n",
    "\n",
    "    symptom_similarity_matrix = cosine_similarity(patient_symptom_matrix.T)\n",
    "\n",
    "    symptom_similarity_df = pd.DataFrame(\n",
    "        symptom_similarity_matrix,\n",
    "        index=patient_symptom_matrix.columns,\n",
    "        columns=patient_symptom_matrix.columns\n",
    "    )\n",
    "\n",
    "    return symptom_similarity_df"
   ]
  },
  {
   "cell_type": "markdown",
   "id": "50e588bd",
   "metadata": {},
   "source": [
    "## Full Pipeline of the Recommeder System (NLU + Recommender Model)"
   ]
  },
  {
   "cell_type": "code",
   "execution_count": 10,
   "id": "2e5132ee",
   "metadata": {},
   "outputs": [
    {
     "name": "stdout",
     "output_type": "stream",
     "text": [
      "Gender Boosting Example, The Gender Boosting value that we get from for this specific symptom(ปวดท้อง)\n"
     ]
    },
    {
     "data": {
      "application/vnd.microsoft.datawrangler.viewer.v0+json": {
       "columns": [
        {
         "name": "index",
         "rawType": "object",
         "type": "unknown"
        },
        {
         "name": "count",
         "rawType": "int64",
         "type": "integer"
        }
       ],
       "ref": "7f7bbfe9-ebfe-4f33-b82f-99ca4d0ead81",
       "rows": [
        [
         "('female',)",
         "50"
        ],
        [
         "('male',)",
         "20"
        ]
       ],
       "shape": {
        "columns": 1,
        "rows": 2
       }
      },
      "text/plain": [
       "gender\n",
       "female    50\n",
       "male      20\n",
       "Name: count, dtype: int64"
      ]
     },
     "metadata": {},
     "output_type": "display_data"
    },
    {
     "name": "stdout",
     "output_type": "stream",
     "text": [
      "Age Boosting Example, The Age Boosting value that we get from for this specific symptom(ปวดหลัง)\n"
     ]
    },
    {
     "data": {
      "application/vnd.microsoft.datawrangler.viewer.v0+json": {
       "columns": [
        {
         "name": "index",
         "rawType": "int64",
         "type": "integer"
        },
        {
         "name": "gender",
         "rawType": "object",
         "type": "string"
        },
        {
         "name": "age",
         "rawType": "int64",
         "type": "integer"
        },
        {
         "name": "summary",
         "rawType": "object",
         "type": "string"
        },
        {
         "name": "search_term",
         "rawType": "object",
         "type": "unknown"
        },
        {
         "name": "yes_symptoms",
         "rawType": "object",
         "type": "unknown"
        }
       ],
       "ref": "6f4d9bc0-9b4d-4672-a94c-0f3b97b4c165",
       "rows": [
        [
         "27",
         "female",
         "44",
         "{\"diseases\": [], \"procedures\": [], \"no_symptoms\": [], \"idk_symptoms\": [], \"yes_symptoms\": [{\"text\": \"ปวดหลัง\", \"answers\": [\"ตำแหน่ง ตรงกลางตามแนวกระดูกสันหลังส่วนบน\", \"ร้าว ไม่มีร้าวไปที่ใด\", \"ชา ไม่ชา\", \"อ่อนแรง ไม่อ่อนแรง\", \"ระดับ ปวดเล็กน้อย ส่งผลต่อการดำเนินกิจวัตรประจำวันบ้าง\"]}, {\"text\": \"การรักษาก่อนหน้า\", \"answers\": [\"การรักษาก่อนหน้า เคยรักษามาก่อน\"]}]}",
         "['ปวดหลัง']",
         "['ปวดหลัง']"
        ],
        [
         "43",
         "female",
         "38",
         "{\"diseases\": [], \"procedures\": [], \"no_symptoms\": [{\"text\": \"เป็นไข้\", \"answers\": []}], \"idk_symptoms\": [], \"yes_symptoms\": [{\"text\": \"ปวดเอว\", \"answers\": [\"ระดับ ปวดจนไม่สามารถทำงานได้\", \"ลักษณะปวดเป็นลูกๆ ไม่ใช่\", \"ขยับเอี้ยวตัว แย่ลง ไม่ใช่\", \"ประวัติอุบัติเหตุ ไม่ทราบ\"]}, {\"text\": \"ปวดหลัง\", \"answers\": [\"ร้าว ไม่มีร้าวไปที่ใด\", \"ชา ไม่ชา\", \"อ่อนแรง ไม่ทราบ\"]}, {\"text\": \"การรักษาก่อนหน้า\", \"answers\": [\"การรักษาก่อนหน้า ไม่เคย\"]}]}",
         "['ปวดบั้นเอว', 'ปวดหลัง']",
         "['ปวดเอว', 'ปวดหลัง']"
        ],
        [
         "99",
         "male",
         "26",
         "{\"diseases\": [], \"procedures\": [], \"no_symptoms\": [], \"idk_symptoms\": [], \"yes_symptoms\": [{\"text\": \"ปวดหลัง\", \"answers\": [\"ตำแหน่ง ข้างๆกระดูกสันหลังส่วนล่าง\", \"ร้าว ไม่มีร้าวไปที่ใด\", \"ชา ไม่ชา\", \"อ่อนแรง ไม่ทราบ\", \"ระดับ ปวดเล็กน้อย ส่งผลต่อการดำเนินกิจวัตรประจำวันบ้าง\"]}, {\"text\": \"การรักษาก่อนหน้า\", \"answers\": [\"การรักษาก่อนหน้า ไม่เคย\"]}]}",
         "['ปวดหลัง']",
         "['ปวดหลัง']"
        ],
        [
         "157",
         "male",
         "34",
         "{\"diseases\": [], \"procedures\": [], \"no_symptoms\": [], \"idk_symptoms\": [], \"yes_symptoms\": [{\"text\": \"ปวดหลัง\", \"answers\": [\"ตำแหน่ง ตรงกลางตามแนวกระดูกสันหลังส่วนล่าง\", \"ร้าว ไม่มีร้าวไปที่ใด\", \"ชา ไม่ชา\", \"อ่อนแรง ไม่อ่อนแรง\", \"ระดับ ปวดจนไม่สามารถทำงานได้\"]}, {\"text\": \"การรักษาก่อนหน้า\", \"answers\": [\"การรักษาก่อนหน้า เคยรักษามาก่อน\"]}]}",
         "['ปวดหลัง']",
         "['ปวดหลัง']"
        ],
        [
         "274",
         "female",
         "47",
         "{\"diseases\": [], \"procedures\": [], \"no_symptoms\": [], \"idk_symptoms\": [], \"yes_symptoms\": [{\"text\": \"ปวดหลัง\", \"answers\": [\"ตำแหน่ง ข้างๆกระดูกสันหลังส่วนล่าง\", \"ร้าว ไม่มีร้าวไปที่ใด\", \"ชา ไม่ชา\", \"อ่อนแรง ไม่อ่อนแรง\", \"ระดับ ปวดเล็กน้อย ส่งผลต่อการดำเนินกิจวัตรประจำวันบ้าง\"]}, {\"text\": \"การรักษาก่อนหน้า\", \"answers\": [\"การรักษาก่อนหน้า ไม่เคย\"]}]}",
         "['ปวดหลัง']",
         "['ปวดหลัง']"
        ],
        [
         "489",
         "female",
         "43",
         "{\"diseases\": [], \"procedures\": [], \"no_symptoms\": [], \"idk_symptoms\": [], \"yes_symptoms\": [{\"text\": \"ปวดหลัง\", \"answers\": [\"ตำแหน่ง ข้างๆกระดูกสันหลังส่วนบน\", \"ร้าว ไม่มีร้าวไปที่ใด\", \"ชา ไม่ชา\", \"อ่อนแรง ไม่ทราบ\", \"ระดับ ปวดจนไม่สามารถทำงานได้\"]}, {\"text\": \"การรักษาก่อนหน้า\", \"answers\": [\"การรักษาก่อนหน้า ไม่เคย\"]}]}",
         "['ปวดหลัง']",
         "['ปวดหลัง']"
        ],
        [
         "572",
         "male",
         "47",
         "{\"diseases\": [], \"procedures\": [], \"no_symptoms\": [], \"idk_symptoms\": [], \"yes_symptoms\": [{\"text\": \"ปวดหลัง\", \"answers\": [\"ตำแหน่ง ข้างๆกระดูกสันหลังส่วนล่าง\", \"ร้าว ร้าวไปน่องขา หรือเท้า\", \"ชา ชาที่ขาหรือเท้าร่วมด้วย\", \"อ่อนแรง อ่อนแรงที่ขาหรือเท้าร่วมด้วย\", \"ระดับ ปวดเล็กน้อย ส่งผลต่อการดำเนินกิจวัตรประจำวันบ้าง\"]}, {\"text\": \"การรักษาก่อนหน้า\", \"answers\": [\"การรักษาก่อนหน้า เคยรักษามาก่อน\"]}]}",
         "['ปวดหลัง']",
         "['ปวดหลัง']"
        ],
        [
         "646",
         "female",
         "55",
         "{\"diseases\": [], \"procedures\": [], \"no_symptoms\": [], \"idk_symptoms\": [], \"yes_symptoms\": [{\"text\": \"ปวดหลัง\", \"answers\": [\"ตำแหน่ง ตรงกลางตามแนวกระดูกสันหลังส่วนล่าง\", \"ร้าว ไม่มีร้าวไปที่ใด\", \"ชา ไม่ชา\", \"อ่อนแรง ไม่อ่อนแรง\", \"ระดับ ปวดเล็กน้อย ส่งผลต่อการดำเนินกิจวัตรประจำวันบ้าง\"]}, {\"text\": \"การรักษาก่อนหน้า\", \"answers\": [\"การรักษาก่อนหน้า ไม่เคย\"]}]}",
         "['ปวดหลัง']",
         "['ปวดหลัง']"
        ],
        [
         "715",
         "female",
         "25",
         "{\"diseases\": [], \"procedures\": [], \"no_symptoms\": [], \"idk_symptoms\": [], \"yes_symptoms\": [{\"text\": \"ปวดหลัง\", \"answers\": [\"ตำแหน่ง ตรงกลางตามแนวกระดูกสันหลังส่วนล่าง\", \"ร้าว ไม่มีร้าวไปที่ใด\", \"ชา ไม่ชา\", \"อ่อนแรง ไม่อ่อนแรง\", \"ระดับ ปวดเล็กน้อย ส่งผลต่อการดำเนินกิจวัตรประจำวันบ้าง\"]}, {\"text\": \"การรักษาก่อนหน้า\", \"answers\": [\"การรักษาก่อนหน้า เคยทานยาเองแล้วไม่ดีขึ้น\"]}]}",
         "['ปวดหลัง']",
         "['ปวดหลัง']"
        ],
        [
         "855",
         "female",
         "60",
         "{\"diseases\": [], \"procedures\": [], \"no_symptoms\": [], \"idk_symptoms\": [], \"yes_symptoms\": [{\"text\": \"ปวดหลัง\", \"answers\": [\"ตำแหน่ง ตรงกลางตามแนวกระดูกสันหลังส่วนล่าง\", \"ร้าว ไม่มีร้าวไปที่ใด\", \"ชา ไม่ชา\", \"อ่อนแรง ไม่ทราบ\", \"ระดับ ปวดจนไม่สามารถทำงานได้\"]}, {\"text\": \"การรักษาก่อนหน้า\", \"answers\": [\"การรักษาก่อนหน้า ไม่เคย\"]}]}",
         "['ปวดหลัง']",
         "['ปวดหลัง']"
        ],
        [
         "900",
         "male",
         "60",
         "{\"diseases\": [], \"procedures\": [], \"no_symptoms\": [], \"idk_symptoms\": [], \"yes_symptoms\": [{\"text\": \"ปวดหลัง\", \"answers\": [\"ตำแหน่ง ข้างๆกระดูกสันหลังส่วนล่าง\", \"ร้าว ไม่มีร้าวไปที่ใด\", \"ชา ไม่ชา\", \"อ่อนแรง ไม่อ่อนแรง\", \"ระดับ ปวดจนไม่สามารถทำงานได้\"]}, {\"text\": \"การรักษาก่อนหน้า\", \"answers\": [\"การรักษาก่อนหน้า ไม่เคย\"]}]}",
         "['ปวดหลัง']",
         "['ปวดหลัง']"
        ],
        [
         "908",
         "female",
         "42",
         "{\"diseases\": [], \"procedures\": [], \"no_symptoms\": [], \"idk_symptoms\": [], \"yes_symptoms\": [{\"text\": \"ปวดหลัง\", \"answers\": [\"ตำแหน่ง ตรงกลางตามแนวกระดูกสันหลังส่วนล่าง\", \"ร้าว ไม่มีร้าวไปที่ใด\", \"ชา ไม่ชา\", \"อ่อนแรง ไม่ทราบ\", \"ระดับ ปวดจนไม่สามารถทำงานได้\"]}, {\"text\": \"การรักษาก่อนหน้า\", \"answers\": [\"การรักษาก่อนหน้า ไม่เคย\"]}]}",
         "['ปวดหลัง']",
         "['ปวดหลัง']"
        ],
        [
         "930",
         "female",
         "33",
         "{\"diseases\": [], \"procedures\": [], \"no_symptoms\": [], \"idk_symptoms\": [], \"yes_symptoms\": [{\"text\": \"ปวดหลัง\", \"answers\": [\"ตำแหน่ง ข้างๆกระดูกสันหลังส่วนล่าง\", \"ร้าว ไม่มีร้าวไปที่ใด\", \"ชา ไม่ชา\", \"อ่อนแรง ไม่อ่อนแรง\", \"ระดับ ปวดเล็กน้อย ส่งผลต่อการดำเนินกิจวัตรประจำวันบ้าง\"]}, {\"text\": \"การรักษาก่อนหน้า\", \"answers\": [\"การรักษาก่อนหน้า ไม่เคย\"]}]}",
         "['ปวดหลัง']",
         "['ปวดหลัง']"
        ],
        [
         "980",
         "male",
         "28",
         "{\"diseases\": [], \"procedures\": [], \"no_symptoms\": [], \"idk_symptoms\": [], \"yes_symptoms\": [{\"text\": \"ปวดหลัง\", \"answers\": [\"ตำแหน่ง ทั่วๆแผ่นหลัง\", \"ร้าว ร้าวไปน่องขา หรือเท้า\", \"ชา ไม่ชา\", \"อ่อนแรง ไม่ทราบ\", \"ระดับ ปวดเล็กน้อย ส่งผลต่อการดำเนินกิจวัตรประจำวันบ้าง\"]}, {\"text\": \"ปวดซี่โครง\", \"answers\": [\"จุดกดเจ็บ ไม่มี\", \"ประวัติอุบัติเหตุ ไม่ทราบ\"]}, {\"text\": \"การรักษาก่อนหน้า\", \"answers\": [\"การรักษาก่อนหน้า ไม่เคย\"]}]}",
         "['ปวดหลัง', 'ปวดซี่โครง']",
         "['ปวดหลัง', 'ปวดซี่โครง']"
        ]
       ],
       "shape": {
        "columns": 5,
        "rows": 14
       }
      },
      "text/html": [
       "<div>\n",
       "<style scoped>\n",
       "    .dataframe tbody tr th:only-of-type {\n",
       "        vertical-align: middle;\n",
       "    }\n",
       "\n",
       "    .dataframe tbody tr th {\n",
       "        vertical-align: top;\n",
       "    }\n",
       "\n",
       "    .dataframe thead th {\n",
       "        text-align: right;\n",
       "    }\n",
       "</style>\n",
       "<table border=\"1\" class=\"dataframe\">\n",
       "  <thead>\n",
       "    <tr style=\"text-align: right;\">\n",
       "      <th></th>\n",
       "      <th>gender</th>\n",
       "      <th>age</th>\n",
       "      <th>summary</th>\n",
       "      <th>search_term</th>\n",
       "      <th>yes_symptoms</th>\n",
       "    </tr>\n",
       "  </thead>\n",
       "  <tbody>\n",
       "    <tr>\n",
       "      <th>27</th>\n",
       "      <td>female</td>\n",
       "      <td>44</td>\n",
       "      <td>{\"diseases\": [], \"procedures\": [], \"no_symptom...</td>\n",
       "      <td>[ปวดหลัง]</td>\n",
       "      <td>[ปวดหลัง]</td>\n",
       "    </tr>\n",
       "    <tr>\n",
       "      <th>43</th>\n",
       "      <td>female</td>\n",
       "      <td>38</td>\n",
       "      <td>{\"diseases\": [], \"procedures\": [], \"no_symptom...</td>\n",
       "      <td>[ปวดบั้นเอว, ปวดหลัง]</td>\n",
       "      <td>[ปวดเอว, ปวดหลัง]</td>\n",
       "    </tr>\n",
       "    <tr>\n",
       "      <th>99</th>\n",
       "      <td>male</td>\n",
       "      <td>26</td>\n",
       "      <td>{\"diseases\": [], \"procedures\": [], \"no_symptom...</td>\n",
       "      <td>[ปวดหลัง]</td>\n",
       "      <td>[ปวดหลัง]</td>\n",
       "    </tr>\n",
       "    <tr>\n",
       "      <th>157</th>\n",
       "      <td>male</td>\n",
       "      <td>34</td>\n",
       "      <td>{\"diseases\": [], \"procedures\": [], \"no_symptom...</td>\n",
       "      <td>[ปวดหลัง]</td>\n",
       "      <td>[ปวดหลัง]</td>\n",
       "    </tr>\n",
       "    <tr>\n",
       "      <th>274</th>\n",
       "      <td>female</td>\n",
       "      <td>47</td>\n",
       "      <td>{\"diseases\": [], \"procedures\": [], \"no_symptom...</td>\n",
       "      <td>[ปวดหลัง]</td>\n",
       "      <td>[ปวดหลัง]</td>\n",
       "    </tr>\n",
       "    <tr>\n",
       "      <th>489</th>\n",
       "      <td>female</td>\n",
       "      <td>43</td>\n",
       "      <td>{\"diseases\": [], \"procedures\": [], \"no_symptom...</td>\n",
       "      <td>[ปวดหลัง]</td>\n",
       "      <td>[ปวดหลัง]</td>\n",
       "    </tr>\n",
       "    <tr>\n",
       "      <th>572</th>\n",
       "      <td>male</td>\n",
       "      <td>47</td>\n",
       "      <td>{\"diseases\": [], \"procedures\": [], \"no_symptom...</td>\n",
       "      <td>[ปวดหลัง]</td>\n",
       "      <td>[ปวดหลัง]</td>\n",
       "    </tr>\n",
       "    <tr>\n",
       "      <th>646</th>\n",
       "      <td>female</td>\n",
       "      <td>55</td>\n",
       "      <td>{\"diseases\": [], \"procedures\": [], \"no_symptom...</td>\n",
       "      <td>[ปวดหลัง]</td>\n",
       "      <td>[ปวดหลัง]</td>\n",
       "    </tr>\n",
       "    <tr>\n",
       "      <th>715</th>\n",
       "      <td>female</td>\n",
       "      <td>25</td>\n",
       "      <td>{\"diseases\": [], \"procedures\": [], \"no_symptom...</td>\n",
       "      <td>[ปวดหลัง]</td>\n",
       "      <td>[ปวดหลัง]</td>\n",
       "    </tr>\n",
       "    <tr>\n",
       "      <th>855</th>\n",
       "      <td>female</td>\n",
       "      <td>60</td>\n",
       "      <td>{\"diseases\": [], \"procedures\": [], \"no_symptom...</td>\n",
       "      <td>[ปวดหลัง]</td>\n",
       "      <td>[ปวดหลัง]</td>\n",
       "    </tr>\n",
       "    <tr>\n",
       "      <th>900</th>\n",
       "      <td>male</td>\n",
       "      <td>60</td>\n",
       "      <td>{\"diseases\": [], \"procedures\": [], \"no_symptom...</td>\n",
       "      <td>[ปวดหลัง]</td>\n",
       "      <td>[ปวดหลัง]</td>\n",
       "    </tr>\n",
       "    <tr>\n",
       "      <th>908</th>\n",
       "      <td>female</td>\n",
       "      <td>42</td>\n",
       "      <td>{\"diseases\": [], \"procedures\": [], \"no_symptom...</td>\n",
       "      <td>[ปวดหลัง]</td>\n",
       "      <td>[ปวดหลัง]</td>\n",
       "    </tr>\n",
       "    <tr>\n",
       "      <th>930</th>\n",
       "      <td>female</td>\n",
       "      <td>33</td>\n",
       "      <td>{\"diseases\": [], \"procedures\": [], \"no_symptom...</td>\n",
       "      <td>[ปวดหลัง]</td>\n",
       "      <td>[ปวดหลัง]</td>\n",
       "    </tr>\n",
       "    <tr>\n",
       "      <th>980</th>\n",
       "      <td>male</td>\n",
       "      <td>28</td>\n",
       "      <td>{\"diseases\": [], \"procedures\": [], \"no_symptom...</td>\n",
       "      <td>[ปวดหลัง, ปวดซี่โครง]</td>\n",
       "      <td>[ปวดหลัง, ปวดซี่โครง]</td>\n",
       "    </tr>\n",
       "  </tbody>\n",
       "</table>\n",
       "</div>"
      ],
      "text/plain": [
       "     gender  age                                            summary  \\\n",
       "27   female   44  {\"diseases\": [], \"procedures\": [], \"no_symptom...   \n",
       "43   female   38  {\"diseases\": [], \"procedures\": [], \"no_symptom...   \n",
       "99     male   26  {\"diseases\": [], \"procedures\": [], \"no_symptom...   \n",
       "157    male   34  {\"diseases\": [], \"procedures\": [], \"no_symptom...   \n",
       "274  female   47  {\"diseases\": [], \"procedures\": [], \"no_symptom...   \n",
       "489  female   43  {\"diseases\": [], \"procedures\": [], \"no_symptom...   \n",
       "572    male   47  {\"diseases\": [], \"procedures\": [], \"no_symptom...   \n",
       "646  female   55  {\"diseases\": [], \"procedures\": [], \"no_symptom...   \n",
       "715  female   25  {\"diseases\": [], \"procedures\": [], \"no_symptom...   \n",
       "855  female   60  {\"diseases\": [], \"procedures\": [], \"no_symptom...   \n",
       "900    male   60  {\"diseases\": [], \"procedures\": [], \"no_symptom...   \n",
       "908  female   42  {\"diseases\": [], \"procedures\": [], \"no_symptom...   \n",
       "930  female   33  {\"diseases\": [], \"procedures\": [], \"no_symptom...   \n",
       "980    male   28  {\"diseases\": [], \"procedures\": [], \"no_symptom...   \n",
       "\n",
       "               search_term           yes_symptoms  \n",
       "27               [ปวดหลัง]              [ปวดหลัง]  \n",
       "43   [ปวดบั้นเอว, ปวดหลัง]      [ปวดเอว, ปวดหลัง]  \n",
       "99               [ปวดหลัง]              [ปวดหลัง]  \n",
       "157              [ปวดหลัง]              [ปวดหลัง]  \n",
       "274              [ปวดหลัง]              [ปวดหลัง]  \n",
       "489              [ปวดหลัง]              [ปวดหลัง]  \n",
       "572              [ปวดหลัง]              [ปวดหลัง]  \n",
       "646              [ปวดหลัง]              [ปวดหลัง]  \n",
       "715              [ปวดหลัง]              [ปวดหลัง]  \n",
       "855              [ปวดหลัง]              [ปวดหลัง]  \n",
       "900              [ปวดหลัง]              [ปวดหลัง]  \n",
       "908              [ปวดหลัง]              [ปวดหลัง]  \n",
       "930              [ปวดหลัง]              [ปวดหลัง]  \n",
       "980  [ปวดหลัง, ปวดซี่โครง]  [ปวดหลัง, ปวดซี่โครง]  "
      ]
     },
     "metadata": {},
     "output_type": "display_data"
    },
    {
     "data": {
      "application/vnd.microsoft.datawrangler.viewer.v0+json": {
       "columns": [
        {
         "name": "index",
         "rawType": "int64",
         "type": "integer"
        },
        {
         "name": "gender",
         "rawType": "object",
         "type": "string"
        },
        {
         "name": "age",
         "rawType": "int64",
         "type": "integer"
        },
        {
         "name": "summary",
         "rawType": "object",
         "type": "string"
        },
        {
         "name": "search_term",
         "rawType": "object",
         "type": "unknown"
        },
        {
         "name": "yes_symptoms",
         "rawType": "object",
         "type": "unknown"
        }
       ],
       "ref": "c2fe0044-94a4-400b-aa58-ee4b216f36c6",
       "rows": [
        [
         "27",
         "female",
         "44",
         "{\"diseases\": [], \"procedures\": [], \"no_symptoms\": [], \"idk_symptoms\": [], \"yes_symptoms\": [{\"text\": \"ปวดหลัง\", \"answers\": [\"ตำแหน่ง ตรงกลางตามแนวกระดูกสันหลังส่วนบน\", \"ร้าว ไม่มีร้าวไปที่ใด\", \"ชา ไม่ชา\", \"อ่อนแรง ไม่อ่อนแรง\", \"ระดับ ปวดเล็กน้อย ส่งผลต่อการดำเนินกิจวัตรประจำวันบ้าง\"]}, {\"text\": \"การรักษาก่อนหน้า\", \"answers\": [\"การรักษาก่อนหน้า เคยรักษามาก่อน\"]}]}",
         "['ปวดหลัง']",
         "['ปวดหลัง']"
        ],
        [
         "274",
         "female",
         "47",
         "{\"diseases\": [], \"procedures\": [], \"no_symptoms\": [], \"idk_symptoms\": [], \"yes_symptoms\": [{\"text\": \"ปวดหลัง\", \"answers\": [\"ตำแหน่ง ข้างๆกระดูกสันหลังส่วนล่าง\", \"ร้าว ไม่มีร้าวไปที่ใด\", \"ชา ไม่ชา\", \"อ่อนแรง ไม่อ่อนแรง\", \"ระดับ ปวดเล็กน้อย ส่งผลต่อการดำเนินกิจวัตรประจำวันบ้าง\"]}, {\"text\": \"การรักษาก่อนหน้า\", \"answers\": [\"การรักษาก่อนหน้า ไม่เคย\"]}]}",
         "['ปวดหลัง']",
         "['ปวดหลัง']"
        ],
        [
         "489",
         "female",
         "43",
         "{\"diseases\": [], \"procedures\": [], \"no_symptoms\": [], \"idk_symptoms\": [], \"yes_symptoms\": [{\"text\": \"ปวดหลัง\", \"answers\": [\"ตำแหน่ง ข้างๆกระดูกสันหลังส่วนบน\", \"ร้าว ไม่มีร้าวไปที่ใด\", \"ชา ไม่ชา\", \"อ่อนแรง ไม่ทราบ\", \"ระดับ ปวดจนไม่สามารถทำงานได้\"]}, {\"text\": \"การรักษาก่อนหน้า\", \"answers\": [\"การรักษาก่อนหน้า ไม่เคย\"]}]}",
         "['ปวดหลัง']",
         "['ปวดหลัง']"
        ],
        [
         "572",
         "male",
         "47",
         "{\"diseases\": [], \"procedures\": [], \"no_symptoms\": [], \"idk_symptoms\": [], \"yes_symptoms\": [{\"text\": \"ปวดหลัง\", \"answers\": [\"ตำแหน่ง ข้างๆกระดูกสันหลังส่วนล่าง\", \"ร้าว ร้าวไปน่องขา หรือเท้า\", \"ชา ชาที่ขาหรือเท้าร่วมด้วย\", \"อ่อนแรง อ่อนแรงที่ขาหรือเท้าร่วมด้วย\", \"ระดับ ปวดเล็กน้อย ส่งผลต่อการดำเนินกิจวัตรประจำวันบ้าง\"]}, {\"text\": \"การรักษาก่อนหน้า\", \"answers\": [\"การรักษาก่อนหน้า เคยรักษามาก่อน\"]}]}",
         "['ปวดหลัง']",
         "['ปวดหลัง']"
        ],
        [
         "646",
         "female",
         "55",
         "{\"diseases\": [], \"procedures\": [], \"no_symptoms\": [], \"idk_symptoms\": [], \"yes_symptoms\": [{\"text\": \"ปวดหลัง\", \"answers\": [\"ตำแหน่ง ตรงกลางตามแนวกระดูกสันหลังส่วนล่าง\", \"ร้าว ไม่มีร้าวไปที่ใด\", \"ชา ไม่ชา\", \"อ่อนแรง ไม่อ่อนแรง\", \"ระดับ ปวดเล็กน้อย ส่งผลต่อการดำเนินกิจวัตรประจำวันบ้าง\"]}, {\"text\": \"การรักษาก่อนหน้า\", \"answers\": [\"การรักษาก่อนหน้า ไม่เคย\"]}]}",
         "['ปวดหลัง']",
         "['ปวดหลัง']"
        ],
        [
         "855",
         "female",
         "60",
         "{\"diseases\": [], \"procedures\": [], \"no_symptoms\": [], \"idk_symptoms\": [], \"yes_symptoms\": [{\"text\": \"ปวดหลัง\", \"answers\": [\"ตำแหน่ง ตรงกลางตามแนวกระดูกสันหลังส่วนล่าง\", \"ร้าว ไม่มีร้าวไปที่ใด\", \"ชา ไม่ชา\", \"อ่อนแรง ไม่ทราบ\", \"ระดับ ปวดจนไม่สามารถทำงานได้\"]}, {\"text\": \"การรักษาก่อนหน้า\", \"answers\": [\"การรักษาก่อนหน้า ไม่เคย\"]}]}",
         "['ปวดหลัง']",
         "['ปวดหลัง']"
        ],
        [
         "900",
         "male",
         "60",
         "{\"diseases\": [], \"procedures\": [], \"no_symptoms\": [], \"idk_symptoms\": [], \"yes_symptoms\": [{\"text\": \"ปวดหลัง\", \"answers\": [\"ตำแหน่ง ข้างๆกระดูกสันหลังส่วนล่าง\", \"ร้าว ไม่มีร้าวไปที่ใด\", \"ชา ไม่ชา\", \"อ่อนแรง ไม่อ่อนแรง\", \"ระดับ ปวดจนไม่สามารถทำงานได้\"]}, {\"text\": \"การรักษาก่อนหน้า\", \"answers\": [\"การรักษาก่อนหน้า ไม่เคย\"]}]}",
         "['ปวดหลัง']",
         "['ปวดหลัง']"
        ],
        [
         "908",
         "female",
         "42",
         "{\"diseases\": [], \"procedures\": [], \"no_symptoms\": [], \"idk_symptoms\": [], \"yes_symptoms\": [{\"text\": \"ปวดหลัง\", \"answers\": [\"ตำแหน่ง ตรงกลางตามแนวกระดูกสันหลังส่วนล่าง\", \"ร้าว ไม่มีร้าวไปที่ใด\", \"ชา ไม่ชา\", \"อ่อนแรง ไม่ทราบ\", \"ระดับ ปวดจนไม่สามารถทำงานได้\"]}, {\"text\": \"การรักษาก่อนหน้า\", \"answers\": [\"การรักษาก่อนหน้า ไม่เคย\"]}]}",
         "['ปวดหลัง']",
         "['ปวดหลัง']"
        ]
       ],
       "shape": {
        "columns": 5,
        "rows": 8
       }
      },
      "text/html": [
       "<div>\n",
       "<style scoped>\n",
       "    .dataframe tbody tr th:only-of-type {\n",
       "        vertical-align: middle;\n",
       "    }\n",
       "\n",
       "    .dataframe tbody tr th {\n",
       "        vertical-align: top;\n",
       "    }\n",
       "\n",
       "    .dataframe thead th {\n",
       "        text-align: right;\n",
       "    }\n",
       "</style>\n",
       "<table border=\"1\" class=\"dataframe\">\n",
       "  <thead>\n",
       "    <tr style=\"text-align: right;\">\n",
       "      <th></th>\n",
       "      <th>gender</th>\n",
       "      <th>age</th>\n",
       "      <th>summary</th>\n",
       "      <th>search_term</th>\n",
       "      <th>yes_symptoms</th>\n",
       "    </tr>\n",
       "  </thead>\n",
       "  <tbody>\n",
       "    <tr>\n",
       "      <th>27</th>\n",
       "      <td>female</td>\n",
       "      <td>44</td>\n",
       "      <td>{\"diseases\": [], \"procedures\": [], \"no_symptom...</td>\n",
       "      <td>[ปวดหลัง]</td>\n",
       "      <td>[ปวดหลัง]</td>\n",
       "    </tr>\n",
       "    <tr>\n",
       "      <th>274</th>\n",
       "      <td>female</td>\n",
       "      <td>47</td>\n",
       "      <td>{\"diseases\": [], \"procedures\": [], \"no_symptom...</td>\n",
       "      <td>[ปวดหลัง]</td>\n",
       "      <td>[ปวดหลัง]</td>\n",
       "    </tr>\n",
       "    <tr>\n",
       "      <th>489</th>\n",
       "      <td>female</td>\n",
       "      <td>43</td>\n",
       "      <td>{\"diseases\": [], \"procedures\": [], \"no_symptom...</td>\n",
       "      <td>[ปวดหลัง]</td>\n",
       "      <td>[ปวดหลัง]</td>\n",
       "    </tr>\n",
       "    <tr>\n",
       "      <th>572</th>\n",
       "      <td>male</td>\n",
       "      <td>47</td>\n",
       "      <td>{\"diseases\": [], \"procedures\": [], \"no_symptom...</td>\n",
       "      <td>[ปวดหลัง]</td>\n",
       "      <td>[ปวดหลัง]</td>\n",
       "    </tr>\n",
       "    <tr>\n",
       "      <th>646</th>\n",
       "      <td>female</td>\n",
       "      <td>55</td>\n",
       "      <td>{\"diseases\": [], \"procedures\": [], \"no_symptom...</td>\n",
       "      <td>[ปวดหลัง]</td>\n",
       "      <td>[ปวดหลัง]</td>\n",
       "    </tr>\n",
       "    <tr>\n",
       "      <th>855</th>\n",
       "      <td>female</td>\n",
       "      <td>60</td>\n",
       "      <td>{\"diseases\": [], \"procedures\": [], \"no_symptom...</td>\n",
       "      <td>[ปวดหลัง]</td>\n",
       "      <td>[ปวดหลัง]</td>\n",
       "    </tr>\n",
       "    <tr>\n",
       "      <th>900</th>\n",
       "      <td>male</td>\n",
       "      <td>60</td>\n",
       "      <td>{\"diseases\": [], \"procedures\": [], \"no_symptom...</td>\n",
       "      <td>[ปวดหลัง]</td>\n",
       "      <td>[ปวดหลัง]</td>\n",
       "    </tr>\n",
       "    <tr>\n",
       "      <th>908</th>\n",
       "      <td>female</td>\n",
       "      <td>42</td>\n",
       "      <td>{\"diseases\": [], \"procedures\": [], \"no_symptom...</td>\n",
       "      <td>[ปวดหลัง]</td>\n",
       "      <td>[ปวดหลัง]</td>\n",
       "    </tr>\n",
       "  </tbody>\n",
       "</table>\n",
       "</div>"
      ],
      "text/plain": [
       "     gender  age                                            summary  \\\n",
       "27   female   44  {\"diseases\": [], \"procedures\": [], \"no_symptom...   \n",
       "274  female   47  {\"diseases\": [], \"procedures\": [], \"no_symptom...   \n",
       "489  female   43  {\"diseases\": [], \"procedures\": [], \"no_symptom...   \n",
       "572    male   47  {\"diseases\": [], \"procedures\": [], \"no_symptom...   \n",
       "646  female   55  {\"diseases\": [], \"procedures\": [], \"no_symptom...   \n",
       "855  female   60  {\"diseases\": [], \"procedures\": [], \"no_symptom...   \n",
       "900    male   60  {\"diseases\": [], \"procedures\": [], \"no_symptom...   \n",
       "908  female   42  {\"diseases\": [], \"procedures\": [], \"no_symptom...   \n",
       "\n",
       "    search_term yes_symptoms  \n",
       "27    [ปวดหลัง]    [ปวดหลัง]  \n",
       "274   [ปวดหลัง]    [ปวดหลัง]  \n",
       "489   [ปวดหลัง]    [ปวดหลัง]  \n",
       "572   [ปวดหลัง]    [ปวดหลัง]  \n",
       "646   [ปวดหลัง]    [ปวดหลัง]  \n",
       "855   [ปวดหลัง]    [ปวดหลัง]  \n",
       "900   [ปวดหลัง]    [ปวดหลัง]  \n",
       "908   [ปวดหลัง]    [ปวดหลัง]  "
      ]
     },
     "metadata": {},
     "output_type": "display_data"
    }
   ],
   "source": [
    "def boosting_examples():\n",
    "    # Gender Boosting\n",
    "    print('Gender Boosting Example, The Gender Boosting value that we get from for this specific symptom(ปวดท้อง)')\n",
    "    display(df.loc[df['summary'].str.contains('ปวดท้อง')].value_counts(subset=['gender']))\n",
    "    \n",
    "    # Age Boosting\n",
    "    print('Age Boosting Example, The Age Boosting value that we get from for this specific symptom(ปวดหลัง)')\n",
    "    display(df.loc[(df['summary'].str.contains('ปวดหลัง'))])\n",
    "    display(df.loc[(df['summary'].str.contains('ปวดหลัง')) & (df['age'] > 40)])\n",
    "\n",
    "boosting_examples()"
   ]
  },
  {
   "cell_type": "code",
   "execution_count": 11,
   "id": "862c367a",
   "metadata": {},
   "outputs": [
    {
     "name": "stdout",
     "output_type": "stream",
     "text": [
      "1. NLU Extraction: 'จุกแน่น แน่นท้อง' -> ['ปวดท้อง', 'ท้องอืด', 'ท้องผูก']\n",
      "2. Next Symptoms Generation -> ['คลื่นไส้', 'อาเจียน', 'ถ่ายเป็นเลือด', 'ท้องเสีย', 'ปวดท้องน้อย']\n",
      "1. NLU Extraction: 'ปวดหัว' -> ['ปวดหัว']\n",
      "2. Next Symptoms Generation -> ['ปวดบริเวณใบหน้า', 'ชา', 'เดินเซ ทรงตัวไม่ได้', 'เป็นไข้', 'เวียนศีรษะ บ้านหมุน']\n",
      "1. NLU Extraction: 'ไอ, มีเสมหะน้ำมูกไหล' -> ['ไอ']\n",
      "2. Next Symptoms Generation -> ['เสมหะ', 'น้ำมูกไหล', 'เจ็บคอ', 'จมูกน้ำมูกไหล', 'เสียงฮืด ๆ']\n",
      "1. NLU Extraction: 'ไอ, น้ำมูกไหล' -> ['ไอ']\n",
      "2. Next Symptoms Generation -> ['เสมหะ', 'น้ำมูกไหล', 'เจ็บคอ', 'จมูกน้ำมูกไหล', 'เสียงฮืด ๆ']\n",
      "1. NLU Extraction: 'ไอ' -> ['ไอ']\n",
      "2. Next Symptoms Generation -> ['เสมหะ', 'น้ำมูกไหล', 'เจ็บคอ', 'จมูกน้ำมูกไหล', 'เสียงฮืด ๆ']\n",
      "1. NLU Extraction: 'คันคอ' -> ['เจ็บคอ']\n",
      "2. Next Symptoms Generation -> ['เสมหะ', 'ไอ', 'เป็นไข้', 'คำพูดที่เบลอ', 'ปวดหู']\n",
      "1. NLU Extraction: 'คันคอ, เจ็บคอ' -> ['เจ็บคอ']\n",
      "2. Next Symptoms Generation -> ['เสมหะ', 'ไอ', 'เป็นไข้', 'คำพูดที่เบลอ', 'ปวดหู']\n",
      "1. NLU Extraction: 'ปวดท้อง' -> ['ปวดท้อง']\n",
      "2. Next Symptoms Generation -> ['อาเจียน', 'ท้องเสีย', 'ท้องอืด', 'คลื่นไส้', 'ท้องผูก']\n",
      "1. NLU Extraction: 'ท้องอืด' -> ['ท้องอืด']\n",
      "2. Next Symptoms Generation -> ['ถ่ายเป็นเลือด', 'คลื่นไส้', 'ปวดท้อง', 'กลืนติด กลืนลำบาก', 'กลืนเจ็บ']\n",
      "1. NLU Extraction: 'ท้องอืด' -> ['ท้องอืด']\n",
      "2. Next Symptoms Generation -> ['ถ่ายเป็นเลือด', 'คลื่นไส้', 'ปวดท้อง', 'กลืนติด กลืนลำบาก', 'กลืนเจ็บ']\n",
      "3. Personalisation -> ['ปวดท้อง', 'ถ่ายเป็นเลือด', 'คลื่นไส้', 'กลืนติด กลืนลำบาก', 'กลืนเจ็บ']\n",
      "1. NLU Extraction: 'ท้องอืด' -> ['ท้องอืด']\n",
      "2. Next Symptoms Generation -> ['ถ่ายเป็นเลือด', 'คลื่นไส้', 'ปวดท้อง', 'กลืนติด กลืนลำบาก', 'กลืนเจ็บ']\n",
      "3. Personalisation -> ['ถ่ายเป็นเลือด', 'คลื่นไส้', 'ปวดท้อง', 'กลืนติด กลืนลำบาก', 'กลืนเจ็บ']\n",
      "1. NLU Extraction: 'มีเสมหะน้ำมูกไหล' -> ['เสมหะ', 'น้ำมูกไหล', 'จมูกน้ำมูกไหล']\n",
      "2. Next Symptoms Generation -> ['ไอ', 'คัดจมูก', 'เจ็บคอ', 'จามบ่อย', 'คันจมูก']\n"
     ]
    }
   ],
   "source": [
    "ALIAS_TO_OFFICIAL_MAP = {\n",
    "    alias.lower(): official_symptom\n",
    "    for official_symptom, aliases in symptom_vocab_with_aliases.items()\n",
    "    for alias in aliases\n",
    "}\n",
    "\n",
    "# We can add more Post-Filtering rules here in the main project.\n",
    "GENDER_RULES = {\n",
    "    \"male\": [\"ปวดประจำเดือน\"],\n",
    "    \"female\": [\"อัณฑะ\"]\n",
    "}\n",
    "\n",
    "GENDER_BOOST_RULES = {\n",
    "    \"ปวดท้อง\": {'gender': 'female', \"boost_factor\": 2.5},\n",
    "}\n",
    "\n",
    "AGE_BOOST_RULES = {\n",
    "    \"ปวดหลัง\": {\"min_age\": 40, \"boost_factor\": round(14 / 8, 1)},\n",
    "}\n",
    "\n",
    "def extract_symptoms_from_search_terms(raw_text, knowledge_base, confidence_threshold=70):\n",
    "    if not isinstance(raw_text, str):\n",
    "        return []\n",
    "    \n",
    "    clean_text = raw_text.strip().lower()\n",
    "    raw_text_split = raw_text.split(', ')\n",
    "    for i in raw_text_split:\n",
    "        if i in ALIAS_TO_OFFICIAL_MAP:\n",
    "            return [ALIAS_TO_OFFICIAL_MAP[i]]\n",
    "\n",
    "    found_symptoms = set()\n",
    "    for official_symptom, aliases in knowledge_base.items():\n",
    "        sorted_aliases = sorted(aliases, key=len, reverse=True)\n",
    "        for alias in sorted_aliases:\n",
    "            score = fuzz.partial_ratio(alias.lower(), clean_text)\n",
    "            if score >= confidence_threshold:\n",
    "                found_symptoms.add(official_symptom)\n",
    "                break\n",
    "    found_symptoms = sorted(found_symptoms, reverse=True)\n",
    "    return list(found_symptoms)\n",
    "\n",
    "\n",
    "def filter_and_rerank(recommendations, user): \n",
    "    # We have two approaches, Pre-Filter (find a small group of patients who are very similar to our current user (e.g., females aged 30-40)) and Post-Filter. \n",
    "    # In this case, I decided to use Post-Filter because we have small-sized datasets/samples.\n",
    "    final_recs = {}\n",
    "    for symptom, score in recommendations.items():\n",
    "        \n",
    "        # Gender Filtering\n",
    "        symptoms_to_remove = GENDER_RULES.get(user[\"gender\"], [])\n",
    "        if symptom in symptoms_to_remove:\n",
    "            continue\n",
    "        \n",
    "        # Gender Boosting\n",
    "        if symptom in GENDER_BOOST_RULES:\n",
    "            rule = GENDER_BOOST_RULES[symptom]\n",
    "            if user[\"gender\"] == rule.get(\"gender\"):\n",
    "                score *= rule.get(\"boost_factor\")\n",
    "        \n",
    "            \n",
    "        # Age Boosting\n",
    "        if symptom in AGE_BOOST_RULES:\n",
    "            rule = AGE_BOOST_RULES[symptom]\n",
    "            if user[\"age\"] >= rule.get(\"min_age\"):\n",
    "                score *= rule.get(\"boost_factor\")\n",
    "        \n",
    "        final_recs[symptom] = score\n",
    "        \n",
    "    sorted_recs = dict(sorted(final_recs.items(), key=lambda item: item[1], reverse=True))\n",
    "    return sorted_recs\n",
    "\n",
    "def get_symtom_recommendations(search_term, similarity_df, symptom_vocab_with_aliases, age=None, gender=None, top_n=5):\n",
    "    # Normalised user_search_term to Official Symptoms\n",
    "    user_search_term_sypmtom = extract_symptoms_from_search_terms(search_term, symptom_vocab_with_aliases)\n",
    "    print(f\"1. NLU Extraction: '{search_term}' -> {user_search_term_sypmtom}\")\n",
    "    \n",
    "    # Recommend Next Official Symptoms to user\n",
    "    final_scores = {}\n",
    "    for symptom in user_search_term_sypmtom:\n",
    "        if symptom in similarity_df.columns:\n",
    "            similar_scores = similarity_df[symptom]\n",
    "            for rec_symptom, score in similar_scores.items():\n",
    "                if rec_symptom not in user_search_term_sypmtom:\n",
    "                    final_scores[rec_symptom] = final_scores.get(rec_symptom, 0) + score\n",
    "    \n",
    "    # Average the scores\n",
    "    for symptom in final_scores:\n",
    "        final_scores[symptom] /= len(user_search_term_sypmtom)\n",
    "        \n",
    "    candidate_recs = dict(sorted(final_scores.items(), key=lambda item: item[1], reverse=True))\n",
    "    print(f\"2. Next Symptoms Generation -> {list(candidate_recs.keys())[:top_n]}\")\n",
    "\n",
    "    # User's Personalised Next Official Symptoms\n",
    "    if (age != None) and (gender != None):\n",
    "        user_profile = {\"age\": age, \"gender\": gender}\n",
    "        personalized_recs = filter_and_rerank(candidate_recs, user_profile)\n",
    "        print(f\"3. Personalisation -> {list(personalized_recs.keys())[:top_n]}\")\n",
    "        return {\n",
    "            'initial_user_search_term': search_term,\n",
    "            'official_user_symptom_from_search_term': user_search_term_sypmtom,\n",
    "            'next_symptom_recommendations': list(personalized_recs.keys())[:top_n]\n",
    "        }\n",
    "    \n",
    "    return {\n",
    "        'initial_user_search_term': search_term,\n",
    "        'official_user_symptom_from_search_term': user_search_term_sypmtom,\n",
    "        'next_symptom_recommendations': list(candidate_recs.keys())[:top_n]\n",
    "    }\n",
    "    \n",
    "\n",
    "# ---- Main ----\n",
    "similarity_df = cosine_similarity_model(df)\n",
    "recommendations = get_symtom_recommendations('จุกแน่น แน่นท้อง', similarity_df, symptom_vocab_with_aliases)\n",
    "recommendations = get_symtom_recommendations('ปวดหัว', similarity_df, symptom_vocab_with_aliases)\n",
    "recommendations = get_symtom_recommendations('ไอ, มีเสมหะน้ำมูกไหล', similarity_df, symptom_vocab_with_aliases)\n",
    "recommendations = get_symtom_recommendations('ไอ, น้ำมูกไหล', similarity_df, symptom_vocab_with_aliases)\n",
    "recommendations = get_symtom_recommendations('ไอ', similarity_df, symptom_vocab_with_aliases)\n",
    "recommendations = get_symtom_recommendations('คันคอ', similarity_df, symptom_vocab_with_aliases)\n",
    "recommendations = get_symtom_recommendations('คันคอ, เจ็บคอ', similarity_df, symptom_vocab_with_aliases)\n",
    "recommendations = get_symtom_recommendations('ปวดท้อง', similarity_df, symptom_vocab_with_aliases)\n",
    "recommendations = get_symtom_recommendations('ท้องอืด', similarity_df, symptom_vocab_with_aliases)\n",
    "recommendations = get_symtom_recommendations('ท้องอืด', similarity_df, symptom_vocab_with_aliases, gender='female', age=47)\n",
    "recommendations = get_symtom_recommendations('ท้องอืด', similarity_df, symptom_vocab_with_aliases, gender='male', age=47)\n",
    "recommendations = get_symtom_recommendations('มีเสมหะน้ำมูกไหล', similarity_df, symptom_vocab_with_aliases)\n",
    "\n",
    "# recommendations"
   ]
  },
  {
   "cell_type": "code",
   "execution_count": null,
   "id": "e5cc6836",
   "metadata": {},
   "outputs": [],
   "source": [
    "## Save model's artefacts to make it reproducable when creating the API Interface for developers.\n",
    "import json\n",
    "\n",
    "all_configs = {\n",
    "    \"symptom_knowledge_base\": symptom_vocab_with_aliases,\n",
    "    \"alias_to_official\": ALIAS_TO_OFFICIAL_MAP,\n",
    "    \"gender_rules\": GENDER_RULES,\n",
    "    \"gender_boost_rules\": GENDER_BOOST_RULES,\n",
    "    \"age_boost_rules\": AGE_BOOST_RULES\n",
    "}\n",
    "\n",
    "similarity_df.to_csv('./Model_Artefacts/symptom_similarity_model.csv')\n",
    "with open(\"./Model_Artefacts/model_configs.json\", \"w\", encoding=\"utf-8\") as file:\n",
    "    json.dump(all_configs, file, ensure_ascii=False, indent=4)\n"
   ]
  },
  {
   "cell_type": "markdown",
   "id": "46965fba",
   "metadata": {},
   "source": [
    "## Recommender Model Evaluation"
   ]
  },
  {
   "cell_type": "code",
   "execution_count": 16,
   "id": "724c4189",
   "metadata": {},
   "outputs": [
    {
     "name": "stdout",
     "output_type": "stream",
     "text": [
      "Training model on 800 patients.\n",
      "Model training complete.\n",
      "\n",
      "Evaluating model on 200 unseen patients.\n",
      "\n",
      "--- Evaluation Results (Top 5 Recommendations) ---\n",
      "Hit Rate@5: 0.7778\n",
      "Average Recall@5: 0.7611\n",
      "Mean Reciprocal Rate(MRR)@5: 0.5009\n"
     ]
    }
   ],
   "source": [
    "from sklearn.model_selection import train_test_split\n",
    "\n",
    "    \n",
    "def get_symtom_without_print_recommendations(search_term, similarity_df, symptom_vocab_with_aliases, age=None, gender=None, top_n=5):\n",
    "    # Normalised user_search_term to Official Symptoms\n",
    "    user_search_term_sypmtom = extract_symptoms_from_search_terms(search_term, symptom_vocab_with_aliases)\n",
    "    # print(f\"1. NLU Extraction: '{search_term}' -> {user_search_term_sypmtom}\")\n",
    "    \n",
    "    # Recommend Next Official Symptoms to user\n",
    "    final_scores = {}\n",
    "    for symptom in user_search_term_sypmtom:\n",
    "        if symptom in similarity_df.columns:\n",
    "            similar_scores = similarity_df[symptom]\n",
    "            for rec_symptom, score in similar_scores.items():\n",
    "                if rec_symptom not in user_search_term_sypmtom:\n",
    "                    final_scores[rec_symptom] = final_scores.get(rec_symptom, 0) + score\n",
    "    \n",
    "    # Average the scores\n",
    "    for symptom in final_scores:\n",
    "        final_scores[symptom] /= len(user_search_term_sypmtom)\n",
    "        \n",
    "    candidate_recs = dict(sorted(final_scores.items(), key=lambda item: item[1], reverse=True))\n",
    "    # print(f\"2. Next Symptoms Generation -> {list(candidate_recs.keys())[:top_n]}\")\n",
    "\n",
    "    # User's Personalised Next Official Symptoms\n",
    "    if (age != None) and (gender != None):\n",
    "        user_profile = {\"age\": age, \"gender\": gender}\n",
    "        personalized_recs = filter_and_rerank(candidate_recs, user_profile)\n",
    "        # print(f\"3. Personalisation -> {list(personalized_recs.keys())[:top_n]}\")\n",
    "        return {\n",
    "            'initial_user_search_term': search_term,\n",
    "            'official_user_symptom_from_search_term': user_search_term_sypmtom,\n",
    "            'next_symptom_recommendations': list(personalized_recs.keys())[:top_n]\n",
    "        }\n",
    "    \n",
    "    return {\n",
    "        'initial_user_search_term': search_term,\n",
    "        'official_user_symptom_from_search_term': user_search_term_sypmtom,\n",
    "        'next_symptom_recommendations': list(candidate_recs.keys())[:top_n]\n",
    "    }\n",
    "\n",
    "\n",
    "\n",
    "def evaluate_recommender_system(all_yes_symptoms, symptom_vocab_with_aliases, k=5):\n",
    "    \n",
    "    # Split the entire dataset into training and testing sets of patients\n",
    "    train_yes_symptoms, test_yes_symptoms = train_test_split(all_yes_symptoms, test_size=0.2, random_state=42)\n",
    "\n",
    "    # Train the similarity model ONLY on the training data\n",
    "    print(f\"Training model on {len(train_yes_symptoms)} patients.\")\n",
    "    mlb = MultiLabelBinarizer()\n",
    "    train_matrix = mlb.fit_transform(train_yes_symptoms)\n",
    "    \n",
    "    # Ensure all symptoms from the test set are in the model's columns, even if with all zeros\n",
    "    all_symptoms = set(s for sublist in all_yes_symptoms for s in sublist)\n",
    "    mlb.classes_ = np.array(sorted(list(all_symptoms)))\n",
    "    \n",
    "    # Re-transform with the full symptom vocabulary\n",
    "    train_matrix = mlb.fit_transform(train_yes_symptoms)\n",
    "    train_df = pd.DataFrame(train_matrix, columns=mlb.classes_)\n",
    "\n",
    "    similarity_matrix_train_only = cosine_similarity(train_df.T)\n",
    "    similarity_df_train_only = pd.DataFrame(\n",
    "        similarity_matrix_train_only,\n",
    "        index=train_df.columns,\n",
    "        columns=train_df.columns\n",
    "    )\n",
    "    print(\"Model training complete.\\n\")\n",
    "\n",
    "    # Evaluate ONLY on the test data\n",
    "    print(f\"Evaluating model on {len(test_yes_symptoms)} unseen patients.\")\n",
    "    all_hits = []\n",
    "    all_precisions = []\n",
    "    all_recalls = []\n",
    "    mrr = []\n",
    "    all_test_set_patients = 0\n",
    "\n",
    "    for symptom_list in test_yes_symptoms:\n",
    "        if len(symptom_list) < 2: # We can only evaluate if there are enough symptoms to split\n",
    "            continue\n",
    "        \n",
    "        input_set, hold_out_set = train_test_split(symptom_list, test_size=0.5, random_state=42) # Split the data into what the model sees (input) and what it should predict (hold-out)\n",
    "        if not input_set or not hold_out_set: \n",
    "            continue\n",
    "        \n",
    "        all_test_set_patients += 1\n",
    "        input_set = ', '.join(input_set)\n",
    "        # print(input_set)\n",
    "        # print(hold_out_set)\n",
    "        # Use the model trained ONLY on training data to make predictions (similarity_df_train_only)\n",
    "        recommendations = get_symtom_without_print_recommendations(input_set, similarity_df_train_only, symptom_vocab_with_aliases, top_n=k)['next_symptom_recommendations']\n",
    "\n",
    "        # Compare recommendations to the hold-out set to find hits\n",
    "        hits = len(set(recommendations) & set(hold_out_set))\n",
    "        all_hits.append(hits)\n",
    "        all_precisions.append(hits / k)\n",
    "        all_recalls.append(hits / len(hold_out_set))\n",
    "        try:\n",
    "            mrr.append(1 / (recommendations.index(hold_out_set[0]) + 1))\n",
    "        except:\n",
    "            mrr.append(0)\n",
    "\n",
    "    # Calculate average metrics across all patients\n",
    "    hit_rate = np.mean([1 if h > 0 else 0 for h in all_hits])\n",
    "    mrr_rate = np.mean(mrr)\n",
    "    avg_recall = np.mean(all_recalls) if all_recalls else 0\n",
    "    \n",
    "    return {\"hit_rate_at_k\": hit_rate , \"recall_at_k\": avg_recall, 'mrr_rate': mrr_rate}\n",
    "\n",
    "\n",
    "# --- Main Evaluation ---\n",
    "K_VALUE = 5\n",
    "results = evaluate_recommender_system(df['yes_symptoms'], symptom_vocab_with_aliases, k=K_VALUE)\n",
    "\n",
    "print(f\"\\n--- Evaluation Results (Top {K_VALUE} Recommendations) ---\")\n",
    "print(f\"Hit Rate@{K_VALUE}: {results['hit_rate_at_k']:.4f}\")\n",
    "print(f\"Average Recall@{K_VALUE}: {results['recall_at_k']:.4f}\")\n",
    "print(f\"Mean Reciprocal Rate(MRR)@{K_VALUE}: {results['mrr_rate']:.4f}\") # Rank of first relevant item -> In this case, it means that "
   ]
  },
  {
   "cell_type": "markdown",
   "id": "4426b506",
   "metadata": {},
   "source": [
    "## Evaluate on the Full Pipeline (NLU + Recommender System)"
   ]
  },
  {
   "cell_type": "code",
   "execution_count": 18,
   "id": "8b7d1079",
   "metadata": {},
   "outputs": [
    {
     "data": {
      "application/vnd.microsoft.datawrangler.viewer.v0+json": {
       "columns": [
        {
         "name": "index",
         "rawType": "int64",
         "type": "integer"
        },
        {
         "name": "gender",
         "rawType": "object",
         "type": "string"
        },
        {
         "name": "age",
         "rawType": "int64",
         "type": "integer"
        },
        {
         "name": "summary",
         "rawType": "object",
         "type": "string"
        },
        {
         "name": "search_term",
         "rawType": "object",
         "type": "unknown"
        },
        {
         "name": "yes_symptoms",
         "rawType": "object",
         "type": "unknown"
        }
       ],
       "ref": "9588f751-0b9f-4a1e-ba0c-689113e904ff",
       "rows": [
        [
         "0",
         "male",
         "28",
         "{\"diseases\": [], \"procedures\": [], \"no_symptoms\": [], \"idk_symptoms\": [], \"yes_symptoms\": [{\"text\": \"เสมหะ\", \"answers\": [\"ลักษณะ เสมหะเปลี่ยนสีเหลือง/เขียว\"]}, {\"text\": \"ไอ\", \"answers\": [\"ระยะเวลา ไม่เกิน 1 สัปดาห์ (ไม่เกิน 7 วัน)\"]}, {\"text\": \"การรักษาก่อนหน้า\", \"answers\": [\"การรักษาก่อนหน้า ไม่เคย\"]}]}",
         "['มีเสมหะ', 'ไอ']",
         "['เสมหะ', 'ไอ']"
        ],
        [
         "1",
         "male",
         "27",
         "{\"diseases\": [], \"procedures\": [], \"no_symptoms\": [], \"idk_symptoms\": [], \"yes_symptoms\": [{\"text\": \"ไอ\", \"answers\": [\"ระยะเวลา 1-3 สัปดาห์\", \"ลักษณะ ไอไม่มีเสมหะ ไอแห้งๆ หรือไอเสมหะสีขาว\"]}, {\"text\": \"น้ำมูกไหล\", \"answers\": [\"ระยะเวลา 10 - 90 วัน\", \"ประวัติ ATK ทำแล้ว ได้ผลเป็นลบ\"]}, {\"text\": \"การรักษาก่อนหน้า\", \"answers\": [\"การรักษาก่อนหน้า เคยทานยาเองแล้วไม่ดีขึ้น\"]}]}",
         "['ไอ', 'น้ำมูกไหล']",
         "['ไอ', 'น้ำมูกไหล']"
        ],
        [
         "2",
         "female",
         "26",
         "{\"diseases\": [], \"procedures\": [], \"no_symptoms\": [], \"idk_symptoms\": [], \"yes_symptoms\": [{\"text\": \"ปวดท้อง\", \"answers\": [\"บริเวณ รอบๆสะดือ\", \"ระยะเวลา ตั้งแต่ 1 วัน ถึง 1 สัปดาห์\", \"ระดับ ปวดจนไม่สามารถทำงานได้\"]}, {\"text\": \"การรักษาก่อนหน้า\", \"answers\": [\"การรักษาก่อนหน้า ไม่เคย\"]}]}",
         "['ปวดท้อง']",
         "['ปวดท้อง']"
        ],
        [
         "3",
         "male",
         "42",
         "{\"diseases\": [], \"procedures\": [], \"no_symptoms\": [], \"idk_symptoms\": [], \"yes_symptoms\": [{\"text\": \"น้ำมูกไหล\", \"answers\": [\"ระยะเวลา น้อยกว่า 10 วัน\", \"ประวัติ ATK ยังไม่ได้ทำ\", \"ประวัติใกล้ชิดผู้ป่วยโควิด-19 ไม่ได้ใกล้ชิด\"]}, {\"text\": \"การรักษาก่อนหน้า\", \"answers\": [\"การรักษาก่อนหน้า ไม่เคย\"]}]}",
         "['น้ำมูกไหล']",
         "['น้ำมูกไหล']"
        ],
        [
         "4",
         "female",
         "40",
         "{\"diseases\": [], \"procedures\": [], \"no_symptoms\": [], \"idk_symptoms\": [], \"yes_symptoms\": [{\"text\": \"ตาแห้ง\", \"answers\": []}, {\"text\": \"การรักษาก่อนหน้า\", \"answers\": [\"การรักษาก่อนหน้า ไม่เคย\"]}]}",
         "['ตาแห้ง']",
         "['ตาแห้ง']"
        ],
        [
         "5",
         "female",
         "49",
         "{\"diseases\": [], \"procedures\": [], \"no_symptoms\": [], \"idk_symptoms\": [], \"yes_symptoms\": [{\"text\": \"ปวดกระดูก\", \"answers\": [\"ระดับ ปวดจนไม่สามารถทำกิจกรรมใดใดได้เลย\"]}, {\"text\": \"การรักษาก่อนหน้า\", \"answers\": [\"การรักษาก่อนหน้า ไม่เคย\"]}]}",
         "['ปวดกระดูก']",
         "['ปวดกระดูก']"
        ],
        [
         "6",
         "female",
         "44",
         "{\"diseases\": [], \"procedures\": [], \"no_symptoms\": [], \"idk_symptoms\": [], \"yes_symptoms\": [{\"text\": \"น้ำมูกไหล\", \"answers\": [\"ระยะเวลา น้อยกว่า 10 วัน\", \"ประวัติ ATK ยังไม่ได้ทำ\"]}, {\"text\": \"ไอ\", \"answers\": [\"ระยะเวลา ไม่เกิน 1 สัปดาห์ (ไม่เกิน 7 วัน)\", \"ลักษณะ ไอไม่มีเสมหะ ไอแห้งๆ หรือไอเสมหะสีขาว\", \"ประวัติใกล้ชิดผู้ป่วยโควิด-19 ไม่ได้ใกล้ชิด\"]}, {\"text\": \"การรักษาก่อนหน้า\", \"answers\": [\"การรักษาก่อนหน้า ไม่เคย\"]}]}",
         "['น้ำมูกไหล', 'คันจมูกจามบ่อย', 'ไอ']",
         "['น้ำมูกไหล', 'ไอ']"
        ],
        [
         "7",
         "female",
         "18",
         "{\"diseases\": [], \"procedures\": [], \"no_symptoms\": [], \"idk_symptoms\": [], \"yes_symptoms\": [{\"text\": \"ปวดท้อง\", \"answers\": [\"บริเวณ รอบๆสะดือ\", \"ระยะเวลา ตั้งแต่ 1 วัน ถึง 1 สัปดาห์\", \"ระดับ ปวดเล็กน้อย ส่งผลต่อการดำเนินกิจวัตรประจำวันบ้าง\"]}, {\"text\": \"การรักษาก่อนหน้า\", \"answers\": [\"การรักษาก่อนหน้า ไม่เคย\"]}]}",
         "['ปวดท้อง']",
         "['ปวดท้อง']"
        ],
        [
         "8",
         "female",
         "40",
         "{\"diseases\": [], \"procedures\": [], \"no_symptoms\": [], \"idk_symptoms\": [], \"yes_symptoms\": [{\"text\": \"เจ็บคอ\", \"answers\": [\"บริเวณ ในลำคอ\", \"ประวัติ ATK ยังไม่ได้ทำ\"]}, {\"text\": \"ไอ\", \"answers\": [\"ระยะเวลา ไม่เกิน 1 สัปดาห์ (ไม่เกิน 7 วัน)\", \"ลักษณะ ไอมีเสมหะเปลี่ยนสี\", \"ประวัติใกล้ชิดผู้ป่วยโควิด-19 ไม่ได้ใกล้ชิด\"]}, {\"text\": \"การรักษาก่อนหน้า\", \"answers\": [\"การรักษาก่อนหน้า ไม่เคย\"]}]}",
         "['คันคอ', 'ไอ']",
         "['เจ็บคอ', 'ไอ']"
        ],
        [
         "9",
         "male",
         "48",
         "{\"diseases\": [], \"procedures\": [], \"no_symptoms\": [], \"idk_symptoms\": [], \"yes_symptoms\": [{\"text\": \"ไอ\", \"answers\": [\"ระยะเวลา ไม่เกิน 1 สัปดาห์ (ไม่เกิน 7 วัน)\", \"ลักษณะ ไอไม่มีเสมหะ ไอแห้งๆ หรือไอเสมหะสีขาว\"]}, {\"text\": \"การรักษาก่อนหน้า\", \"answers\": [\"การรักษาก่อนหน้า ไม่เคย\"]}]}",
         "['ไอ']",
         "['ไอ']"
        ],
        [
         "10",
         "female",
         "30",
         "{\"diseases\": [], \"procedures\": [], \"no_symptoms\": [{\"text\": \"ปวดท้อง\", \"answers\": []}, {\"text\": \"ประจำเดือนมาน้อย, ประจำเดือนขาด\", \"answers\": []}], \"idk_symptoms\": [], \"yes_symptoms\": [{\"text\": \"อาเจียน\", \"answers\": []}, {\"text\": \"การรักษาก่อนหน้า\", \"answers\": [\"การรักษาก่อนหน้า ไม่เคย\"]}]}",
         "['อาเจียน']",
         "['อาเจียน']"
        ],
        [
         "11",
         "female",
         "49",
         "{\"diseases\": [], \"procedures\": [], \"no_symptoms\": [], \"idk_symptoms\": [], \"yes_symptoms\": [{\"text\": \"ปวดเมื่อยกล้ามเนื้อ\", \"answers\": []}, {\"text\": \"การรักษาก่อนหน้า\", \"answers\": [\"การรักษาก่อนหน้า ไม่เคย\"]}]}",
         "['ปวดเมื่อยกล้ามเนื้อทั่วๆ']",
         "['ปวดเมื่อยกล้ามเนื้อ']"
        ],
        [
         "12",
         "female",
         "34",
         "{\"diseases\": [], \"procedures\": [], \"no_symptoms\": [], \"idk_symptoms\": [], \"yes_symptoms\": [{\"text\": \"เสมหะไหลลงคอ\", \"answers\": []}, {\"text\": \"เสมหะ\", \"answers\": [\"ลักษณะ เสมหะเปลี่ยนสีเหลือง/เขียว\"]}, {\"text\": \"การรักษาก่อนหน้า\", \"answers\": [\"การรักษาก่อนหน้า เคยรักษามาก่อน\"]}]}",
         "['เสมหะไหลลงคอ', 'มีเสมหะ']",
         "['เสมหะไหลลงคอ', 'เสมหะ']"
        ],
        [
         "13",
         "female",
         "37",
         "{\"diseases\": [], \"procedures\": [], \"no_symptoms\": [], \"idk_symptoms\": [], \"yes_symptoms\": [{\"text\": \"Fever\", \"answers\": [\"Duration 1-3 days\", \"Grade Low grade (between 37.5-38.2 C)\", \"History ATK No, I haven't done.\", \"History close contact to COVID-19 No\"]}, {\"text\": \"Previous treatment\", \"answers\": [\"Previous treatment No, i've never got any treatment for this condition before.\"]}]}",
         "['ไข้']",
         "['เป็นไข้']"
        ],
        [
         "14",
         "female",
         "37",
         "{\"diseases\": [], \"procedures\": [], \"no_symptoms\": [], \"idk_symptoms\": [], \"yes_symptoms\": [{\"text\": \"น้ำมูกไหล\", \"answers\": [\"ระยะเวลา น้อยกว่า 10 วัน\", \"ประวัติ ATK ยังไม่ได้ทำ\", \"ประวัติใกล้ชิดผู้ป่วยโควิด-19 ไม่ได้ใกล้ชิด\"]}, {\"text\": \"คันจมูก\", \"answers\": []}, {\"text\": \"การรักษาก่อนหน้า\", \"answers\": [\"การรักษาก่อนหน้า ไม่เคย\"]}]}",
         "['น้ำมูกไหล', 'คันจมูก']",
         "['น้ำมูกไหล', 'คันจมูก']"
        ],
        [
         "15",
         "female",
         "37",
         "{\"diseases\": [], \"procedures\": [], \"no_symptoms\": [], \"idk_symptoms\": [], \"yes_symptoms\": [{\"text\": \"บวมตามร่างกาย\", \"answers\": [\"ตำแหน่ง บวมที่ข้อ เช่น ข้อเข่า ข้อเท้า\"]}, {\"text\": \"ปวดข้อเท้า\", \"answers\": [\"ระดับ ปวดเล็กน้อย ส่งผลต่อการดำเนินกิจวัตรประจำวันบ้าง\"]}, {\"text\": \"ปวดข้อ\", \"answers\": [\"จำนวนข้อที่ปวด 1 ข้อ\", \"ประวัติอุบัติเหตุ มี\"]}, {\"text\": \"ประวัติอุบัติเหตุ\", \"answers\": [\"ระยะเวลา 3-7 วัน\"]}, {\"text\": \"การรักษาก่อนหน้า\", \"answers\": [\"การรักษาก่อนหน้า เคยรักษามาก่อน\"]}]}",
         "['บวม', 'ปวดข้อเท้า']",
         "['บวมตามร่างกาย', 'ปวดข้อเท้า', 'ปวดข้อ']"
        ],
        [
         "16",
         "female",
         "54",
         "{\"diseases\": [], \"procedures\": [], \"no_symptoms\": [], \"idk_symptoms\": [], \"yes_symptoms\": [{\"text\": \"ไอ\", \"answers\": [\"ระยะเวลา ไม่เกิน 1 สัปดาห์ (ไม่เกิน 7 วัน)\", \"ลักษณะ ไอมีเสมหะเปลี่ยนสี\"]}, {\"text\": \"เสมหะ\", \"answers\": []}, {\"text\": \"การรักษาก่อนหน้า\", \"answers\": [\"การรักษาก่อนหน้า ไม่เคย\"]}]}",
         "['ไอ', 'มีเสมหะ']",
         "['ไอ', 'เสมหะ']"
        ],
        [
         "17",
         "female",
         "45",
         "{\"diseases\": [], \"procedures\": [], \"no_symptoms\": [{\"text\": \"ประจำเดือนมาน้อย, ประจำเดือนขาด\", \"answers\": []}], \"idk_symptoms\": [], \"yes_symptoms\": [{\"text\": \"ปวดท้อง\", \"answers\": [\"บริเวณ รอบๆสะดือ\", \"ระยะเวลา น้อยกว่า 1 วัน\", \"ระดับ ปวดเล็กน้อย ส่งผลต่อการดำเนินกิจวัตรประจำวันบ้าง\"]}, {\"text\": \"อาเจียน\", \"answers\": []}, {\"text\": \"การรักษาก่อนหน้า\", \"answers\": [\"การรักษาก่อนหน้า ไม่เคย\"]}]}",
         "['ปวดท้อง', 'อาเจียน']",
         "['ปวดท้อง', 'อาเจียน']"
        ],
        [
         "18",
         "male",
         "34",
         "{\"diseases\": [], \"procedures\": [], \"no_symptoms\": [], \"idk_symptoms\": [], \"yes_symptoms\": [{\"text\": \"Fever\", \"answers\": [\"Duration 4-7 days\", \"Grade Unknown\", \"History ATK No, I haven't done.\", \"History close contact to COVID-19 No\"]}, {\"text\": \"Previous treatment\", \"answers\": [\"Previous treatment No, i've never got any treatment for this condition before.\"]}]}",
         "['ไข้']",
         "['เป็นไข้']"
        ],
        [
         "19",
         "male",
         "44",
         "{\"diseases\": [], \"procedures\": [], \"no_symptoms\": [], \"idk_symptoms\": [], \"yes_symptoms\": [{\"text\": \"เจ็บคอ\", \"answers\": [\"บริเวณ ในลำคอ\", \"ประวัติ ATK ยังไม่ได้ทำ\", \"ประวัติใกล้ชิดผู้ป่วยโควิด-19 ไม่ได้ใกล้ชิด\"]}, {\"text\": \"การรักษาก่อนหน้า\", \"answers\": [\"การรักษาก่อนหน้า ไม่เคย\"]}]}",
         "['เจ็บคอ']",
         "['เจ็บคอ']"
        ],
        [
         "20",
         "female",
         "43",
         "{\"diseases\": [], \"procedures\": [], \"no_symptoms\": [], \"idk_symptoms\": [], \"yes_symptoms\": [{\"text\": \"ท้องเสีย\", \"answers\": [\"ลักษณะ อุจจาระเป็นน้ำ หรือเป็นเนื้อเหลว\"]}, {\"text\": \"การรักษาก่อนหน้า\", \"answers\": [\"การรักษาก่อนหน้า ไม่เคย\"]}]}",
         "['ท้องเสีย']",
         "['ท้องเสีย']"
        ],
        [
         "21",
         "male",
         "29",
         "{\"diseases\": [], \"procedures\": [], \"no_symptoms\": [], \"idk_symptoms\": [], \"yes_symptoms\": [{\"text\": \"ปวดข้อมือ\", \"answers\": [\"ระดับ ปวดจนไม่สามารถทำงานได้\"]}, {\"text\": \"ปวดข้อ\", \"answers\": [\"ประวัติอุบัติเหตุ ไม่มี\", \"จำนวนข้อที่ปวด 1 ข้อ\"]}, {\"text\": \"การรักษาก่อนหน้า\", \"answers\": [\"การรักษาก่อนหน้า ไม่เคย\"]}]}",
         "['ปวดข้อมือ']",
         "['ปวดข้อมือ', 'ปวดข้อ']"
        ],
        [
         "22",
         "female",
         "30",
         "{\"diseases\": [], \"procedures\": [], \"no_symptoms\": [], \"idk_symptoms\": [], \"yes_symptoms\": [{\"text\": \"เป็นไข้\", \"answers\": [\"ระยะเวลา 1-3 วัน\", \"ระดับ ไม่ทราบ\", \"ประวัติ ATK ทำแล้ว ได้ผลเป็นลบ\"]}, {\"text\": \"เจ็บคอ\", \"answers\": [\"บริเวณ ในลำคอ\"]}, {\"text\": \"การรักษาก่อนหน้า\", \"answers\": [\"การรักษาก่อนหน้า ไม่เคย\"]}]}",
         "['ไข้', 'เจ็บคอ']",
         "['เป็นไข้', 'เจ็บคอ']"
        ],
        [
         "23",
         "male",
         "38",
         "{\"diseases\": [], \"procedures\": [], \"no_symptoms\": [{\"text\": \"ประวัติความดันสูง\", \"answers\": []}, {\"text\": \"ประวัติเบาหวาน\", \"answers\": []}, {\"text\": \"ประวัติไขมันสูง\", \"answers\": []}, {\"text\": \"ประวัติโรคหัวใจ\", \"answers\": []}], \"idk_symptoms\": [], \"yes_symptoms\": [{\"text\": \"หายใจมีเสียงวี๊ด\", \"answers\": []}, {\"text\": \"หายใจหอบเหนื่อย\", \"answers\": [\"ระดับ เหนื่อยเล็กน้อย เหนื่อยง่ายขึ้นเวลาออกแรง\", \"ปัจจัยที่ทำให้เหนื่อยมากขึ้น แย่ลงเวลาเจอฝุ่นควัน\"]}, {\"text\": \"การรักษาก่อนหน้า\", \"answers\": [\"การรักษาก่อนหน้า เคยรักษามาก่อน\"]}]}",
         "['หายใจมีเสียงวี๊ด', 'หายใจหอบเหนื่อย']",
         "['หายใจมีเสียงวี๊ด', 'หายใจหอบเหนื่อย']"
        ],
        [
         "24",
         "male",
         "37",
         "{\"diseases\": [], \"procedures\": [], \"no_symptoms\": [{\"text\": \"ท้องผูก\", \"answers\": []}], \"idk_symptoms\": [], \"yes_symptoms\": [{\"text\": \"ถ่ายเป็นเลือด\", \"answers\": [\"ปวดเวลาถ่าย ไม่ปวด\"]}, {\"text\": \"การรักษาก่อนหน้า\", \"answers\": [\"การรักษาก่อนหน้า ไม่เคย\"]}]}",
         "['ถ่ายเป็นเลือดสด']",
         "['ถ่ายเป็นเลือด']"
        ],
        [
         "25",
         "male",
         "34",
         "{\"diseases\": [], \"procedures\": [], \"no_symptoms\": [], \"idk_symptoms\": [], \"yes_symptoms\": [{\"text\": \"เจ็บคอ\", \"answers\": [\"บริเวณ ในลำคอ\", \"ประวัติ ATK ยังไม่ได้ทำ\", \"ประวัติใกล้ชิดผู้ป่วยโควิด-19 ไม่ได้ใกล้ชิด\"]}, {\"text\": \"การรักษาก่อนหน้า\", \"answers\": [\"การรักษาก่อนหน้า ไม่เคย\"]}]}",
         "['เจ็บคอ']",
         "['เจ็บคอ']"
        ],
        [
         "26",
         "female",
         "34",
         "{\"diseases\": [], \"procedures\": [], \"no_symptoms\": [], \"idk_symptoms\": [], \"yes_symptoms\": [{\"text\": \"เจ็บคอ\", \"answers\": [\"บริเวณ ในลำคอ\", \"ประวัติ ATK ยังไม่ได้ทำ\", \"ประวัติใกล้ชิดผู้ป่วยโควิด-19 ไม่ได้ใกล้ชิด\"]}, {\"text\": \"การรักษาก่อนหน้า\", \"answers\": [\"การรักษาก่อนหน้า ไม่เคย\"]}]}",
         "['เจ็บคอ']",
         "['เจ็บคอ']"
        ],
        [
         "27",
         "female",
         "44",
         "{\"diseases\": [], \"procedures\": [], \"no_symptoms\": [], \"idk_symptoms\": [], \"yes_symptoms\": [{\"text\": \"ปวดหลัง\", \"answers\": [\"ตำแหน่ง ตรงกลางตามแนวกระดูกสันหลังส่วนบน\", \"ร้าว ไม่มีร้าวไปที่ใด\", \"ชา ไม่ชา\", \"อ่อนแรง ไม่อ่อนแรง\", \"ระดับ ปวดเล็กน้อย ส่งผลต่อการดำเนินกิจวัตรประจำวันบ้าง\"]}, {\"text\": \"การรักษาก่อนหน้า\", \"answers\": [\"การรักษาก่อนหน้า เคยรักษามาก่อน\"]}]}",
         "['ปวดหลัง']",
         "['ปวดหลัง']"
        ],
        [
         "28",
         "male",
         "36",
         "{\"diseases\": [], \"procedures\": [], \"no_symptoms\": [], \"idk_symptoms\": [], \"yes_symptoms\": [{\"text\": \"เสียงแหบ\", \"answers\": []}, {\"text\": \"การรักษาก่อนหน้า\", \"answers\": [\"การรักษาก่อนหน้า เคยทานยาเองแล้วไม่ดีขึ้น\"]}]}",
         "['เสียงแหบ']",
         "['เสียงแหบ']"
        ],
        [
         "29",
         "female",
         "51",
         "{\"diseases\": [], \"procedures\": [], \"no_symptoms\": [], \"idk_symptoms\": [], \"yes_symptoms\": [{\"text\": \"ไอ\", \"answers\": [\"ระยะเวลา 1-3 สัปดาห์\", \"ลักษณะ ไอปนเลือด\"]}, {\"text\": \"การรักษาก่อนหน้า\", \"answers\": [\"การรักษาก่อนหน้า เคยทานยาเองแล้วไม่ดีขึ้น\"]}]}",
         "['ไอ']",
         "['ไอ']"
        ],
        [
         "30",
         "female",
         "26",
         "{\"diseases\": [], \"procedures\": [], \"no_symptoms\": [], \"idk_symptoms\": [], \"yes_symptoms\": [{\"text\": \"ไอ\", \"answers\": [\"ระยะเวลา 1-3 สัปดาห์\", \"ลักษณะ ไอไม่มีเสมหะ ไอแห้งๆ หรือไอเสมหะสีขาว\"]}, {\"text\": \"การรักษาก่อนหน้า\", \"answers\": [\"การรักษาก่อนหน้า เคยทานยาเองแล้วไม่ดีขึ้น\"]}]}",
         "['ไอ']",
         "['ไอ']"
        ],
        [
         "31",
         "male",
         "35",
         "{\"diseases\": [], \"procedures\": [], \"no_symptoms\": [], \"idk_symptoms\": [], \"yes_symptoms\": [{\"text\": \"ปวดหัว\", \"answers\": [\"ระดับ ปวดเล็กน้อย ส่งผลต่อการดำเนินกิจวัตรประจำวันบ้าง\", \"ตำแหน่ง ปวดทั่วๆหัว หรือปวดทั้งสองข้างสลับกัน\"]}, {\"text\": \"ชา\", \"answers\": [\"ตำแหน่ง ชาเฉพาะส่วนปลายมือ หรือปลายเท้า\"]}, {\"text\": \"การรักษาก่อนหน้า\", \"answers\": [\"การรักษาก่อนหน้า ไม่เคย\"]}]}",
         "['ปวดหัว', 'ชา']",
         "['ปวดหัว', 'ชา']"
        ],
        [
         "32",
         "male",
         "65",
         "{\"diseases\": [], \"procedures\": [], \"no_symptoms\": [], \"idk_symptoms\": [], \"yes_symptoms\": [{\"text\": \"เจ็บคอ\", \"answers\": [\"บริเวณ ในลำคอ\", \"ประวัติ ATK ยังไม่ได้ทำ\", \"ประวัติใกล้ชิดผู้ป่วยโควิด-19 ไม่ได้ใกล้ชิด\"]}, {\"text\": \"การรักษาก่อนหน้า\", \"answers\": [\"การรักษาก่อนหน้า ไม่เคย\"]}]}",
         "['เจ็บคอ']",
         "['เจ็บคอ']"
        ],
        [
         "33",
         "female",
         "31",
         "{\"diseases\": [], \"procedures\": [], \"no_symptoms\": [], \"idk_symptoms\": [], \"yes_symptoms\": [{\"text\": \"เจ็บคอ\", \"answers\": [\"บริเวณ ในลำคอ\", \"ประวัติ ATK ทำแล้ว ได้ผลเป็นลบ\"]}, {\"text\": \"การรักษาก่อนหน้า\", \"answers\": [\"การรักษาก่อนหน้า ไม่เคย\"]}]}",
         "['เจ็บคอ']",
         "['เจ็บคอ']"
        ],
        [
         "34",
         "male",
         "67",
         "{\"diseases\": [], \"procedures\": [], \"no_symptoms\": [], \"idk_symptoms\": [], \"yes_symptoms\": [{\"text\": \"diarrhea\", \"answers\": [\"characteristic i don't know\"]}, {\"text\": \"Previous treatment\", \"answers\": [\"Previous treatment No, i've never got any treatment for this condition before.\"]}]}",
         "['ท้องเสีย']",
         "['ท้องเสีย']"
        ],
        [
         "35",
         "female",
         "29",
         "{\"diseases\": [], \"procedures\": [], \"no_symptoms\": [], \"idk_symptoms\": [], \"yes_symptoms\": [{\"text\": \"ปากบวม หน้าบวม\", \"answers\": []}, {\"text\": \"แผลในปาก\", \"answers\": [\"บริเวณ ริมฝีปาก\"]}, {\"text\": \"การรักษาก่อนหน้า\", \"answers\": [\"การรักษาก่อนหน้า ไม่เคย\"]}]}",
         "['ปากบวม', 'แผลในช่องปาก']",
         "['ปากบวม หน้าบวม', 'แผลในปาก']"
        ],
        [
         "36",
         "female",
         "37",
         "{\"diseases\": [], \"procedures\": [], \"no_symptoms\": [], \"idk_symptoms\": [], \"yes_symptoms\": [{\"text\": \"ตาบวม\", \"answers\": [\"ข้าง ตาเดียว\"]}, {\"text\": \"การรักษาก่อนหน้า\", \"answers\": [\"การรักษาก่อนหน้า เคยรักษามาก่อน\"]}]}",
         "['ตาบวม']",
         "['ตาบวม']"
        ],
        [
         "37",
         "male",
         "34",
         "{\"diseases\": [], \"procedures\": [], \"no_symptoms\": [], \"idk_symptoms\": [], \"yes_symptoms\": [{\"text\": \"ก้อนที่ผิวหนัง\", \"answers\": [\"ลักษณะ ก้อนที่ผิวหนัง\"]}, {\"text\": \"การรักษาก่อนหน้า\", \"answers\": [\"การรักษาก่อนหน้า เคยรักษามาก่อน\"]}]}",
         "['ก้อนที่ผิวหนัง']",
         "['ก้อนที่ผิวหนัง']"
        ],
        [
         "38",
         "female",
         "37",
         "{\"diseases\": [], \"procedures\": [], \"no_symptoms\": [], \"idk_symptoms\": [], \"yes_symptoms\": [{\"text\": \"น้ำมูกไหล\", \"answers\": [\"ระยะเวลา น้อยกว่า 10 วัน\", \"ประวัติ ATK ทำแล้ว ได้ผลเป็นลบ\"]}, {\"text\": \"การรักษาก่อนหน้า\", \"answers\": [\"การรักษาก่อนหน้า เคยทานยาเองแล้วไม่ดีขึ้น\"]}]}",
         "['น้ำมูกไหล']",
         "['น้ำมูกไหล']"
        ],
        [
         "39",
         "female",
         "31",
         "{\"diseases\": [], \"procedures\": [], \"no_symptoms\": [], \"idk_symptoms\": [], \"yes_symptoms\": [{\"text\": \"เสมหะ\", \"answers\": [\"ลักษณะ เสมหะสีขาว\"]}, {\"text\": \"ไอ\", \"answers\": [\"ระยะเวลา ไม่เกิน 1 สัปดาห์ (ไม่เกิน 7 วัน)\"]}, {\"text\": \"การรักษาก่อนหน้า\", \"answers\": [\"การรักษาก่อนหน้า เคยทานยาเองแล้วไม่ดีขึ้น\"]}]}",
         "['มีเสมหะ', 'ไอ']",
         "['เสมหะ', 'ไอ']"
        ],
        [
         "40",
         "female",
         "54",
         "{\"diseases\": [], \"procedures\": [], \"no_symptoms\": [], \"idk_symptoms\": [], \"yes_symptoms\": [{\"text\": \"ไอ\", \"answers\": [\"ระยะเวลา ไม่เกิน 1 สัปดาห์ (ไม่เกิน 7 วัน)\", \"ลักษณะ ไอไม่มีเสมหะ ไอแห้งๆ หรือไอเสมหะสีขาว\"]}, {\"text\": \"เสมหะ\", \"answers\": []}, {\"text\": \"การรักษาก่อนหน้า\", \"answers\": [\"การรักษาก่อนหน้า ไม่เคย\"]}]}",
         "['ไอ', 'มีเสมหะ']",
         "['ไอ', 'เสมหะ']"
        ],
        [
         "41",
         "female",
         "45",
         "{\"diseases\": [], \"procedures\": [], \"no_symptoms\": [], \"idk_symptoms\": [], \"yes_symptoms\": [{\"text\": \"น้ำมูกไหล\", \"answers\": [\"ระยะเวลา น้อยกว่า 10 วัน\", \"ประวัติ ATK ยังไม่ได้ทำ\"]}, {\"text\": \"ไอ\", \"answers\": [\"ระยะเวลา ไม่เกิน 1 สัปดาห์ (ไม่เกิน 7 วัน)\", \"ลักษณะ ไอไม่มีเสมหะ ไอแห้งๆ หรือไอเสมหะสีขาว\", \"ประวัติใกล้ชิดผู้ป่วยโควิด-19 ไม่ได้ใกล้ชิด\"]}, {\"text\": \"การรักษาก่อนหน้า\", \"answers\": [\"การรักษาก่อนหน้า ไม่เคย\"]}]}",
         "['ไอ', 'มีเสมหะน้ำมูกไหล']",
         "['น้ำมูกไหล', 'ไอ']"
        ],
        [
         "42",
         "male",
         "39",
         "{\"diseases\": [], \"procedures\": [], \"no_symptoms\": [], \"idk_symptoms\": [], \"yes_symptoms\": [{\"text\": \"ท้องผูก\", \"answers\": []}, {\"text\": \"ปวดท้อง\", \"answers\": [\"บริเวณ รอบๆสะดือ\", \"ระยะเวลา ตั้งแต่ 1 วัน ถึง 1 สัปดาห์\", \"ระดับ ปวดจนไม่สามารถทำงานได้\"]}, {\"text\": \"การรักษาก่อนหน้า\", \"answers\": [\"การรักษาก่อนหน้า ไม่เคย\"]}]}",
         "['ท้องผูก', 'ปวดท้อง']",
         "['ท้องผูก', 'ปวดท้อง']"
        ],
        [
         "43",
         "female",
         "38",
         "{\"diseases\": [], \"procedures\": [], \"no_symptoms\": [{\"text\": \"เป็นไข้\", \"answers\": []}], \"idk_symptoms\": [], \"yes_symptoms\": [{\"text\": \"ปวดเอว\", \"answers\": [\"ระดับ ปวดจนไม่สามารถทำงานได้\", \"ลักษณะปวดเป็นลูกๆ ไม่ใช่\", \"ขยับเอี้ยวตัว แย่ลง ไม่ใช่\", \"ประวัติอุบัติเหตุ ไม่ทราบ\"]}, {\"text\": \"ปวดหลัง\", \"answers\": [\"ร้าว ไม่มีร้าวไปที่ใด\", \"ชา ไม่ชา\", \"อ่อนแรง ไม่ทราบ\"]}, {\"text\": \"การรักษาก่อนหน้า\", \"answers\": [\"การรักษาก่อนหน้า ไม่เคย\"]}]}",
         "['ปวดบั้นเอว', 'ปวดหลัง']",
         "['ปวดเอว', 'ปวดหลัง']"
        ],
        [
         "44",
         "male",
         "39",
         "{\"diseases\": [], \"procedures\": [], \"no_symptoms\": [], \"idk_symptoms\": [], \"yes_symptoms\": [{\"text\": \"เป็นไข้\", \"answers\": [\"ระยะเวลา 1-3 วัน\", \"ระดับ ไข้ปานกลาง (38.3-39.0 องศาเศลเซียส)\", \"ประวัติ ATK ยังไม่ได้ทำ\"]}, {\"text\": \"ไอ\", \"answers\": [\"ระยะเวลา ไม่เกิน 1 สัปดาห์ (ไม่เกิน 7 วัน)\", \"ลักษณะ ไอไม่มีเสมหะ ไอแห้งๆ หรือไอเสมหะสีขาว\", \"ประวัติใกล้ชิดผู้ป่วยโควิด-19 ไม่ได้ใกล้ชิด\"]}, {\"text\": \"การรักษาก่อนหน้า\", \"answers\": [\"การรักษาก่อนหน้า ไม่เคย\"]}]}",
         "['ไข้', 'ไอ']",
         "['เป็นไข้', 'ไอ']"
        ],
        [
         "45",
         "female",
         "44",
         "{\"diseases\": [], \"procedures\": [], \"no_symptoms\": [], \"idk_symptoms\": [], \"yes_symptoms\": [{\"text\": \"ไอ\", \"answers\": [\"ระยะเวลา 1-3 สัปดาห์\", \"ลักษณะ ไอไม่มีเสมหะ ไอแห้งๆ หรือไอเสมหะสีขาว\"]}, {\"text\": \"น้ำมูกไหล\", \"answers\": [\"ระยะเวลา น้อยกว่า 10 วัน\", \"ประวัติ ATK ยังไม่ได้ทำ\", \"ประวัติใกล้ชิดผู้ป่วยโควิด-19 ไม่ได้ใกล้ชิด\"]}, {\"text\": \"การรักษาก่อนหน้า\", \"answers\": [\"การรักษาก่อนหน้า เคยทานยาเองแล้วไม่ดีขึ้น\"]}]}",
         "['ไอ', 'น้ำมูกไหลมีเสมหะ']",
         "['ไอ', 'น้ำมูกไหล']"
        ],
        [
         "46",
         "female",
         "37",
         "{\"diseases\": [], \"procedures\": [], \"no_symptoms\": [], \"idk_symptoms\": [], \"yes_symptoms\": [{\"text\": \"เสมหะ\", \"answers\": [\"ลักษณะ เสมหะสีขาว\"]}, {\"text\": \"น้ำมูกไหล\", \"answers\": [\"ระยะเวลา น้อยกว่า 10 วัน\", \"ประวัติ ATK ยังไม่ได้ทำ\", \"ประวัติใกล้ชิดผู้ป่วยโควิด-19 ไม่ได้ใกล้ชิด\"]}, {\"text\": \"การรักษาก่อนหน้า\", \"answers\": [\"การรักษาก่อนหน้า ไม่เคย\"]}]}",
         "['มีเสมหะ', 'น้ำมูกไหลคัดจมูก']",
         "['เสมหะ', 'น้ำมูกไหล']"
        ],
        [
         "47",
         "female",
         "23",
         "{\"diseases\": [], \"procedures\": [], \"no_symptoms\": [], \"idk_symptoms\": [], \"yes_symptoms\": [{\"text\": \"เป็นไข้\", \"answers\": [\"ระยะเวลา 1-3 วัน\", \"ระดับ ไข้ปานกลาง (38.3-39.0 องศาเศลเซียส)\", \"ประวัติ ATK ยังไม่ได้ทำ\"]}, {\"text\": \"เจ็บคอ\", \"answers\": [\"บริเวณ ในลำคอ\", \"ประวัติใกล้ชิดผู้ป่วยโควิด-19 ไม่ได้ใกล้ชิด\"]}, {\"text\": \"การรักษาก่อนหน้า\", \"answers\": [\"การรักษาก่อนหน้า ไม่เคย\"]}]}",
         "['ไข้', 'เจ็บคอ']",
         "['เป็นไข้', 'เจ็บคอ']"
        ],
        [
         "48",
         "female",
         "40",
         "{\"diseases\": [], \"procedures\": [], \"no_symptoms\": [], \"idk_symptoms\": [], \"yes_symptoms\": [{\"text\": \"ปวดข้อ\", \"answers\": [\"ตำแหน่ง ข้อศอก\", \"จำนวนข้อที่ปวด 1 ข้อ\", \"ระดับ ปวดเล็กน้อย ส่งผลต่อการดำเนินกิจวัตรประจำวันบ้าง\", \"ประวัติอุบัติเหตุ ไม่ทราบ\"]}, {\"text\": \"ปวดเมื่อยกล้ามเนื้อ\", \"answers\": []}, {\"text\": \"การรักษาก่อนหน้า\", \"answers\": [\"การรักษาก่อนหน้า ไม่เคย\"]}]}",
         "['ปวดข้อ', 'ปวดเมื่อยกล้ามเนื้อทั่วๆ']",
         "['ปวดข้อ', 'ปวดเมื่อยกล้ามเนื้อ']"
        ],
        [
         "49",
         "male",
         "44",
         "{\"diseases\": [], \"procedures\": [], \"no_symptoms\": [], \"idk_symptoms\": [], \"yes_symptoms\": [{\"text\": \"ท้องเสีย\", \"answers\": [\"ลักษณะ อุจจาระเป็นน้ำ หรือเป็นเนื้อเหลว\"]}, {\"text\": \"ปวดท้อง\", \"answers\": [\"บริเวณ รอบๆสะดือ\", \"ระยะเวลา ตั้งแต่ 1 วัน ถึง 1 สัปดาห์\", \"ระดับ ปวดจนไม่สามารถทำงานได้\"]}, {\"text\": \"การรักษาก่อนหน้า\", \"answers\": [\"การรักษาก่อนหน้า ไม่เคย\"]}]}",
         "['ท้องเสีย', 'ปวดท้อง']",
         "['ท้องเสีย', 'ปวดท้อง']"
        ]
       ],
       "shape": {
        "columns": 5,
        "rows": 1000
       }
      },
      "text/html": [
       "<div>\n",
       "<style scoped>\n",
       "    .dataframe tbody tr th:only-of-type {\n",
       "        vertical-align: middle;\n",
       "    }\n",
       "\n",
       "    .dataframe tbody tr th {\n",
       "        vertical-align: top;\n",
       "    }\n",
       "\n",
       "    .dataframe thead th {\n",
       "        text-align: right;\n",
       "    }\n",
       "</style>\n",
       "<table border=\"1\" class=\"dataframe\">\n",
       "  <thead>\n",
       "    <tr style=\"text-align: right;\">\n",
       "      <th></th>\n",
       "      <th>gender</th>\n",
       "      <th>age</th>\n",
       "      <th>summary</th>\n",
       "      <th>search_term</th>\n",
       "      <th>yes_symptoms</th>\n",
       "    </tr>\n",
       "  </thead>\n",
       "  <tbody>\n",
       "    <tr>\n",
       "      <th>0</th>\n",
       "      <td>male</td>\n",
       "      <td>28</td>\n",
       "      <td>{\"diseases\": [], \"procedures\": [], \"no_symptom...</td>\n",
       "      <td>[มีเสมหะ, ไอ]</td>\n",
       "      <td>[เสมหะ, ไอ]</td>\n",
       "    </tr>\n",
       "    <tr>\n",
       "      <th>1</th>\n",
       "      <td>male</td>\n",
       "      <td>27</td>\n",
       "      <td>{\"diseases\": [], \"procedures\": [], \"no_symptom...</td>\n",
       "      <td>[ไอ, น้ำมูกไหล]</td>\n",
       "      <td>[ไอ, น้ำมูกไหล]</td>\n",
       "    </tr>\n",
       "    <tr>\n",
       "      <th>2</th>\n",
       "      <td>female</td>\n",
       "      <td>26</td>\n",
       "      <td>{\"diseases\": [], \"procedures\": [], \"no_symptom...</td>\n",
       "      <td>[ปวดท้อง]</td>\n",
       "      <td>[ปวดท้อง]</td>\n",
       "    </tr>\n",
       "    <tr>\n",
       "      <th>3</th>\n",
       "      <td>male</td>\n",
       "      <td>42</td>\n",
       "      <td>{\"diseases\": [], \"procedures\": [], \"no_symptom...</td>\n",
       "      <td>[น้ำมูกไหล]</td>\n",
       "      <td>[น้ำมูกไหล]</td>\n",
       "    </tr>\n",
       "    <tr>\n",
       "      <th>4</th>\n",
       "      <td>female</td>\n",
       "      <td>40</td>\n",
       "      <td>{\"diseases\": [], \"procedures\": [], \"no_symptom...</td>\n",
       "      <td>[ตาแห้ง]</td>\n",
       "      <td>[ตาแห้ง]</td>\n",
       "    </tr>\n",
       "    <tr>\n",
       "      <th>...</th>\n",
       "      <td>...</td>\n",
       "      <td>...</td>\n",
       "      <td>...</td>\n",
       "      <td>...</td>\n",
       "      <td>...</td>\n",
       "    </tr>\n",
       "    <tr>\n",
       "      <th>995</th>\n",
       "      <td>male</td>\n",
       "      <td>38</td>\n",
       "      <td>{\"diseases\": [], \"procedures\": [], \"no_symptom...</td>\n",
       "      <td>[บวม, ปวดข้อ]</td>\n",
       "      <td>[บวมตามร่างกาย, ปวดข้อ, ปวดขา, ปวดขา]</td>\n",
       "    </tr>\n",
       "    <tr>\n",
       "      <th>996</th>\n",
       "      <td>male</td>\n",
       "      <td>33</td>\n",
       "      <td>{\"diseases\": [], \"procedures\": [], \"no_symptom...</td>\n",
       "      <td>[เจ็บคอ]</td>\n",
       "      <td>[เจ็บคอ]</td>\n",
       "    </tr>\n",
       "    <tr>\n",
       "      <th>997</th>\n",
       "      <td>male</td>\n",
       "      <td>45</td>\n",
       "      <td>{\"diseases\": [], \"procedures\": [], \"no_symptom...</td>\n",
       "      <td>[ไข้]</td>\n",
       "      <td>[เป็นไข้]</td>\n",
       "    </tr>\n",
       "    <tr>\n",
       "      <th>998</th>\n",
       "      <td>female</td>\n",
       "      <td>73</td>\n",
       "      <td>{\"diseases\": [], \"procedures\": [], \"no_symptom...</td>\n",
       "      <td>[ไข้]</td>\n",
       "      <td>[เป็นไข้]</td>\n",
       "    </tr>\n",
       "    <tr>\n",
       "      <th>999</th>\n",
       "      <td>male</td>\n",
       "      <td>31</td>\n",
       "      <td>{\"diseases\": [], \"procedures\": [], \"no_symptom...</td>\n",
       "      <td>[ผื่น]</td>\n",
       "      <td>[ผื่น]</td>\n",
       "    </tr>\n",
       "  </tbody>\n",
       "</table>\n",
       "<p>1000 rows × 5 columns</p>\n",
       "</div>"
      ],
      "text/plain": [
       "     gender  age                                            summary  \\\n",
       "0      male   28  {\"diseases\": [], \"procedures\": [], \"no_symptom...   \n",
       "1      male   27  {\"diseases\": [], \"procedures\": [], \"no_symptom...   \n",
       "2    female   26  {\"diseases\": [], \"procedures\": [], \"no_symptom...   \n",
       "3      male   42  {\"diseases\": [], \"procedures\": [], \"no_symptom...   \n",
       "4    female   40  {\"diseases\": [], \"procedures\": [], \"no_symptom...   \n",
       "..      ...  ...                                                ...   \n",
       "995    male   38  {\"diseases\": [], \"procedures\": [], \"no_symptom...   \n",
       "996    male   33  {\"diseases\": [], \"procedures\": [], \"no_symptom...   \n",
       "997    male   45  {\"diseases\": [], \"procedures\": [], \"no_symptom...   \n",
       "998  female   73  {\"diseases\": [], \"procedures\": [], \"no_symptom...   \n",
       "999    male   31  {\"diseases\": [], \"procedures\": [], \"no_symptom...   \n",
       "\n",
       "         search_term                           yes_symptoms  \n",
       "0      [มีเสมหะ, ไอ]                            [เสมหะ, ไอ]  \n",
       "1    [ไอ, น้ำมูกไหล]                        [ไอ, น้ำมูกไหล]  \n",
       "2          [ปวดท้อง]                              [ปวดท้อง]  \n",
       "3        [น้ำมูกไหล]                            [น้ำมูกไหล]  \n",
       "4           [ตาแห้ง]                               [ตาแห้ง]  \n",
       "..               ...                                    ...  \n",
       "995    [บวม, ปวดข้อ]  [บวมตามร่างกาย, ปวดข้อ, ปวดขา, ปวดขา]  \n",
       "996         [เจ็บคอ]                               [เจ็บคอ]  \n",
       "997            [ไข้]                              [เป็นไข้]  \n",
       "998            [ไข้]                              [เป็นไข้]  \n",
       "999           [ผื่น]                                 [ผื่น]  \n",
       "\n",
       "[1000 rows x 5 columns]"
      ]
     },
     "execution_count": 18,
     "metadata": {},
     "output_type": "execute_result"
    }
   ],
   "source": [
    "df"
   ]
  },
  {
   "cell_type": "code",
   "execution_count": 17,
   "id": "156a1c53",
   "metadata": {},
   "outputs": [
    {
     "name": "stdout",
     "output_type": "stream",
     "text": [
      "Training model on 800 patients.\n",
      "Model training complete.\n",
      "\n",
      "Evaluating model on 200 unseen patients.\n",
      "\n",
      "--- Evaluation Results (Top 5 Recommendations) ---\n",
      "Hit Rate@5: 0.6915\n",
      "Average Recall@5: 0.6613\n",
      "Mean Reciprocal Rate(MRR)@5: 0.4853\n"
     ]
    }
   ],
   "source": [
    "def evaluate_full_recommender_system(full_df, symptom_vocab_with_aliases, k=5):\n",
    "    # display(full_df)\n",
    "    # Split the entire dataset into training and testing sets of patients\n",
    "    train_df, test_df = train_test_split(full_df, test_size=0.2, random_state=42)\n",
    "\n",
    "    # Train the similarity model ONLY on the training data\n",
    "    print(f\"Training model on {len(train_df)} patients.\")\n",
    "    mlb = MultiLabelBinarizer()\n",
    "    train_matrix = mlb.fit_transform(train_df['yes_symptoms'])\n",
    "    \n",
    "    # Ensure all symptoms from the test set are in the model's columns, even if with all zeros\n",
    "    all_symptoms = set(s for sublist in full_df['yes_symptoms'] for s in sublist)\n",
    "    mlb.classes_ = np.array(sorted(list(all_symptoms)))\n",
    "    \n",
    "    # Re-transform with the full symptom vocabulary\n",
    "    train_matrix = mlb.fit_transform(train_df['yes_symptoms'])\n",
    "    train_df = pd.DataFrame(train_matrix, columns=mlb.classes_)\n",
    "\n",
    "    similarity_matrix_train_only = cosine_similarity(train_df.T)\n",
    "    similarity_df_train_only = pd.DataFrame(\n",
    "        similarity_matrix_train_only,\n",
    "        index=train_df.columns,\n",
    "        columns=train_df.columns\n",
    "    )\n",
    "    print(\"Model training complete.\\n\")\n",
    "\n",
    "    # Evaluate ONLY on the test data\n",
    "    print(f\"Evaluating model on {len(test_df)} unseen patients.\")\n",
    "    all_hits = []\n",
    "    all_precisions = []\n",
    "    all_recalls = []\n",
    "    mrr = []\n",
    "    all_test_set_patients = 0\n",
    "    for _ , patient in test_df.iterrows():\n",
    "        search_term_input = patient['search_term']\n",
    "        true_symptoms_set = set(patient['yes_symptoms'])\n",
    "        # print(1, search_term_input)\n",
    "        # print(2, true_symptoms_set)\n",
    "        nlu_extracted_symptoms = set(extract_symptoms_from_search_terms(', '.join(search_term_input), symptom_vocab_with_aliases))\n",
    "        # print(extract_symptoms_from_search_terms(', '.join(search_term_input), symptom_vocab_with_aliases))\n",
    "        # print(3, nlu_extracted_symptoms)\n",
    "        hold_out_set = set(true_symptoms_set) - nlu_extracted_symptoms\n",
    "        # print(4, hold_out_set)\n",
    "        if not hold_out_set:\n",
    "            continue\n",
    "        \n",
    "        all_test_set_patients += 1\n",
    "        input_set = ', '.join(search_term_input)\n",
    "        # print(input_set)\n",
    "        # print(hold_out_set)\n",
    "        # Use the model trained ONLY on training data to make predictions (similarity_df_train_only)\n",
    "        recommendations = get_symtom_without_print_recommendations(input_set, similarity_df_train_only, symptom_vocab_with_aliases, top_n=k)['next_symptom_recommendations']\n",
    "\n",
    "\n",
    "        # Compare recommendations to the hold-out set to find hits\n",
    "        hits = len(set(recommendations) & set(hold_out_set))\n",
    "        all_hits.append(hits)\n",
    "        all_precisions.append(hits / k)\n",
    "        all_recalls.append(hits / len(hold_out_set))\n",
    "        try:\n",
    "            mrr.append(1 / (recommendations.index(list(hold_out_set)[0]) + 1))\n",
    "        except:\n",
    "            mrr.append(0)\n",
    "\n",
    "    # Calculate average metrics across all patients\n",
    "    hit_rate = np.mean([1 if h > 0 else 0 for h in all_hits])\n",
    "    mrr_rate = np.mean(mrr)\n",
    "    avg_recall = np.mean(all_recalls) if all_recalls else 0\n",
    "    \n",
    "    return {\"hit_rate_at_k\": hit_rate , \"recall_at_k\": avg_recall, 'mrr_rate': mrr_rate}\n",
    "\n",
    "\n",
    "# --- Main Evaluation ---\n",
    "K_VALUE = 5\n",
    "results = evaluate_full_recommender_system(df, symptom_vocab_with_aliases, k=K_VALUE)\n",
    "\n",
    "print(f\"\\n--- Evaluation Results (Top {K_VALUE} Recommendations) ---\")\n",
    "print(f\"Hit Rate@{K_VALUE}: {results['hit_rate_at_k']:.4f}\")\n",
    "print(f\"Average Recall@{K_VALUE}: {results['recall_at_k']:.4f}\")\n",
    "print(f\"Mean Reciprocal Rate(MRR)@{K_VALUE}: {results['mrr_rate']:.4f}\") # Rank of first relevant item"
   ]
  },
  {
   "cell_type": "code",
   "execution_count": null,
   "id": "1ba2344d",
   "metadata": {},
   "outputs": [],
   "source": []
  }
 ],
 "metadata": {
  "kernelspec": {
   "display_name": "venv",
   "language": "python",
   "name": "python3"
  },
  "language_info": {
   "codemirror_mode": {
    "name": "ipython",
    "version": 3
   },
   "file_extension": ".py",
   "mimetype": "text/x-python",
   "name": "python",
   "nbconvert_exporter": "python",
   "pygments_lexer": "ipython3",
   "version": "3.12.9"
  }
 },
 "nbformat": 4,
 "nbformat_minor": 5
}
